{
 "cells": [
  {
   "cell_type": "markdown",
   "metadata": {
    "application/vnd.databricks.v1+cell": {
     "cellMetadata": {
      "byteLimit": 2048000,
      "rowLimit": 10000
     },
     "inputWidgets": {},
     "nuid": "a20cf746-ac6d-475c-b25b-978a91226fff",
     "showTitle": false,
     "tableResultSettingsMap": {},
     "title": ""
    }
   },
   "source": [
    "## \uD83D\uDD11 Notebook Overview\n",
    "1. Setup & Configuration  \n",
    "2. Creating DataFrames (manual, CSV, JSON, Parquet)  \n",
    "3. Data Inspection  \n",
    "4. Column Selection, Renaming, Casting  \n",
    "5. Filtering and Conditional Logic  \n",
    "6. Column Expressions & Functions  \n",
    "7. Complex Columns (arrays, structs, maps)  \n",
    "8. Aggregations & groupBy  \n",
    "9. Joins  \n",
    "10. Window Functions  \n",
    "11. Pivoting & Melting  \n",
    "12. Missing Data Handling  \n",
    "13. Sorting, Deduplication, Sampling  \n",
    "14. Exploding Arrays & Nested JSON  \n",
    "15. UDFs & Pandas UDFs  \n",
    "16. Optimization & Explain Plans  \n",
    "17. Writing Data  \n",
    "18. Final Summary"
   ]
  },
  {
   "cell_type": "code",
   "execution_count": 0,
   "metadata": {
    "application/vnd.databricks.v1+cell": {
     "cellMetadata": {
      "byteLimit": 2048000,
      "rowLimit": 10000
     },
     "inputWidgets": {},
     "nuid": "66c625b6-56e5-4e3a-893d-f30ac36d6ccf",
     "showTitle": false,
     "tableResultSettingsMap": {},
     "title": ""
    }
   },
   "outputs": [
    {
     "output_type": "execute_result",
     "data": {
      "text/plain": [
       "<pyspark.sql.connect.session.SparkSession at 0xff7ef8213380>"
      ]
     },
     "execution_count": 6,
     "metadata": {},
     "output_type": "execute_result"
    }
   ],
   "source": [
    "from pyspark.sql import SparkSession\n",
    "from pyspark.sql.functions import *\n",
    "from pyspark.sql.types import *\n",
    "from pyspark.sql.window import Window\n",
    "\n",
    "spark = SparkSession.builder\\\n",
    "        .appName(\"PySpark Data Transformations Masterclass\")\\\n",
    "        .config(\"spark.sql.shuffle.partitions\", \"4\")\\\n",
    "        .getOrCreate()\n",
    "\n",
    "spark"
   ]
  },
  {
   "cell_type": "markdown",
   "metadata": {
    "application/vnd.databricks.v1+cell": {
     "cellMetadata": {},
     "inputWidgets": {},
     "nuid": "da175e57-b915-4919-b8c8-06cd55745e84",
     "showTitle": false,
     "tableResultSettingsMap": {},
     "title": ""
    }
   },
   "source": [
    "## 2️⃣ Creating DataFrames"
   ]
  },
  {
   "cell_type": "code",
   "execution_count": 0,
   "metadata": {
    "application/vnd.databricks.v1+cell": {
     "cellMetadata": {
      "byteLimit": 2048000,
      "rowLimit": 10000
     },
     "inputWidgets": {},
     "nuid": "adc1f134-5eec-4ada-87d0-a1ae56d4fd92",
     "showTitle": false,
     "tableResultSettingsMap": {},
     "title": ""
    }
   },
   "outputs": [
    {
     "output_type": "stream",
     "name": "stdout",
     "output_type": "stream",
     "text": [
      "+--------+------+-----+-----+----------+\n|category|region|value|sales|      date|\n+--------+------+-----+-----+----------+\n|       A| North|   10|100.5|2024-01-01|\n|       B| South|   20|200.0|2024-01-02|\n|       C|  East|   30|300.0|2024-01-03|\n|       D|  West|   40|400.0|2024-01-04|\n|       E| North|   50|500.0|2024-01-05|\n|       F| South|   60|600.0|2024-01-06|\n|       G|  East|   70| NULL|2024-01-07|\n+--------+------+-----+-----+----------+\n\n"
     ]
    }
   ],
   "source": [
    "data = [\n",
    "    (\"A\", \"North\", 10, 100.5, \"2024-01-01\"),\n",
    "    (\"B\", \"South\", 20, 200.0, \"2024-01-02\"),\n",
    "    (\"C\", \"East\", 30, 300.0, \"2024-01-03\"),\n",
    "    (\"D\", \"West\", 40, 400.0, \"2024-01-04\"),\n",
    "    (\"E\", \"North\", 50, 500.0, \"2024-01-05\"),\n",
    "    (\"F\", \"South\", 60, 600.0, \"2024-01-06\"),\n",
    "    (\"G\", \"East\", 70, None, \"2024-01-07\")\n",
    "]\n",
    "\n",
    "schema = StructType([\n",
    "    StructField(\"category\", StringType()),\n",
    "    StructField(\"region\", StringType()),\n",
    "    StructField(\"value\", IntegerType()),\n",
    "    StructField(\"sales\", DoubleType()),\n",
    "    StructField(\"date\", StringType())\n",
    "])\n",
    "\n",
    "df = spark.createDataFrame(data, schema)\n",
    "df.show()"
   ]
  },
  {
   "cell_type": "markdown",
   "metadata": {
    "application/vnd.databricks.v1+cell": {
     "cellMetadata": {},
     "inputWidgets": {},
     "nuid": "dff7cc0b-838e-4142-a527-d9f10c0b4f17",
     "showTitle": false,
     "tableResultSettingsMap": {},
     "title": ""
    }
   },
   "source": [
    "## 3️⃣ Inspecting Data"
   ]
  },
  {
   "cell_type": "code",
   "execution_count": 0,
   "metadata": {
    "application/vnd.databricks.v1+cell": {
     "cellMetadata": {
      "byteLimit": 2048000,
      "rowLimit": 10000
     },
     "inputWidgets": {},
     "nuid": "fcde4b83-add6-49ef-b681-d97436c57a6a",
     "showTitle": false,
     "tableResultSettingsMap": {},
     "title": ""
    }
   },
   "outputs": [
    {
     "output_type": "stream",
     "name": "stdout",
     "output_type": "stream",
     "text": [
      "root\n |-- category: string (nullable = true)\n |-- region: string (nullable = true)\n |-- value: integer (nullable = true)\n |-- sales: double (nullable = true)\n |-- date: string (nullable = true)\n\n+-------+--------+------+------------------+-----------------+----------+\n|summary|category|region|             value|            sales|      date|\n+-------+--------+------+------------------+-----------------+----------+\n|  count|       7|     7|                 7|                6|         7|\n|   mean|    NULL|  NULL|              40.0|350.0833333333333|      NULL|\n| stddev|    NULL|  NULL|21.602468994692867|186.9493023968441|      NULL|\n|    min|       A|  East|                10|            100.5|2024-01-01|\n|    max|       G|  West|                70|            600.0|2024-01-07|\n+-------+--------+------+------------------+-----------------+----------+\n\n+-------+--------+------+------------------+-----------------+----------+\n|summary|category|region|             value|            sales|      date|\n+-------+--------+------+------------------+-----------------+----------+\n|  count|       7|     7|                 7|                6|         7|\n|   mean|    NULL|  NULL|              40.0|350.0833333333333|      NULL|\n| stddev|    NULL|  NULL|21.602468994692867|186.9493023968441|      NULL|\n|    min|       A|  East|                10|            100.5|2024-01-01|\n|    25%|    NULL|  NULL|                20|            200.0|      NULL|\n|    50%|    NULL|  NULL|                40|            300.0|      NULL|\n|    75%|    NULL|  NULL|                60|            500.0|      NULL|\n|    max|       G|  West|                70|            600.0|2024-01-07|\n+-------+--------+------+------------------+-----------------+----------+\n\n"
     ]
    },
    {
     "output_type": "execute_result",
     "data": {
      "text/html": [
       "<div>\n",
       "<style scoped>\n",
       "    .dataframe tbody tr th:only-of-type {\n",
       "        vertical-align: middle;\n",
       "    }\n",
       "\n",
       "    .dataframe tbody tr th {\n",
       "        vertical-align: top;\n",
       "    }\n",
       "\n",
       "    .dataframe thead th {\n",
       "        text-align: right;\n",
       "    }\n",
       "</style>\n",
       "<table border=\"1\" class=\"dataframe\">\n",
       "  <thead>\n",
       "    <tr style=\"text-align: right;\">\n",
       "      <th></th>\n",
       "      <th>category</th>\n",
       "      <th>region</th>\n",
       "      <th>value</th>\n",
       "      <th>sales</th>\n",
       "      <th>date</th>\n",
       "    </tr>\n",
       "  </thead>\n",
       "  <tbody>\n",
       "    <tr>\n",
       "      <th>0</th>\n",
       "      <td>A</td>\n",
       "      <td>North</td>\n",
       "      <td>10</td>\n",
       "      <td>100.5</td>\n",
       "      <td>2024-01-01</td>\n",
       "    </tr>\n",
       "    <tr>\n",
       "      <th>1</th>\n",
       "      <td>B</td>\n",
       "      <td>South</td>\n",
       "      <td>20</td>\n",
       "      <td>200.0</td>\n",
       "      <td>2024-01-02</td>\n",
       "    </tr>\n",
       "    <tr>\n",
       "      <th>2</th>\n",
       "      <td>C</td>\n",
       "      <td>East</td>\n",
       "      <td>30</td>\n",
       "      <td>300.0</td>\n",
       "      <td>2024-01-03</td>\n",
       "    </tr>\n",
       "    <tr>\n",
       "      <th>3</th>\n",
       "      <td>D</td>\n",
       "      <td>West</td>\n",
       "      <td>40</td>\n",
       "      <td>400.0</td>\n",
       "      <td>2024-01-04</td>\n",
       "    </tr>\n",
       "    <tr>\n",
       "      <th>4</th>\n",
       "      <td>E</td>\n",
       "      <td>North</td>\n",
       "      <td>50</td>\n",
       "      <td>500.0</td>\n",
       "      <td>2024-01-05</td>\n",
       "    </tr>\n",
       "  </tbody>\n",
       "</table>\n",
       "</div>"
      ],
      "text/plain": [
       "  category region  value  sales        date\n",
       "0        A  North     10  100.5  2024-01-01\n",
       "1        B  South     20  200.0  2024-01-02\n",
       "2        C   East     30  300.0  2024-01-03\n",
       "3        D   West     40  400.0  2024-01-04\n",
       "4        E  North     50  500.0  2024-01-05"
      ]
     },
     "execution_count": 10,
     "metadata": {},
     "output_type": "execute_result"
    }
   ],
   "source": [
    "df.printSchema()\n",
    "df.describe().show()\n",
    "df.summary().show()\n",
    "df.limit(5).toPandas()"
   ]
  },
  {
   "cell_type": "markdown",
   "metadata": {
    "application/vnd.databricks.v1+cell": {
     "cellMetadata": {},
     "inputWidgets": {},
     "nuid": "18bf0e7f-27e6-465d-9bf0-d419c42b22ee",
     "showTitle": false,
     "tableResultSettingsMap": {},
     "title": ""
    }
   },
   "source": [
    "## 4️⃣ Select, Rename, and Cast Columns"
   ]
  },
  {
   "cell_type": "code",
   "execution_count": 0,
   "metadata": {
    "application/vnd.databricks.v1+cell": {
     "cellMetadata": {
      "byteLimit": 2048000,
      "rowLimit": 10000
     },
     "inputWidgets": {},
     "nuid": "980d1ed2-d836-49b3-af7f-064048fb20c4",
     "showTitle": false,
     "tableResultSettingsMap": {},
     "title": ""
    }
   },
   "outputs": [
    {
     "output_type": "stream",
     "name": "stdout",
     "output_type": "stream",
     "text": [
      "+--------+------+-----+\n|category|region|sales|\n+--------+------+-----+\n|       A| North|100.5|\n|       B| South|200.0|\n|       C|  East|300.0|\n|       D|  West|400.0|\n|       E| North|500.0|\n|       F| South|600.0|\n|       G|  East| NULL|\n+--------+------+-----+\n\n+--------+------+-----+-----------+----------+\n|category|region|value|total_sales|      date|\n+--------+------+-----+-----------+----------+\n|       A| North|   10|      100.5|2024-01-01|\n|       B| South|   20|      200.0|2024-01-02|\n|       C|  East|   30|      300.0|2024-01-03|\n|       D|  West|   40|      400.0|2024-01-04|\n|       E| North|   50|      500.0|2024-01-05|\n|       F| South|   60|      600.0|2024-01-06|\n|       G|  East|   70|       NULL|2024-01-07|\n+--------+------+-----+-----------+----------+\n\nroot\n |-- category: string (nullable = true)\n |-- region: string (nullable = true)\n |-- value: integer (nullable = true)\n |-- sales: decimal(10,2) (nullable = true)\n |-- date: string (nullable = true)\n\n"
     ]
    }
   ],
   "source": [
    "df.select(\"category\", \"region\", \"sales\").show()\n",
    "df.withColumnRenamed(\"sales\", \"total_sales\").show()\n",
    "df.withColumn(\"sales\", col(\"sales\").cast(\"decimal(10,2)\")).printSchema()"
   ]
  },
  {
   "cell_type": "markdown",
   "metadata": {
    "application/vnd.databricks.v1+cell": {
     "cellMetadata": {},
     "inputWidgets": {},
     "nuid": "1eb3c207-7587-4e8d-bcbb-5d9c8cd05e0c",
     "showTitle": false,
     "tableResultSettingsMap": {},
     "title": ""
    }
   },
   "source": [
    "## 5️⃣ Filtering and Conditional Logic"
   ]
  },
  {
   "cell_type": "code",
   "execution_count": 0,
   "metadata": {
    "application/vnd.databricks.v1+cell": {
     "cellMetadata": {
      "byteLimit": 2048000,
      "rowLimit": 10000
     },
     "inputWidgets": {},
     "nuid": "977b71e2-7ee5-4279-9183-a6ae2e24997c",
     "showTitle": false,
     "tableResultSettingsMap": {},
     "title": ""
    }
   },
   "outputs": [
    {
     "output_type": "stream",
     "name": "stdout",
     "output_type": "stream",
     "text": [
      "+--------+------+-----+-----+----------+\n|category|region|value|sales|      date|\n+--------+------+-----+-----+----------+\n|       D|  West|   40|400.0|2024-01-04|\n|       E| North|   50|500.0|2024-01-05|\n|       F| South|   60|600.0|2024-01-06|\n|       G|  East|   70| NULL|2024-01-07|\n+--------+------+-----+-----+----------+\n\n+--------+------+-----+-----+----------+\n|category|region|value|sales|      date|\n+--------+------+-----+-----+----------+\n|       A| North|   10|100.5|2024-01-01|\n|       C|  East|   30|300.0|2024-01-03|\n|       E| North|   50|500.0|2024-01-05|\n|       G|  East|   70| NULL|2024-01-07|\n+--------+------+-----+-----+----------+\n\n+--------+------+-----+-----+----------+\n|category|region|value|sales|      date|\n+--------+------+-----+-----+----------+\n|       A| North|   10|100.5|2024-01-01|\n+--------+------+-----+-----+----------+\n\n+--------+------+-----+-----+----------+-------+\n|category|region|value|sales|      date|segment|\n+--------+------+-----+-----+----------+-------+\n|       A| North|   10|100.5|2024-01-01|    Low|\n|       B| South|   20|200.0|2024-01-02|    Low|\n|       C|  East|   30|300.0|2024-01-03| Medium|\n|       D|  West|   40|400.0|2024-01-04| Medium|\n|       E| North|   50|500.0|2024-01-05| Medium|\n|       F| South|   60|600.0|2024-01-06|   High|\n|       G|  East|   70| NULL|2024-01-07|   High|\n+--------+------+-----+-----+----------+-------+\n\n"
     ]
    }
   ],
   "source": [
    "df.filter(col(\"value\") > 30).show()\n",
    "df.filter(col(\"region\").isin(\"North\", \"East\")).show()\n",
    "df.filter(col(\"category\").like(\"A%\")).show()\n",
    "\n",
    "df.withColumn(\"segment\",\n",
    "    when(col(\"value\") < 30, \"Low\")\n",
    "    .when(col(\"value\") < 60, \"Medium\")\n",
    "    .otherwise(\"High\")\n",
    ").show()"
   ]
  },
  {
   "cell_type": "markdown",
   "metadata": {
    "application/vnd.databricks.v1+cell": {
     "cellMetadata": {},
     "inputWidgets": {},
     "nuid": "2293f1e8-3531-42ac-ae88-19528978bf7a",
     "showTitle": false,
     "tableResultSettingsMap": {},
     "title": ""
    }
   },
   "source": [
    "## 6️⃣ Column Expressions & Built-in Functions"
   ]
  },
  {
   "cell_type": "code",
   "execution_count": 0,
   "metadata": {
    "application/vnd.databricks.v1+cell": {
     "cellMetadata": {
      "byteLimit": 2048000,
      "rowLimit": 10000
     },
     "inputWidgets": {},
     "nuid": "54758562-f70a-4f7f-b21e-e88241feb1ae",
     "showTitle": false,
     "tableResultSettingsMap": {},
     "title": ""
    }
   },
   "outputs": [
    {
     "output_type": "stream",
     "name": "stdout",
     "output_type": "stream",
     "text": [
      "+--------+------+-----+-----+----------+-----------------+---------+-------+----+\n|category|region|value|sales|      date|        sales_tax|net_sales|   info|year|\n+--------+------+-----+-----+----------+-----------------+---------+-------+----+\n|       A| North|   10|100.5|2024-01-01|8.040000000000001|    92.46|A-North|2024|\n|       B| South|   20|200.0|2024-01-02|             16.0|    184.0|B-South|2024|\n|       C|  East|   30|300.0|2024-01-03|             24.0|    276.0| C-East|2024|\n|       D|  West|   40|400.0|2024-01-04|             32.0|    368.0| D-West|2024|\n|       E| North|   50|500.0|2024-01-05|             40.0|    460.0|E-North|2024|\n|       F| South|   60|600.0|2024-01-06|             48.0|    552.0|F-South|2024|\n|       G|  East|   70| NULL|2024-01-07|             NULL|     NULL| G-East|2024|\n+--------+------+-----+-----+----------+-----------------+---------+-------+----+\n\n"
     ]
    }
   ],
   "source": [
    "df = df.withColumn(\"sales_tax\", col(\"sales\") * 0.08)\n",
    "df = df.withColumn(\"net_sales\", expr(\"sales - sales_tax\"))\n",
    "df = df.withColumn(\"info\", concat_ws(\"-\", col(\"category\"), col(\"region\")))\n",
    "df = df.withColumn(\"year\", year(to_date(col(\"date\"))))\n",
    "df.show()"
   ]
  },
  {
   "cell_type": "markdown",
   "metadata": {
    "application/vnd.databricks.v1+cell": {
     "cellMetadata": {},
     "inputWidgets": {},
     "nuid": "a03437f6-0fb2-4eac-aa78-b9697cd57476",
     "showTitle": false,
     "tableResultSettingsMap": {},
     "title": ""
    }
   },
   "source": [
    "## 7️⃣ Complex Columns (Arrays, Structs, Maps)"
   ]
  },
  {
   "cell_type": "code",
   "execution_count": 0,
   "metadata": {
    "application/vnd.databricks.v1+cell": {
     "cellMetadata": {},
     "inputWidgets": {},
     "nuid": "1aa7d909-c257-41ae-a9dd-147dd2b105cd",
     "showTitle": false,
     "tableResultSettingsMap": {},
     "title": ""
    }
   },
   "outputs": [],
   "source": [
    "\n",
    "df_complex = df.withColumn(\"tags\", array(lit(\"retail\"), col(\"region\"))) \\               \n",
    "            .withColumn(\"meta\", struct(col(\"value\"), col(\"sales\"))) \\              \n",
    "            .withColumn(\"mapping\", create_map(lit(\"category\"), col(\"category\")))\n",
    "df_complex.show(truncate=False)"
   ]
  },
  {
   "cell_type": "markdown",
   "metadata": {
    "application/vnd.databricks.v1+cell": {
     "cellMetadata": {},
     "inputWidgets": {},
     "nuid": "b72a80bd-2710-4bdc-9e53-5949e3ffa96a",
     "showTitle": false,
     "tableResultSettingsMap": {},
     "title": ""
    }
   },
   "source": [
    "## 8️⃣ Aggregations and groupBy"
   ]
  },
  {
   "cell_type": "code",
   "execution_count": 0,
   "metadata": {
    "application/vnd.databricks.v1+cell": {
     "cellMetadata": {
      "byteLimit": 2048000,
      "rowLimit": 10000
     },
     "inputWidgets": {},
     "nuid": "4c90984f-b374-4236-a09c-33e592214f96",
     "showTitle": false,
     "tableResultSettingsMap": {},
     "title": ""
    }
   },
   "outputs": [
    {
     "output_type": "stream",
     "name": "stdout",
     "output_type": "stream",
     "text": [
      "+------+-----+---------+-----------+---------+\n|region|count|avg_value|total_sales|max_sales|\n+------+-----+---------+-----------+---------+\n| South|    2|     40.0|      800.0|    600.0|\n| North|    2|     30.0|      600.5|    500.0|\n|  West|    1|     40.0|      400.0|    400.0|\n|  East|    2|     50.0|      300.0|    300.0|\n+------+-----+---------+-----------+---------+\n\n"
     ]
    }
   ],
   "source": [
    "df.groupBy(\"region\").agg(\n",
    "    count(\"*\").alias(\"count\"),\n",
    "    avg(\"value\").alias(\"avg_value\"),\n",
    "    sum(\"sales\").alias(\"total_sales\"),\n",
    "    max(\"sales\").alias(\"max_sales\")\n",
    ").orderBy(desc(\"total_sales\")).show()"
   ]
  },
  {
   "cell_type": "markdown",
   "metadata": {
    "application/vnd.databricks.v1+cell": {
     "cellMetadata": {},
     "inputWidgets": {},
     "nuid": "cbd226e5-fef3-4b2c-8261-f59e029e638b",
     "showTitle": false,
     "tableResultSettingsMap": {},
     "title": ""
    }
   },
   "source": [
    "## 9️⃣ Joins (Advanced)"
   ]
  },
  {
   "cell_type": "code",
   "execution_count": 0,
   "metadata": {
    "application/vnd.databricks.v1+cell": {
     "cellMetadata": {
      "byteLimit": 2048000,
      "rowLimit": 10000
     },
     "inputWidgets": {},
     "nuid": "114cdcbf-0819-4943-b9fb-cb7f5a4ce323",
     "showTitle": false,
     "tableResultSettingsMap": {},
     "title": ""
    }
   },
   "outputs": [
    {
     "output_type": "stream",
     "name": "stdout",
     "output_type": "stream",
     "text": [
      "+------+--------+-----+-----+----------+-----------------+---------+-------+----+------+\n|region|category|value|sales|      date|        sales_tax|net_sales|   info|year|  zone|\n+------+--------+-----+-----+----------+-----------------+---------+-------+----+------+\n| North|       A|   10|100.5|2024-01-01|8.040000000000001|    92.46|A-North|2024|Zone 1|\n| South|       B|   20|200.0|2024-01-02|             16.0|    184.0|B-South|2024|Zone 2|\n|  East|       C|   30|300.0|2024-01-03|             24.0|    276.0| C-East|2024|Zone 3|\n|  West|       D|   40|400.0|2024-01-04|             32.0|    368.0| D-West|2024|Zone 4|\n| North|       E|   50|500.0|2024-01-05|             40.0|    460.0|E-North|2024|Zone 1|\n| South|       F|   60|600.0|2024-01-06|             48.0|    552.0|F-South|2024|Zone 2|\n|  East|       G|   70| NULL|2024-01-07|             NULL|     NULL| G-East|2024|Zone 3|\n+------+--------+-----+-----+----------+-----------------+---------+-------+----+------+\n\n+------+--------+-----+-----+----+---------+---------+----+----+\n|region|category|value|sales|date|sales_tax|net_sales|info|year|\n+------+--------+-----+-----+----+---------+---------+----+----+\n+------+--------+-----+-----+----+---------+---------+----+----+\n\n"
     ]
    }
   ],
   "source": [
    "region_data = [(\"North\", \"Zone 1\"), (\"South\", \"Zone 2\"), (\"East\", \"Zone 3\"), (\"West\", \"Zone 4\")]\n",
    "region_df = spark.createDataFrame(region_data, [\"region\", \"zone\"])\n",
    "\n",
    "inner_join = df.join(region_df, \"region\", \"inner\")\n",
    "left_join = df.join(region_df, \"region\", \"left\")\n",
    "anti_join = df.join(region_df, \"region\", \"left_anti\")\n",
    "\n",
    "inner_join.show()\n",
    "anti_join.show()"
   ]
  },
  {
   "cell_type": "markdown",
   "metadata": {
    "application/vnd.databricks.v1+cell": {
     "cellMetadata": {},
     "inputWidgets": {},
     "nuid": "4552e087-202d-4667-9845-4b62c0456131",
     "showTitle": false,
     "tableResultSettingsMap": {},
     "title": ""
    }
   },
   "source": [
    "## \uD83D\uDD1F Window Functions (Rank, Lag, Cumulative)"
   ]
  },
  {
   "cell_type": "code",
   "execution_count": 0,
   "metadata": {
    "application/vnd.databricks.v1+cell": {
     "cellMetadata": {
      "byteLimit": 2048000,
      "rowLimit": 10000
     },
     "inputWidgets": {},
     "nuid": "6b55e93b-d29f-446d-9fc2-f91782fd75ca",
     "showTitle": false,
     "tableResultSettingsMap": {},
     "title": ""
    }
   },
   "outputs": [
    {
     "output_type": "stream",
     "name": "stdout",
     "output_type": "stream",
     "text": [
      "+--------+------+-----+-----+----------+-----------------+---------+-------+----+----+----------+---------+-------+\n|category|region|value|sales|      date|        sales_tax|net_sales|   info|year|rank|dense_rank|lag_sales|cum_sum|\n+--------+------+-----+-----+----------+-----------------+---------+-------+----+----+----------+---------+-------+\n|       C|  East|   30|300.0|2024-01-03|             24.0|    276.0| C-East|2024|   1|         1|     NULL|  300.0|\n|       G|  East|   70| NULL|2024-01-07|             NULL|     NULL| G-East|2024|   2|         2|    300.0|  300.0|\n|       E| North|   50|500.0|2024-01-05|             40.0|    460.0|E-North|2024|   1|         1|     NULL|  500.0|\n|       A| North|   10|100.5|2024-01-01|8.040000000000001|    92.46|A-North|2024|   2|         2|    500.0|  600.5|\n|       F| South|   60|600.0|2024-01-06|             48.0|    552.0|F-South|2024|   1|         1|     NULL|  600.0|\n|       B| South|   20|200.0|2024-01-02|             16.0|    184.0|B-South|2024|   2|         2|    600.0|  800.0|\n|       D|  West|   40|400.0|2024-01-04|             32.0|    368.0| D-West|2024|   1|         1|     NULL|  400.0|\n+--------+------+-----+-----+----------+-----------------+---------+-------+----+----+----------+---------+-------+\n\n"
     ]
    }
   ],
   "source": [
    "windowSpec = Window.partitionBy(\"region\").orderBy(col(\"sales\").desc())\n",
    "\n",
    "df_window = (df.withColumn(\"rank\", rank().over(windowSpec))\n",
    "             .withColumn(\"dense_rank\", dense_rank().over(windowSpec))\n",
    "             .withColumn(\"lag_sales\", lag(\"sales\").over(windowSpec))\n",
    "             .withColumn(\"cum_sum\", sum(\"sales\").over(windowSpec)))\n",
    "\n",
    "df_window.show()"
   ]
  },
  {
   "cell_type": "markdown",
   "metadata": {
    "application/vnd.databricks.v1+cell": {
     "cellMetadata": {},
     "inputWidgets": {},
     "nuid": "f4ec3c58-c079-4fbc-9530-00e3b2a2e3cb",
     "showTitle": false,
     "tableResultSettingsMap": {},
     "title": ""
    }
   },
   "source": [
    "## 1️⃣1️⃣ Pivoting & Melting"
   ]
  },
  {
   "cell_type": "code",
   "execution_count": 0,
   "metadata": {
    "application/vnd.databricks.v1+cell": {
     "cellMetadata": {
      "byteLimit": 2048000,
      "rowLimit": 10000
     },
     "inputWidgets": {},
     "nuid": "b3f9d688-5457-42f9-a0b2-231c3b241f16",
     "showTitle": false,
     "tableResultSettingsMap": {},
     "title": ""
    }
   },
   "outputs": [
    {
     "output_type": "stream",
     "name": "stdout",
     "output_type": "stream",
     "text": [
      "+--------+-----+-----+-----+-----+\n|category| East|North|South| West|\n+--------+-----+-----+-----+-----+\n|       A| NULL|100.5| NULL| NULL|\n|       B| NULL| NULL|200.0| NULL|\n|       C|300.0| NULL| NULL| NULL|\n|       D| NULL| NULL| NULL|400.0|\n|       E| NULL|500.0| NULL| NULL|\n|       F| NULL| NULL|600.0| NULL|\n|       G| NULL| NULL| NULL| NULL|\n+--------+-----+-----+-----+-----+\n\n+--------+------+-----------+\n|category|region|total_sales|\n+--------+------+-----------+\n|       A|  East|       NULL|\n|       A|  West|       NULL|\n|       A| North|      100.5|\n|       A| South|       NULL|\n|       B|  East|       NULL|\n|       B|  West|       NULL|\n|       B| North|       NULL|\n|       B| South|      200.0|\n|       C|  East|      300.0|\n|       C|  West|       NULL|\n|       C| North|       NULL|\n|       C| South|       NULL|\n|       D|  East|       NULL|\n|       D|  West|      400.0|\n|       D| North|       NULL|\n|       D| South|       NULL|\n|       E|  East|       NULL|\n|       E|  West|       NULL|\n|       E| North|      500.0|\n|       E| South|       NULL|\n+--------+------+-----------+\nonly showing top 20 rows\n"
     ]
    }
   ],
   "source": [
    "pivot_df = df.groupBy(\"category\").pivot(\"region\").agg(sum(\"sales\"))\n",
    "pivot_df.show()\n",
    "\n",
    "melted_df = pivot_df.selectExpr(\"category\", \n",
    "                                \"stack(4, 'East', East, 'West', West, 'North', North, 'South', South) as (region, total_sales)\")\n",
    "melted_df.show()"
   ]
  },
  {
   "cell_type": "markdown",
   "metadata": {
    "application/vnd.databricks.v1+cell": {
     "cellMetadata": {},
     "inputWidgets": {},
     "nuid": "a85e7b76-8721-4274-bbd0-9895c7c37f6c",
     "showTitle": false,
     "tableResultSettingsMap": {},
     "title": ""
    }
   },
   "source": [
    "## 1️⃣2️⃣ Missing Data Handling"
   ]
  },
  {
   "cell_type": "code",
   "execution_count": 0,
   "metadata": {
    "application/vnd.databricks.v1+cell": {
     "cellMetadata": {
      "byteLimit": 2048000,
      "rowLimit": 10000
     },
     "inputWidgets": {},
     "nuid": "8a4e38d1-d300-4936-9374-26f6a7155e1b",
     "showTitle": false,
     "tableResultSettingsMap": {},
     "title": ""
    }
   },
   "outputs": [
    {
     "output_type": "stream",
     "name": "stdout",
     "output_type": "stream",
     "text": [
      "+--------+------+-----+-----+----------+-----------------+---------+-------+----+\n|category|region|value|sales|      date|        sales_tax|net_sales|   info|year|\n+--------+------+-----+-----+----------+-----------------+---------+-------+----+\n|       A| North|   10|100.5|2024-01-01|8.040000000000001|    92.46|A-North|2024|\n|       B| South|   20|200.0|2024-01-02|             16.0|    184.0|B-South|2024|\n|       C|  East|   30|300.0|2024-01-03|             24.0|    276.0| C-East|2024|\n|       D|  West|   40|400.0|2024-01-04|             32.0|    368.0| D-West|2024|\n|       E| North|   50|500.0|2024-01-05|             40.0|    460.0|E-North|2024|\n|       F| South|   60|600.0|2024-01-06|             48.0|    552.0|F-South|2024|\n+--------+------+-----+-----+----------+-----------------+---------+-------+----+\n\n+--------+------+-----+-----+----------+-----------------+---------+-------+----+\n|category|region|value|sales|      date|        sales_tax|net_sales|   info|year|\n+--------+------+-----+-----+----------+-----------------+---------+-------+----+\n|       A| North|   10|100.5|2024-01-01|8.040000000000001|    92.46|A-North|2024|\n|       B| South|   20|200.0|2024-01-02|             16.0|    184.0|B-South|2024|\n|       C|  East|   30|300.0|2024-01-03|             24.0|    276.0| C-East|2024|\n|       D|  West|   40|400.0|2024-01-04|             32.0|    368.0| D-West|2024|\n|       E| North|   50|500.0|2024-01-05|             40.0|    460.0|E-North|2024|\n|       F| South|   60|600.0|2024-01-06|             48.0|    552.0|F-South|2024|\n|       G|  East|   70|  0.0|2024-01-07|             NULL|     NULL| G-East|2024|\n+--------+------+-----+-----+----------+-----------------+---------+-------+----+\n\n+--------+------+-----+-----+----------+-----------------+---------+-------+----+\n|category|region|value|sales|      date|        sales_tax|net_sales|   info|year|\n+--------+------+-----+-----+----------+-----------------+---------+-------+----+\n|       A| North|   10|100.5|2024-01-01|8.040000000000001|    92.46|A-North|2024|\n|       B| South|   20|200.0|2024-01-02|             16.0|    184.0|B-South|2024|\n|       C|     E|   30|300.0|2024-01-03|             24.0|    276.0| C-East|2024|\n|       D|     W|   40|400.0|2024-01-04|             32.0|    368.0| D-West|2024|\n|       E| North|   50|500.0|2024-01-05|             40.0|    460.0|E-North|2024|\n|       F| South|   60|600.0|2024-01-06|             48.0|    552.0|F-South|2024|\n|       G|     E|   70| NULL|2024-01-07|             NULL|     NULL| G-East|2024|\n+--------+------+-----+-----+----------+-----------------+---------+-------+----+\n\n"
     ]
    }
   ],
   "source": [
    "df.na.drop(subset=[\"sales\"]).show()\n",
    "df.na.fill({\"sales\": 0, \"region\": \"Unknown\"}).show()\n",
    "df.na.replace([\"East\", \"West\"], [\"E\", \"W\"], \"region\").show()"
   ]
  },
  {
   "cell_type": "markdown",
   "metadata": {
    "application/vnd.databricks.v1+cell": {
     "cellMetadata": {},
     "inputWidgets": {},
     "nuid": "a21625b8-f893-47a3-b063-d8904e41af5d",
     "showTitle": false,
     "tableResultSettingsMap": {},
     "title": ""
    }
   },
   "source": [
    "## 1️⃣3️⃣ Sorting, Deduplication, Sampling"
   ]
  },
  {
   "cell_type": "code",
   "execution_count": 0,
   "metadata": {
    "application/vnd.databricks.v1+cell": {
     "cellMetadata": {
      "byteLimit": 2048000,
      "rowLimit": 10000
     },
     "inputWidgets": {},
     "nuid": "ee23daea-4fca-4e71-8645-d0b880e29005",
     "showTitle": false,
     "tableResultSettingsMap": {},
     "title": ""
    }
   },
   "outputs": [
    {
     "output_type": "stream",
     "name": "stdout",
     "output_type": "stream",
     "text": [
      "+--------+------+-----+-----+----------+-----------------+---------+-------+----+\n|category|region|value|sales|      date|        sales_tax|net_sales|   info|year|\n+--------+------+-----+-----+----------+-----------------+---------+-------+----+\n|       F| South|   60|600.0|2024-01-06|             48.0|    552.0|F-South|2024|\n|       E| North|   50|500.0|2024-01-05|             40.0|    460.0|E-North|2024|\n|       D|  West|   40|400.0|2024-01-04|             32.0|    368.0| D-West|2024|\n|       C|  East|   30|300.0|2024-01-03|             24.0|    276.0| C-East|2024|\n|       B| South|   20|200.0|2024-01-02|             16.0|    184.0|B-South|2024|\n|       A| North|   10|100.5|2024-01-01|8.040000000000001|    92.46|A-North|2024|\n|       G|  East|   70| NULL|2024-01-07|             NULL|     NULL| G-East|2024|\n+--------+------+-----+-----+----------+-----------------+---------+-------+----+\n\n+--------+------+-----+-----+----------+-----------------+---------+-------+----+\n|category|region|value|sales|      date|        sales_tax|net_sales|   info|year|\n+--------+------+-----+-----+----------+-----------------+---------+-------+----+\n|       A| North|   10|100.5|2024-01-01|8.040000000000001|    92.46|A-North|2024|\n|       B| South|   20|200.0|2024-01-02|             16.0|    184.0|B-South|2024|\n|       C|  East|   30|300.0|2024-01-03|             24.0|    276.0| C-East|2024|\n|       D|  West|   40|400.0|2024-01-04|             32.0|    368.0| D-West|2024|\n+--------+------+-----+-----+----------+-----------------+---------+-------+----+\n\n+--------+------+-----+-----+----------+-----------------+---------+-------+----+\n|category|region|value|sales|      date|        sales_tax|net_sales|   info|year|\n+--------+------+-----+-----+----------+-----------------+---------+-------+----+\n|       A| North|   10|100.5|2024-01-01|8.040000000000001|    92.46|A-North|2024|\n|       B| South|   20|200.0|2024-01-02|             16.0|    184.0|B-South|2024|\n|       C|  East|   30|300.0|2024-01-03|             24.0|    276.0| C-East|2024|\n|       E| North|   50|500.0|2024-01-05|             40.0|    460.0|E-North|2024|\n+--------+------+-----+-----+----------+-----------------+---------+-------+----+\n\n"
     ]
    }
   ],
   "source": [
    "df.orderBy(col(\"sales\").desc()).show()\n",
    "df.dropDuplicates([\"region\"]).show()\n",
    "df.sample(withReplacement=False, fraction=0.5, seed=1).show()"
   ]
  },
  {
   "cell_type": "code",
   "execution_count": 0,
   "metadata": {
    "application/vnd.databricks.v1+cell": {
     "cellMetadata": {
      "byteLimit": 2048000,
      "rowLimit": 10000
     },
     "inputWidgets": {},
     "nuid": "0e79afa8-f768-4ee0-a611-9a73975b2d98",
     "showTitle": false,
     "tableResultSettingsMap": {},
     "title": ""
    }
   },
   "outputs": [],
   "source": [
    "## 1️⃣4️⃣ Explode Arrays / Nested JSON Example"
   ]
  },
  {
   "cell_type": "code",
   "execution_count": 0,
   "metadata": {
    "application/vnd.databricks.v1+cell": {
     "cellMetadata": {
      "byteLimit": 2048000,
      "rowLimit": 10000
     },
     "inputWidgets": {},
     "nuid": "c85ae959-4a6c-4219-a12e-dc38081c53c4",
     "showTitle": false,
     "tableResultSettingsMap": {},
     "title": ""
    }
   },
   "outputs": [
    {
     "output_type": "stream",
     "name": "stdout",
     "output_type": "stream",
     "text": [
      "+--------+------------+-------+\n|category|    products|product|\n+--------+------------+-------+\n|       A|[p1, p2, p3]|     p1|\n|       A|[p1, p2, p3]|     p2|\n|       A|[p1, p2, p3]|     p3|\n|       B|    [p2, p4]|     p2|\n|       B|    [p2, p4]|     p4|\n|       C|        [p1]|     p1|\n+--------+------------+-------+\n\n"
     ]
    }
   ],
   "source": [
    "data_json = [\n",
    "    (\"A\", [\"p1\", \"p2\", \"p3\"]),\n",
    "    (\"B\", [\"p2\", \"p4\"]),\n",
    "    (\"C\", [\"p1\"])\n",
    "]\n",
    "df_json = spark.createDataFrame(data_json, [\"category\", \"products\"])\n",
    "df_json.withColumn(\"product\", explode(\"products\")).show()"
   ]
  },
  {
   "cell_type": "markdown",
   "metadata": {
    "application/vnd.databricks.v1+cell": {
     "cellMetadata": {},
     "inputWidgets": {},
     "nuid": "1ba59927-e76e-4f9a-88fd-6bbe327ee3a8",
     "showTitle": false,
     "tableResultSettingsMap": {},
     "title": ""
    }
   },
   "source": [
    "## 1️⃣5️⃣ UDFs & Pandas UDFs"
   ]
  },
  {
   "cell_type": "code",
   "execution_count": 0,
   "metadata": {
    "application/vnd.databricks.v1+cell": {
     "cellMetadata": {
      "byteLimit": 2048000,
      "rowLimit": 10000
     },
     "inputWidgets": {},
     "nuid": "75ede426-5882-4eae-bb78-5e530e667292",
     "showTitle": false,
     "tableResultSettingsMap": {},
     "title": ""
    }
   },
   "outputs": [
    {
     "output_type": "stream",
     "name": "stdout",
     "output_type": "stream",
     "text": [
      "+--------+------+-----+-----+----------+-----------------+---------+-------+----+--------------+\n|category|region|value|sales|      date|        sales_tax|net_sales|   info|year|sales_category|\n+--------+------+-----+-----+----------+-----------------+---------+-------+----+--------------+\n|       A| North|   10|100.5|2024-01-01|8.040000000000001|    92.46|A-North|2024|           Low|\n|       B| South|   20|200.0|2024-01-02|             16.0|    184.0|B-South|2024|           Low|\n|       C|  East|   30|300.0|2024-01-03|             24.0|    276.0| C-East|2024|           Low|\n|       D|  West|   40|400.0|2024-01-04|             32.0|    368.0| D-West|2024|          High|\n|       E| North|   50|500.0|2024-01-05|             40.0|    460.0|E-North|2024|          High|\n|       F| South|   60|600.0|2024-01-06|             48.0|    552.0|F-South|2024|          High|\n|       G|  East|   70| NULL|2024-01-07|             NULL|     NULL| G-East|2024|           Low|\n+--------+------+-----+-----+----------+-----------------+---------+-------+----+--------------+\n\n"
     ]
    }
   ],
   "source": [
    "from pyspark.sql.functions import udf\n",
    "from pyspark.sql.types import StringType\n",
    "\n",
    "def categorize_sales(sales):\n",
    "    return \"High\" if sales and sales > 300 else \"Low\"\n",
    "\n",
    "udf_sales = udf(categorize_sales, StringType())\n",
    "df.withColumn(\"sales_category\", udf_sales(col(\"sales\"))).show()"
   ]
  },
  {
   "cell_type": "markdown",
   "metadata": {
    "application/vnd.databricks.v1+cell": {
     "cellMetadata": {},
     "inputWidgets": {},
     "nuid": "3899557b-1395-4d3b-8899-c0fee9e0ff03",
     "showTitle": false,
     "tableResultSettingsMap": {},
     "title": ""
    }
   },
   "source": [
    "## 1️⃣6️⃣ Performance & Optimization"
   ]
  },
  {
   "cell_type": "code",
   "execution_count": 0,
   "metadata": {
    "application/vnd.databricks.v1+cell": {
     "cellMetadata": {
      "byteLimit": 2048000,
      "rowLimit": 10000
     },
     "inputWidgets": {},
     "nuid": "5226a6e4-d70f-41d6-a461-1eec7b8967e8",
     "showTitle": false,
     "tableResultSettingsMap": {},
     "title": ""
    }
   },
   "outputs": [
    {
     "output_type": "stream",
     "name": "stdout",
     "output_type": "stream",
     "text": [
      "== Parsed Logical Plan ==\nProject [category#11071, region#11072, value#11073, sales#11074, date#11075, sales_tax#12682, net_sales#12684, info#12686, year(to_date(date#11075, None, Some(Etc/UTC), true)) AS year#12688]\n+- Project [category#11071, region#11072, value#11073, sales#11074, date#11075, sales_tax#12682, net_sales#12684, concat_ws(-, category#11071, region#11072) AS info#12686]\n   +- Project [category#11071, region#11072, value#11073, sales#11074, date#11075, sales_tax#12682, (sales#11074 - sales_tax#12682) AS net_sales#12684]\n      +- Project [category#11071, region#11072, value#11073, sales#11074, date#11075, (sales#11074 * 0.08) AS sales_tax#12682]\n         +- LocalRelation [category#11071, region#11072, value#11073, sales#11074, date#11075]\n\n== Analyzed Logical Plan ==\ncategory: string, region: string, value: int, sales: double, date: string, sales_tax: double, net_sales: double, info: string, year: int\nProject [category#11071, region#11072, value#11073, sales#11074, date#11075, sales_tax#12682, net_sales#12684, info#12686, year(to_date(date#11075, None, Some(Etc/UTC), true)) AS year#12688]\n+- Project [category#11071, region#11072, value#11073, sales#11074, date#11075, sales_tax#12682, net_sales#12684, concat_ws(-, category#11071, region#11072) AS info#12686]\n   +- Project [category#11071, region#11072, value#11073, sales#11074, date#11075, sales_tax#12682, (sales#11074 - sales_tax#12682) AS net_sales#12684]\n      +- Project [category#11071, region#11072, value#11073, sales#11074, date#11075, (sales#11074 * 0.08) AS sales_tax#12682]\n         +- LocalRelation [category#11071, region#11072, value#11073, sales#11074, date#11075]\n\n== Optimized Logical Plan ==\nLocalRelation [category#11071, region#11072, value#11073, sales#11074, date#11075, sales_tax#12682, net_sales#12684, info#12686, year#12688]\n\n== Physical Plan ==\nLocalTableScan [category#11071, region#11072, value#11073, sales#11074, date#11075, sales_tax#12682, net_sales#12684, info#12686, year#12688]\n\n== Photon Explanation ==\nPhoton does not fully support the query because:\n\t\tUnsupported node: LocalTableScan [category#11071, region#11072, value#11073, sales#11074, date#11075, sales_tax#12682, net_sales#12684, info#12686, year#12688].\n\nReference node:\n\tLocalTableScan [category#11071, region#11072, value#11073, sales#11074, date#11075, sales_tax#12682, net_sales#12684, info#12686, year#12688]\n\n== Parsed Logical Plan ==\n'Filter '`>`('sales, 200)\n+- 'Project ['region, 'sales]\n   +- Project [category#11071, region#11072, value#11073, sales#11074, date#11075, sales_tax#12682, net_sales#12684, info#12686, year(to_date(date#11075, None, Some(Etc/UTC), true)) AS year#12688]\n      +- Project [category#11071, region#11072, value#11073, sales#11074, date#11075, sales_tax#12682, net_sales#12684, concat_ws(-, category#11071, region#11072) AS info#12686]\n         +- Project [category#11071, region#11072, value#11073, sales#11074, date#11075, sales_tax#12682, (sales#11074 - sales_tax#12682) AS net_sales#12684]\n            +- Project [category#11071, region#11072, value#11073, sales#11074, date#11075, (sales#11074 * 0.08) AS sales_tax#12682]\n               +- LocalRelation [category#11071, region#11072, value#11073, sales#11074, date#11075]\n\n== Analyzed Logical Plan ==\nregion: string, sales: double\nFilter (sales#11074 > cast(200 as double))\n+- Project [region#11072, sales#11074]\n   +- Project [category#11071, region#11072, value#11073, sales#11074, date#11075, sales_tax#12682, net_sales#12684, info#12686, year(to_date(date#11075, None, Some(Etc/UTC), true)) AS year#12688]\n      +- Project [category#11071, region#11072, value#11073, sales#11074, date#11075, sales_tax#12682, net_sales#12684, concat_ws(-, category#11071, region#11072) AS info#12686]\n         +- Project [category#11071, region#11072, value#11073, sales#11074, date#11075, sales_tax#12682, (sales#11074 - sales_tax#12682) AS net_sales#12684]\n            +- Project [category#11071, region#11072, value#11073, sales#11074, date#11075, (sales#11074 * 0.08) AS sales_tax#12682]\n               +- LocalRelation [category#11071, region#11072, value#11073, sales#11074, date#11075]\n\n== Optimized Logical Plan ==\nLocalRelation [region#11072, sales#11074]\n\n== Physical Plan ==\nLocalTableScan [region#11072, sales#11074]\n\n== Photon Explanation ==\nPhoton does not fully support the query because:\n\t\tUnsupported node: LocalTableScan [region#11072, sales#11074].\n\nReference node:\n\tLocalTableScan [region#11072, sales#11074]\n\n"
     ]
    }
   ],
   "source": [
    "df.explain(True)\n",
    "\n",
    "optimized = df.select(\"region\", \"sales\").filter(col(\"sales\") > 200)\n",
    "optimized.explain(True)"
   ]
  },
  {
   "cell_type": "markdown",
   "metadata": {
    "application/vnd.databricks.v1+cell": {
     "cellMetadata": {},
     "inputWidgets": {},
     "nuid": "7ea7038b-4327-4ee7-9d3d-7040478c2afa",
     "showTitle": false,
     "tableResultSettingsMap": {},
     "title": ""
    }
   },
   "source": [
    "## 1️⃣7️⃣ Writing Data"
   ]
  },
  {
   "cell_type": "code",
   "execution_count": 0,
   "metadata": {
    "application/vnd.databricks.v1+cell": {
     "cellMetadata": {
      "byteLimit": 2048000,
      "rowLimit": 10000
     },
     "inputWidgets": {},
     "nuid": "df95b8ea-c5a6-402a-bea7-0869cd691a43",
     "showTitle": false,
     "tableResultSettingsMap": {},
     "title": ""
    }
   },
   "outputs": [],
   "source": [
    "df.write.format(\"delta\").mode(\"overwrite\").option(\"mergeSchema\", \"true\").saveAsTable(\"default.transformed_data\")"
   ]
  },
  {
   "cell_type": "markdown",
   "metadata": {
    "application/vnd.databricks.v1+cell": {
     "cellMetadata": {},
     "inputWidgets": {},
     "nuid": "93a41e57-63a4-4e67-82e3-c972051a30ee",
     "showTitle": false,
     "tableResultSettingsMap": {},
     "title": ""
    }
   },
   "source": [
    "## ✅ Final Summary"
   ]
  },
  {
   "cell_type": "markdown",
   "metadata": {
    "application/vnd.databricks.v1+cell": {
     "cellMetadata": {},
     "inputWidgets": {},
     "nuid": "101c3367-0572-40b0-9d33-f93f7fb5a07f",
     "showTitle": false,
     "tableResultSettingsMap": {},
     "title": ""
    }
   },
   "source": [
    "| Concept | Method | SQL Equivalent |\n",
    "|----------|--------|----------------|\n",
    "| Column Selection | `select()` | SELECT columns |\n",
    "| Conditional | `when()`, `filter()` | CASE WHEN, WHERE |\n",
    "| Aggregation | `groupBy().agg()` | GROUP BY |\n",
    "| Join | `join()` | JOIN |\n",
    "| Window | `Window().over()` | OVER() |\n",
    "| Pivot | `pivot()` | PIVOT |\n",
    "| Null Handling | `na.drop()`, `na.fill()` | COALESCE / NULL |\n",
    "| Sort | `orderBy()` | ORDER BY |\n",
    "| User Functions | `udf()` | Custom SQL Function |\n",
    "| Optimization | `cache()`, `explain()` | Query Plan / Indexing |\n"
   ]
  }
 ],
 "metadata": {
  "application/vnd.databricks.v1+notebook": {
   "computePreferences": null,
   "dashboards": [],
   "environmentMetadata": {
    "base_environment": "",
    "environment_version": "4"
   },
   "inputWidgetPreferences": null,
   "language": "python",
   "notebookMetadata": {
    "pythonIndentUnit": 4
   },
   "notebookName": "PySpark_Data_Transformation",
   "widgets": {}
  },
  "language_info": {
   "name": "python"
  }
 },
 "nbformat": 4,
 "nbformat_minor": 0
}