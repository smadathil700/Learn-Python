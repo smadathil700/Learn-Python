{
 "cells": [
  {
   "cell_type": "code",
   "execution_count": 0,
   "metadata": {
    "application/vnd.databricks.v1+cell": {
     "cellMetadata": {
      "byteLimit": 2048000,
      "rowLimit": 10000
     },
     "inputWidgets": {},
     "nuid": "ba47e294-65bf-45cd-900e-e0fbf8873409",
     "showTitle": false,
     "tableResultSettingsMap": {},
     "title": ""
    }
   },
   "outputs": [],
   "source": [
    "# --- Setup PySpark ---\n",
    "from pyspark.sql import SparkSession\n",
    "from pyspark.sql.functions import mean, col, sum, coalesce, when\n",
    "import matplotlib.pyplot as plt\n",
    "import pandas as pd\n",
    "import seaborn as sns"
   ]
  },
  {
   "cell_type": "code",
   "execution_count": 0,
   "metadata": {
    "application/vnd.databricks.v1+cell": {
     "cellMetadata": {
      "byteLimit": 2048000,
      "rowLimit": 10000
     },
     "inputWidgets": {},
     "nuid": "005b1f85-58e8-4be0-82d4-0f8d01662bc3",
     "showTitle": false,
     "tableResultSettingsMap": {},
     "title": ""
    }
   },
   "outputs": [],
   "source": [
    "# Initialize Spark Session\n",
    "spark = SparkSession.builder \\\n",
    "    .appName(\"Handling Missing Data\") \\\n",
    "    .getOrCreate()"
   ]
  },
  {
   "cell_type": "code",
   "execution_count": 0,
   "metadata": {
    "application/vnd.databricks.v1+cell": {
     "cellMetadata": {
      "byteLimit": 2048000,
      "rowLimit": 10000
     },
     "inputWidgets": {},
     "nuid": "06ec2259-8ab7-4ae9-be0e-0677ba34d515",
     "showTitle": false,
     "tableResultSettingsMap": {},
     "title": ""
    }
   },
   "outputs": [],
   "source": [
    "# --- Load Dataset (1000 rows with missing values) ---\n",
    "file_path = \"/Volumes/workspace/csv_files/csv_files/missing_data_1000.csv\"  \n",
    "df = spark.read.csv(file_path, header=True, inferSchema=True)"
   ]
  },
  {
   "cell_type": "code",
   "execution_count": 0,
   "metadata": {
    "application/vnd.databricks.v1+cell": {
     "cellMetadata": {
      "byteLimit": 2048000,
      "rowLimit": 10000
     },
     "inputWidgets": {},
     "nuid": "3059ccf6-c417-4b12-ac82-1a78cb4457ef",
     "showTitle": false,
     "tableResultSettingsMap": {},
     "title": ""
    }
   },
   "outputs": [
    {
     "name": "stdout",
     "output_type": "stream",
     "text": [
      "Original Data Sample:\n",
      "+---+-------+---+------+\n",
      "| id|   name|age|salary|\n",
      "+---+-------+---+------+\n",
      "|  1|   NULL| 59| 58500|\n",
      "|  2|  David| 34| 40500|\n",
      "|  3|    Eve| 22| 93000|\n",
      "|  4|   NULL| 46| 31000|\n",
      "|  5|Charlie| 21| 93000|\n",
      "|  6|    Eve| 27| 50000|\n",
      "|  7|    Eve| 34| 82500|\n",
      "|  8|   NULL| 27| 36500|\n",
      "|  9|    Bob| 34| 35500|\n",
      "| 10|Charlie| 37| 73000|\n",
      "+---+-------+---+------+\n",
      "only showing top 10 rows\n"
     ]
    }
   ],
   "source": [
    "print(\"Original Data Sample:\")\n",
    "df.show(10)"
   ]
  },
  {
   "cell_type": "code",
   "execution_count": 0,
   "metadata": {
    "application/vnd.databricks.v1+cell": {
     "cellMetadata": {
      "byteLimit": 2048000,
      "rowLimit": 10000
     },
     "inputWidgets": {},
     "nuid": "84c49491-bdc2-4f73-8cc3-65a443381bff",
     "showTitle": false,
     "tableResultSettingsMap": {},
     "title": ""
    }
   },
   "outputs": [
    {
     "name": "stdout",
     "output_type": "stream",
     "text": [
      "1000 4\n"
     ]
    }
   ],
   "source": [
    "print(df.count(),len(df.columns))"
   ]
  },
  {
   "cell_type": "code",
   "execution_count": 0,
   "metadata": {
    "application/vnd.databricks.v1+cell": {
     "cellMetadata": {
      "byteLimit": 2048000,
      "rowLimit": 10000
     },
     "inputWidgets": {},
     "nuid": "61e41f7d-d4e0-497f-aeda-70e92d8ced88",
     "showTitle": false,
     "tableResultSettingsMap": {},
     "title": ""
    }
   },
   "outputs": [
    {
     "data": {
      "text/html": [
       "<div>\n",
       "<style scoped>\n",
       "    .dataframe tbody tr th:only-of-type {\n",
       "        vertical-align: middle;\n",
       "    }\n",
       "\n",
       "    .dataframe tbody tr th {\n",
       "        vertical-align: top;\n",
       "    }\n",
       "\n",
       "    .dataframe thead th {\n",
       "        text-align: right;\n",
       "    }\n",
       "</style>\n",
       "<table border=\"1\" class=\"dataframe\">\n",
       "  <thead>\n",
       "    <tr style=\"text-align: right;\">\n",
       "      <th></th>\n",
       "      <th>column</th>\n",
       "      <th>missing_count</th>\n",
       "    </tr>\n",
       "  </thead>\n",
       "  <tbody>\n",
       "    <tr>\n",
       "      <th>0</th>\n",
       "      <td>id</td>\n",
       "      <td>0</td>\n",
       "    </tr>\n",
       "    <tr>\n",
       "      <th>1</th>\n",
       "      <td>name</td>\n",
       "      <td>138</td>\n",
       "    </tr>\n",
       "    <tr>\n",
       "      <th>2</th>\n",
       "      <td>age</td>\n",
       "      <td>22</td>\n",
       "    </tr>\n",
       "    <tr>\n",
       "      <th>3</th>\n",
       "      <td>salary</td>\n",
       "      <td>9</td>\n",
       "    </tr>\n",
       "  </tbody>\n",
       "</table>\n",
       "</div>"
      ],
      "text/plain": [
       "   column  missing_count\n",
       "0      id              0\n",
       "1    name            138\n",
       "2     age             22\n",
       "3  salary              9"
      ]
     },
     "execution_count": 120,
     "metadata": {},
     "output_type": "execute_result"
    }
   ],
   "source": [
    "# create null indicators\n",
    "missing_counts = df.select([col(c).isNull().cast(\"int\").alias(c) for c in df.columns])\n",
    "\n",
    "# aggregate and keep original column names\n",
    "missing_counts = (\n",
    "    missing_counts.groupBy()\n",
    "    .agg(*[sum(c).alias(c) for c in missing_counts.columns])  # to keep original names, When you write a list comprehension inside .agg(), \n",
    "    you must unpack it with * so each expression is passed individually.\n",
    "    .toPandas()\n",
    "    .T #transpose\n",
    "    .reset_index()\n",
    ")\n",
    "\n",
    "missing_counts.columns = [\"column\", \"missing_count\"]\n",
    "\n",
    "missing_counts.head()"
   ]
  },
  {
   "cell_type": "code",
   "execution_count": 0,
   "metadata": {
    "application/vnd.databricks.v1+cell": {
     "cellMetadata": {
      "byteLimit": 2048000,
      "rowLimit": 10000
     },
     "inputWidgets": {},
     "nuid": "e27b9de2-c340-432f-8047-0e9db18c2eb3",
     "showTitle": false,
     "tableResultSettingsMap": {},
     "title": ""
    }
   },
   "outputs": [
    {
     "data": {
      "image/png": "[encoded data removed]",
      "text/plain": [
       "<Figure size 600x400 with 1 Axes>"
      ]
     },
     "metadata": {},
     "output_type": "display_data"
    }
   ],
   "source": [
    "# --- Visualization 1: Missing Data Count per Column ---\n",
    "plt.figure(figsize=(6,4))\n",
    "\n",
    "bars = plt.bar(missing_counts[\"column\"], missing_counts[\"missing_count\"])\n",
    "\n",
    "plt.title(\"Missing Values per Column\")\n",
    "plt.xlabel(\"Columns\")\n",
    "plt.ylabel(\"Count of Missing Values\")\n",
    "\n",
    "# Add labels on top of each bar\n",
    "for bar in bars:\n",
    "    height = bar.get_height()\n",
    "    plt.text(\n",
    "        bar.get_x() + bar.get_width()/2,  # x: middle of bar\n",
    "        height,                           # y: top of bar\n",
    "        str(height),                      # text label\n",
    "        ha=\"center\", va=\"bottom\"          # align center, just above bar\n",
    "    )\n",
    "\n",
    "plt.show()"
   ]
  },
  {
   "cell_type": "code",
   "execution_count": 0,
   "metadata": {
    "application/vnd.databricks.v1+cell": {
     "cellMetadata": {
      "byteLimit": 2048000,
      "rowLimit": 10000
     },
     "inputWidgets": {},
     "nuid": "52e0a473-db2d-4009-9c49-9acbf8f7c34f",
     "showTitle": false,
     "tableResultSettingsMap": {},
     "title": ""
    }
   },
   "outputs": [
    {
     "data": {
      "image/png": "[encoded data removed]",
      "text/plain": [
       "<Figure size 1000x600 with 1 Axes>"
      ]
     },
     "metadata": {},
     "output_type": "display_data"
    }
   ],
   "source": [
    "# --- Visualization 2: Heatmap of Missing Values ---\n",
    "pdf = df.toPandas()\n",
    "\n",
    "plt.figure(figsize=(10,6))\n",
    "sns.heatmap(pdf.isnull(), cbar=False, cmap=\"viridis\")\n",
    "plt.title(\"Heatmap of Missing Data\")\n",
    "plt.show()"
   ]
  },
  {
   "cell_type": "markdown",
   "metadata": {
    "application/vnd.databricks.v1+cell": {
     "cellMetadata": {
      "byteLimit": 2048000,
      "rowLimit": 10000
     },
     "inputWidgets": {},
     "nuid": "d72cad27-e36b-4f2c-9506-56f9d9e04f4c",
     "showTitle": false,
     "tableResultSettingsMap": {},
     "title": ""
    }
   },
   "source": [
    "Technique 1: Drop Missing Data"
   ]
  },
  {
   "cell_type": "code",
   "execution_count": 0,
   "metadata": {
    "application/vnd.databricks.v1+cell": {
     "cellMetadata": {
      "byteLimit": 2048000,
      "rowLimit": 10000
     },
     "inputWidgets": {},
     "nuid": "c18649fd-ff0a-42a4-804a-cc5659c2d923",
     "showTitle": false,
     "tableResultSettingsMap": {},
     "title": ""
    }
   },
   "outputs": [
    {
     "name": "stdout",
     "output_type": "stream",
     "text": [
      "Drop rows with ANY null:\n",
      "+---+-------+---+------+\n",
      "| id|   name|age|salary|\n",
      "+---+-------+---+------+\n",
      "|  2|  David| 34| 40500|\n",
      "|  3|    Eve| 22| 93000|\n",
      "|  5|Charlie| 21| 93000|\n",
      "|  6|    Eve| 27| 50000|\n",
      "|  7|    Eve| 34| 82500|\n",
      "+---+-------+---+------+\n",
      "only showing top 5 rows\n",
      "Drop rows with ALL null:\n",
      "+---+-------+---+------+\n",
      "| id|   name|age|salary|\n",
      "+---+-------+---+------+\n",
      "|  1|   NULL| 59| 58500|\n",
      "|  2|  David| 34| 40500|\n",
      "|  3|    Eve| 22| 93000|\n",
      "|  4|   NULL| 46| 31000|\n",
      "|  5|Charlie| 21| 93000|\n",
      "+---+-------+---+------+\n",
      "only showing top 5 rows\n"
     ]
    }
   ],
   "source": [
    "#1\n",
    "print(\"Drop rows with ANY null:\")\n",
    "df_drop_any = df.na.drop(how=\"any\")\n",
    "df_drop_any.show(5)\n",
    "\n",
    "#2\n",
    "print(\"Drop rows with ALL null:\")\n",
    "df_drop_all = df.na.drop(how=\"all\")\n",
    "df_drop_all.show(5)"
   ]
  },
  {
   "cell_type": "markdown",
   "metadata": {
    "application/vnd.databricks.v1+cell": {
     "cellMetadata": {
      "byteLimit": 2048000,
      "rowLimit": 10000
     },
     "inputWidgets": {},
     "nuid": "2a5a3a51-1f18-434e-b638-68c400886bdd",
     "showTitle": false,
     "tableResultSettingsMap": {},
     "title": ""
    }
   },
   "source": [
    "Technique 2: Fill Missing Data"
   ]
  },
  {
   "cell_type": "code",
   "execution_count": 0,
   "metadata": {
    "application/vnd.databricks.v1+cell": {
     "cellMetadata": {
      "byteLimit": 2048000,
      "rowLimit": 10000
     },
     "inputWidgets": {},
     "nuid": "d6ab32ee-e464-4cde-86b9-1a16d13fe6a4",
     "showTitle": false,
     "tableResultSettingsMap": {},
     "title": ""
    }
   },
   "outputs": [
    {
     "name": "stdout",
     "output_type": "stream",
     "text": [
      "Fill missing with constant values:\n",
      "+---+-------+---+------+\n",
      "| id|   name|age|salary|\n",
      "+---+-------+---+------+\n",
      "|  1|Unknown| 59| 58500|\n",
      "|  2|  David| 34| 40500|\n",
      "|  3|    Eve| 22| 93000|\n",
      "|  4|Unknown| 46| 31000|\n",
      "|  5|Charlie| 21| 93000|\n",
      "+---+-------+---+------+\n",
      "only showing top 5 rows\n"
     ]
    }
   ],
   "source": [
    "print(\"Fill missing with constant values:\")\n",
    "df_fill = df.na.fill({\"age\": 0, \"salary\": 0, \"name\": \"Unknown\"})\n",
    "df_fill.show(5)"
   ]
  },
  {
   "cell_type": "markdown",
   "metadata": {
    "application/vnd.databricks.v1+cell": {
     "cellMetadata": {
      "byteLimit": 2048000,
      "rowLimit": 10000
     },
     "inputWidgets": {},
     "nuid": "09bed317-5ea6-4e98-9be6-21820eda0b5f",
     "showTitle": false,
     "tableResultSettingsMap": {},
     "title": ""
    }
   },
   "source": [
    "Technique 3: Fill with Mean/Median (Numeric Columns)"
   ]
  },
  {
   "cell_type": "code",
   "execution_count": 0,
   "metadata": {
    "application/vnd.databricks.v1+cell": {
     "cellMetadata": {
      "byteLimit": 2048000,
      "rowLimit": 10000
     },
     "inputWidgets": {},
     "nuid": "be2cdab2-d323-4e30-a149-a4c6fb4acdda",
     "showTitle": false,
     "tableResultSettingsMap": {},
     "title": ""
    }
   },
   "outputs": [
    {
     "name": "stdout",
     "output_type": "stream",
     "text": [
      "Fill missing with column means:\n",
      "+---+-------+---+------+\n",
      "| id|   name|age|salary|\n",
      "+---+-------+---+------+\n",
      "|  1|   NULL| 59| 58500|\n",
      "|  2|  David| 34| 40500|\n",
      "|  3|    Eve| 22| 93000|\n",
      "|  4|   NULL| 46| 31000|\n",
      "|  5|Charlie| 21| 93000|\n",
      "+---+-------+---+------+\n",
      "only showing top 5 rows\n"
     ]
    }
   ],
   "source": [
    "mean_age = df.select(mean(df['age'])).collect()[0][0]\n",
    "mean_salary = df.select(mean(df['salary'])).collect()[0][0]\n",
    "\n",
    "print(\"Fill missing with column means:\")\n",
    "df_mean = df.na.fill({\"age\": mean_age, \"salary\": mean_salary})\n",
    "df_mean.show(5)"
   ]
  },
  {
   "cell_type": "code",
   "execution_count": 0,
   "metadata": {
    "application/vnd.databricks.v1+cell": {
     "cellMetadata": {
      "byteLimit": 2048000,
      "rowLimit": 10000
     },
     "inputWidgets": {},
     "nuid": "5cdfc8e6-f29b-40d8-8685-fc647a1e0988",
     "showTitle": false,
     "tableResultSettingsMap": {},
     "title": ""
    }
   },
   "outputs": [
    {
     "data": {
      "image/png": "[encoded data removed]",
      "text/plain": [
       "<Figure size 1000x500 with 2 Axes>"
      ]
     },
     "metadata": {},
     "output_type": "display_data"
    }
   ],
   "source": [
    "import matplotlib.pyplot as plt\n",
    "\n",
    "# Convert PySpark DataFrames to Pandas\n",
    "original = df.toPandas()\n",
    "filled = df_mean.toPandas()\n",
    "\n",
    "variables = [\"age\", \"salary\"]\n",
    "scale_salary = 1000\n",
    "\n",
    "plt.figure(figsize=(10, 5))\n",
    "\n",
    "for i, var in enumerate(variables, 1):\n",
    "    plt.subplot(1, 2, i)\n",
    "    \n",
    "    # Combine before and after into one DataFrame for Seaborn / matplotlib boxplot\n",
    "    data = pd.DataFrame({\n",
    "        \"Before Filling\": original[var],\n",
    "        \"After Filling\": filled[var] if var != \"salary\" else filled[var]\n",
    "    })\n",
    "    \n",
    "    data.boxplot()\n",
    "    plt.title(f\"{var} Distribution Before vs After\")\n",
    "    plt.ylabel(var)\n",
    "\n",
    "plt.tight_layout()\n",
    "plt.show()\n",
    "\n",
    "#This likely means that either:\n",
    "\n",
    "#There were very few missing age values, or\n",
    "\n",
    "#The missing values were close to the mean anyway.\n",
    "\n",
    "# Key takeaway: Filling age did not distort the distribution.\n"
   ]
  },
  {
   "cell_type": "markdown",
   "metadata": {
    "application/vnd.databricks.v1+cell": {
     "cellMetadata": {
      "byteLimit": 2048000,
      "rowLimit": 10000
     },
     "inputWidgets": {},
     "nuid": "67d8d1e0-2624-47ab-9b6b-6e1f6afcdaa6",
     "showTitle": false,
     "tableResultSettingsMap": {},
     "title": ""
    }
   },
   "source": [
    "Technique 4: Conditional Filling (e.g., by group)"
   ]
  },
  {
   "cell_type": "code",
   "execution_count": 0,
   "metadata": {
    "application/vnd.databricks.v1+cell": {
     "cellMetadata": {
      "byteLimit": 2048000,
      "rowLimit": 10000
     },
     "inputWidgets": {},
     "nuid": "412bad4b-a7b8-4a64-b80e-2b6b022c4d57",
     "showTitle": false,
     "tableResultSettingsMap": {},
     "title": ""
    }
   },
   "outputs": [
    {
     "name": "stdout",
     "output_type": "stream",
     "text": [
      "+-------+---+---+------+------------+------------------+----------+\n",
      "|   name| id|age|salary|age_was_null|           avg_age|age_filled|\n",
      "+-------+---+---+------+------------+------------------+----------+\n",
      "|   NULL|  1| 59| 58500|           0|              NULL|      59.0|\n",
      "|  David|  2| 34| 40500|           0|39.026490066225165|      34.0|\n",
      "|    Eve|  3| 22| 93000|           0| 38.31506849315068|      22.0|\n",
      "|   NULL|  4| 46| 31000|           0|              NULL|      46.0|\n",
      "|Charlie|  5| 21| 93000|           0|        37.9765625|      21.0|\n",
      "+-------+---+---+------+------------+------------------+----------+\n",
      "only showing top 5 rows\n"
     ]
    }
   ],
   "source": [
    "# Step 1: Mark rows where age is null\n",
    "df_conditional = df.withColumn(\"age_was_null\", when(col(\"age\").isNull(), 1).otherwise(0))\n",
    "\n",
    "# Step 2: Compute mean age per name\n",
    "avg_age = df.groupBy(\"name\").agg(mean(\"age\").alias(\"avg_age\"))\n",
    "\n",
    "# Step 3: Join and fill missing age with group mean\n",
    "df_conditional = df_conditional.join(avg_age, on=\"name\", how=\"left\") \\\n",
    "                               .withColumn(\"age_filled\", coalesce(col(\"age\"), col(\"avg_age\")))\n",
    "\n",
    "df_conditional = df_conditional.fillna({\"age_filled\": 0})\n",
    "df_conditional.show(5)"
   ]
  },
  {
   "cell_type": "code",
   "execution_count": 0,
   "metadata": {
    "application/vnd.databricks.v1+cell": {
     "cellMetadata": {
      "byteLimit": 2048000,
      "rowLimit": 10000
     },
     "inputWidgets": {},
     "nuid": "d62950ea-28a2-4a1a-a0b0-e594d6aab2e0",
     "showTitle": false,
     "tableResultSettingsMap": {},
     "title": ""
    }
   },
   "outputs": [
    {
     "name": "stdout",
     "output_type": "stream",
     "text": [
      "+-------+----+------------------+------------------+\n",
      "|name   |age |avg_age           |age_filled        |\n",
      "+-------+----+------------------+------------------+\n",
      "|Alice  |NULL|36.9025974025974  |36.9025974025974  |\n",
      "|Alice  |NULL|36.9025974025974  |36.9025974025974  |\n",
      "|NULL   |NULL|NULL              |0.0               |\n",
      "|NULL   |NULL|NULL              |0.0               |\n",
      "|NULL   |NULL|NULL              |0.0               |\n",
      "|NULL   |NULL|NULL              |0.0               |\n",
      "|NULL   |NULL|NULL              |0.0               |\n",
      "|Bob    |NULL|40.02238805970149 |40.02238805970149 |\n",
      "|Bob    |NULL|40.02238805970149 |40.02238805970149 |\n",
      "|Bob    |NULL|40.02238805970149 |40.02238805970149 |\n",
      "|Charlie|NULL|37.9765625        |37.9765625        |\n",
      "|Charlie|NULL|37.9765625        |37.9765625        |\n",
      "|Eve    |NULL|38.31506849315068 |38.31506849315068 |\n",
      "|Eve    |NULL|38.31506849315068 |38.31506849315068 |\n",
      "|Frank  |NULL|38.20454545454545 |38.20454545454545 |\n",
      "|Frank  |NULL|38.20454545454545 |38.20454545454545 |\n",
      "|David  |NULL|39.026490066225165|39.026490066225165|\n",
      "|David  |NULL|39.026490066225165|39.026490066225165|\n",
      "|David  |NULL|39.026490066225165|39.026490066225165|\n",
      "|David  |NULL|39.026490066225165|39.026490066225165|\n",
      "+-------+----+------------------+------------------+\n",
      "only showing top 20 rows\n"
     ]
    }
   ],
   "source": [
    "# Step 4: Show only rows where age was null, with relevant info\n",
    "df_conditional.filter(col(\"age_was_null\") == 1).select(\n",
    "    \"name\", \"age\", \"avg_age\", \"age_filled\"\n",
    ").show(truncate=False)"
   ]
  }
 ],
 "metadata": {
  "application/vnd.databricks.v1+notebook": {
   "computePreferences": null,
   "dashboards": [],
   "environmentMetadata": {
    "base_environment": "",
    "environment_version": "3"
   },
   "inputWidgetPreferences": null,
   "language": "python",
   "notebookMetadata": {
    "pythonIndentUnit": 4
   },
   "notebookName": "Pyspark_Handling_Missing_Values",
   "widgets": {}
  },
  "language_info": {
   "name": "python"
  }
 },
 "nbformat": 4,
 "nbformat_minor": 0
}
