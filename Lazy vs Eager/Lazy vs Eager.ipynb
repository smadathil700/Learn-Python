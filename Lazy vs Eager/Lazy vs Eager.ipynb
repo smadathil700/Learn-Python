{
 "cells": [
  {
   "cell_type": "markdown",
   "metadata": {
    "application/vnd.databricks.v1+cell": {
     "cellMetadata": {
      "byteLimit": 2048000,
      "rowLimit": 10000
     },
     "inputWidgets": {},
     "nuid": "627532ca-72ec-439c-ad09-68d0e52bcf84",
     "showTitle": false,
     "tableResultSettingsMap": {},
     "title": ""
    }
   },
   "source": [
    "In data engineering and analytics, two major execution models exist:\n",
    " - **Eager execution**: computations run immediately when called.\n",
    " - **Lazy execution**: computations are only planned when written, and executed later in an optimized way.\n"
   ]
  },
  {
   "cell_type": "markdown",
   "metadata": {
    "application/vnd.databricks.v1+cell": {
     "cellMetadata": {
      "byteLimit": 2048000,
      "rowLimit": 10000
     },
     "inputWidgets": {},
     "nuid": "334adfc0-dd60-4b84-a4f3-48ba2aa18132",
     "showTitle": false,
     "tableResultSettingsMap": {},
     "title": ""
    }
   },
   "source": [
    "Libraries like **Pandas** (eager), **Polars** (supports both eager and lazy), and **Spark** (lazy by default) give us a good ground for comparison.\n",
    "\n",
    " In this notebook, we’ll:\n",
    " 1. Show how eager vs lazy works in **Polars**.\n",
    " 2. Compare with **Spark DataFrame** execution.\n",
    " 3. Discuss trade-offs, optimizations, and best practices."
   ]
  },
  {
   "cell_type": "code",
   "execution_count": 0,
   "metadata": {
    "application/vnd.databricks.v1+cell": {
     "cellMetadata": {
      "byteLimit": 2048000,
      "rowLimit": 10000
     },
     "inputWidgets": {},
     "nuid": "9d7c0f2d-e765-48c7-82b3-6573b2f4a1df",
     "showTitle": false,
     "tableResultSettingsMap": {},
     "title": ""
    }
   },
   "outputs": [
    {
     "name": "stdout",
     "output_type": "stream",
     "text": [
      "Requirement already satisfied: polars in /local_disk0/.ephemeral_nfs/envs/pythonEnv-7e5b1aad-5390-4bbc-b6cd-1ee13dfd4e4c/lib/python3.12/site-packages (1.34.0)\n",
      "Requirement already satisfied: polars-runtime-32==1.34.0 in /local_disk0/.ephemeral_nfs/envs/pythonEnv-7e5b1aad-5390-4bbc-b6cd-1ee13dfd4e4c/lib/python3.12/site-packages (from polars) (1.34.0)\n",
      "\u001b[43mNote: you may need to restart the kernel using %restart_python or dbutils.library.restartPython() to use updated packages.\u001b[0m\n"
     ]
    }
   ],
   "source": [
    "pip install polars"
   ]
  },
  {
   "cell_type": "code",
   "execution_count": 0,
   "metadata": {
    "application/vnd.databricks.v1+cell": {
     "cellMetadata": {
      "byteLimit": 2048000,
      "rowLimit": 10000
     },
     "inputWidgets": {},
     "nuid": "598aea0b-46a6-41af-90d6-063fcd131913",
     "showTitle": false,
     "tableResultSettingsMap": {},
     "title": ""
    }
   },
   "outputs": [],
   "source": [
    "\n",
    "import polars as pl\n",
    "from pyspark.sql import SparkSession\n",
    "\n",
    "# Initialize Spark\n",
    "spark = SparkSession.builder \\\n",
    "    .appName(\"LazyVsEagerDemo\") \\\n",
    "    .getOrCreate()\n"
   ]
  },
  {
   "cell_type": "code",
   "execution_count": 0,
   "metadata": {
    "application/vnd.databricks.v1+cell": {
     "cellMetadata": {
      "byteLimit": 2048000,
      "rowLimit": 10000
     },
     "inputWidgets": {},
     "nuid": "c364adeb-c4eb-4fc1-b66c-fd3ca26d4b04",
     "showTitle": false,
     "tableResultSettingsMap": {},
     "title": ""
    }
   },
   "outputs": [
    {
     "name": "stdout",
     "output_type": "stream",
     "text": [
      "Polars DataFrame:\n",
      "shape: (5, 3)\n",
      "┌─────┬──────────┬───────┐\n",
      "│ id  ┆ category ┆ value │\n",
      "│ --- ┆ ---      ┆ ---   │\n",
      "│ i64 ┆ str      ┆ i64   │\n",
      "╞═════╪══════════╪═══════╡\n",
      "│ 1   ┆ A        ┆ 10    │\n",
      "│ 2   ┆ B        ┆ 20    │\n",
      "│ 3   ┆ A        ┆ 30    │\n",
      "│ 4   ┆ B        ┆ 40    │\n",
      "│ 5   ┆ C        ┆ 50    │\n",
      "└─────┴──────────┴───────┘\n",
      "\n",
      "Spark DataFrame:\n",
      "+--------+---+-----+\n",
      "|category| id|value|\n",
      "+--------+---+-----+\n",
      "|       A|  1|   10|\n",
      "|       B|  2|   20|\n",
      "|       A|  3|   30|\n",
      "|       B|  4|   40|\n",
      "|       C|  5|   50|\n",
      "+--------+---+-----+\n",
      "\n"
     ]
    }
   ],
   "source": [
    "# 3. Sample Dataset\n",
    "# We'll create a simple dataset to demonstrate.\n",
    "\n",
    "data = [\n",
    "    {\"id\": 1, \"category\": \"A\", \"value\": 10},\n",
    "    {\"id\": 2, \"category\": \"B\", \"value\": 20},\n",
    "    {\"id\": 3, \"category\": \"A\", \"value\": 30},\n",
    "    {\"id\": 4, \"category\": \"B\", \"value\": 40},\n",
    "    {\"id\": 5, \"category\": \"C\", \"value\": 50},\n",
    "]\n",
    "\n",
    "pl_df = pl.DataFrame(data)\n",
    "spark_df = spark.createDataFrame(data)\n",
    "\n",
    "print(\"Polars DataFrame:\")\n",
    "print(pl_df)\n",
    "\n",
    "print(\"\\nSpark DataFrame:\")\n",
    "spark_df.show()"
   ]
  },
  {
   "cell_type": "code",
   "execution_count": 0,
   "metadata": {
    "application/vnd.databricks.v1+cell": {
     "cellMetadata": {
      "byteLimit": 2048000,
      "rowLimit": 10000
     },
     "inputWidgets": {},
     "nuid": "e1cef27a-706f-48f3-a866-054153dbdc18",
     "showTitle": false,
     "tableResultSettingsMap": {},
     "title": ""
    }
   },
   "outputs": [
    {
     "name": "stdout",
     "output_type": "stream",
     "text": [
      "\n",
      "Eager execution example (Polars):\n",
      "shape: (3, 2)\n",
      "┌─────┬──────────┐\n",
      "│ id  ┆ category │\n",
      "│ --- ┆ ---      │\n",
      "│ i64 ┆ str      │\n",
      "╞═════╪══════════╡\n",
      "│ 3   ┆ A        │\n",
      "│ 4   ┆ B        │\n",
      "│ 5   ┆ C        │\n",
      "└─────┴──────────┘\n"
     ]
    }
   ],
   "source": [
    "# 4. Eager Execution in Polars\n",
    "# With eager mode, computations happen immediately.\n",
    "\n",
    "print(\"\\nEager execution example (Polars):\")\n",
    "result_eager = pl_df.filter(pl.col(\"value\") > 20).select([\"id\", \"category\"])\n",
    "print(result_eager)\n"
   ]
  },
  {
   "cell_type": "code",
   "execution_count": 0,
   "metadata": {
    "application/vnd.databricks.v1+cell": {
     "cellMetadata": {
      "byteLimit": 2048000,
      "rowLimit": 10000
     },
     "inputWidgets": {},
     "nuid": "088fa5fc-8e07-4ca8-b720-df571bf7e054",
     "showTitle": false,
     "tableResultSettingsMap": {},
     "title": ""
    }
   },
   "outputs": [
    {
     "name": "stdout",
     "output_type": "stream",
     "text": [
      "\n",
      "Lazy execution example (Polars):\n",
      "Query plan (optimized before running):\n",
      "simple π 2/2 [\"id\", \"category\"]\n",
      "  FILTER [(col(\"value\")) > (20)]\n",
      "  FROM\n",
      "    DF [\"id\", \"category\", \"value\"]; PROJECT[\"id\", \"category\", \"value\"] 3/3 COLUMNS\n",
      "\n",
      "Now execute:\n",
      "shape: (3, 2)\n",
      "┌─────┬──────────┐\n",
      "│ id  ┆ category │\n",
      "│ --- ┆ ---      │\n",
      "│ i64 ┆ str      │\n",
      "╞═════╪══════════╡\n",
      "│ 3   ┆ A        │\n",
      "│ 4   ┆ B        │\n",
      "│ 5   ┆ C        │\n",
      "└─────┴──────────┘\n"
     ]
    }
   ],
   "source": [
    "## 5. Lazy Execution in Polars\n",
    "# Lazy mode builds a query plan. Nothing is computed until `collect()` is called.\n",
    "\n",
    "print(\"\\nLazy execution example (Polars):\")\n",
    "lazy_query = pl_df.lazy().filter(pl.col(\"value\") > 20).select([\"id\", \"category\"])\n",
    "\n",
    "print(\"Query plan (optimized before running):\")\n",
    "print(lazy_query.explain())\n",
    "\n",
    "print(\"\\nNow execute:\")\n",
    "result_lazy = lazy_query.collect()\n",
    "print(result_lazy)"
   ]
  },
  {
   "cell_type": "code",
   "execution_count": 0,
   "metadata": {
    "application/vnd.databricks.v1+cell": {
     "cellMetadata": {
      "byteLimit": 2048000,
      "rowLimit": 10000
     },
     "inputWidgets": {},
     "nuid": "a7f73e29-9953-44d8-a2f3-1e93cb2febe8",
     "showTitle": false,
     "tableResultSettingsMap": {},
     "title": ""
    }
   },
   "outputs": [
    {
     "name": "stdout",
     "output_type": "stream",
     "text": [
      "\n",
      "Lazy execution example (Spark):\n",
      "Transformation defined, but not executed yet.\n",
      "Execution plan:\n",
      "== Physical Plan ==\n",
      "LocalTableScan [id#11151L, category#11150]\n",
      "\n",
      "\n",
      "== Photon Explanation ==\n",
      "Photon does not fully support the query because:\n",
      "\t\tUnsupported node: LocalTableScan [id#11151L, category#11150].\n",
      "\n",
      "Reference node:\n",
      "\tLocalTableScan [id#11151L, category#11150]\n",
      "\n",
      "\n",
      "Now trigger execution:\n",
      "+---+--------+\n",
      "| id|category|\n",
      "+---+--------+\n",
      "|  3|       A|\n",
      "|  4|       B|\n",
      "|  5|       C|\n",
      "+---+--------+\n",
      "\n"
     ]
    }
   ],
   "source": [
    "## 6. Lazy Execution in Spark\n",
    "# Spark DataFrames are lazy by default. Transformations build a DAG (Directed Acyclic Graph),\n",
    "# but execution only happens on actions like `show()`, `count()`, `collect()`.\n",
    "\n",
    "print(\"\\nLazy execution example (Spark):\")\n",
    "spark_query = spark_df.filter(spark_df.value > 20).select(\"id\", \"category\")\n",
    "\n",
    "print(\"Transformation defined, but not executed yet.\")\n",
    "print(\"Execution plan:\")\n",
    "spark_query.explain()\n",
    "\n",
    "print(\"\\nNow trigger execution:\")\n",
    "spark_query.show()"
   ]
  },
  {
   "cell_type": "markdown",
   "metadata": {
    "application/vnd.databricks.v1+cell": {
     "cellMetadata": {
      "byteLimit": 2048000,
      "rowLimit": 10000
     },
     "inputWidgets": {},
     "nuid": "9bb3b9ff-93b8-44f6-95a3-da93c3ab4b9f",
     "showTitle": false,
     "tableResultSettingsMap": {},
     "title": ""
    }
   },
   "source": [
    "6. Visual Diagrams (Eager vs Lazy)"
   ]
  },
  {
   "cell_type": "markdown",
   "metadata": {
    "application/vnd.databricks.v1+cell": {
     "cellMetadata": {
      "byteLimit": 2048000,
      "rowLimit": 10000
     },
     "inputWidgets": {},
     "nuid": "665ce63f-6669-4061-a289-af65f2ef9094",
     "showTitle": false,
     "tableResultSettingsMap": {},
     "title": ""
    }
   },
   "source": [
    "Below are two visual aids added to the notebook:\n",
    " 1. A simple flow diagram showing eager execution (step-by-step immediate execution).\n",
    " 2. A DAG-style diagram showing lazy execution where transformations are recorded, optimized, then executed.\n"
   ]
  },
  {
   "cell_type": "code",
   "execution_count": 0,
   "metadata": {
    "application/vnd.databricks.v1+cell": {
     "cellMetadata": {
      "byteLimit": 2048000,
      "rowLimit": 10000
     },
     "inputWidgets": {},
     "nuid": "21e02327-4c90-4002-99a2-a63041605f14",
     "showTitle": false,
     "tableResultSettingsMap": {},
     "title": ""
    }
   },
   "outputs": [
    {
     "data": {
      "image/png": "[encoded data removed]",
      "text/plain": [
       "<Figure size 1200x400 with 2 Axes>"
      ]
     },
     "metadata": {},
     "output_type": "display_data"
    }
   ],
   "source": [
    "import matplotlib.pyplot as plt\n",
    "\n",
    "# Draw two side-by-side diagrams: Eager flow (left) and Lazy DAG (right)\n",
    "fig, axes = plt.subplots(1, 2, figsize=(12, 4))\n",
    "\n",
    "# --- EAGER diagram (left)\n",
    "ax = axes[0]\n",
    "ax.set_title('Eager execution (immediate)')\n",
    "ax.axis('off')\n",
    "\n",
    "# Draw three boxes with arrows between them\n",
    "boxes = [(0.1, 0.5, 0.25, 0.25), (0.4, 0.5, 0.25, 0.25), (0.7, 0.5, 0.25, 0.25)]\n",
    "labels = ['op1: read', 'op2: filter', 'op3: aggregate']\n",
    "for (x, y, w, h), lbl in zip(boxes, labels):\n",
    "    rect = plt.Rectangle((x, y-h/2), w, h, fill=False)\n",
    "    ax.add_patch(rect)\n",
    "    ax.text(x + w/2, y, lbl, ha='center', va='center')\n",
    "\n",
    "# arrows\n",
    "ax.annotate('', xy=(0.36, 0.5), xytext=(0.34, 0.5), arrowprops=dict(arrowstyle='->'))\n",
    "ax.annotate('', xy=(0.66, 0.5), xytext=(0.64, 0.5), arrowprops=dict(arrowstyle='->'))\n",
    "\n",
    "ax.text(0.5, 0.15, 'Each operation runs immediately, producing intermediate results', ha='center', va='center', fontsize=8)\n",
    "\n",
    "# --- LAZY diagram (right)\n",
    "ax = axes[1]\n",
    "ax.set_title('Lazy execution (plan → optimize → execute)')\n",
    "ax.axis('off')\n",
    "\n",
    "# Draw nodes of DAG\n",
    "nodes = {'read': (0.2, 0.7), 'filter': (0.5, 0.6), 'project': (0.5, 0.4), 'agg': (0.8, 0.5)}\n",
    "for name, (nx, ny) in nodes.items():\n",
    "    circ = plt.Circle((nx, ny), 0.06, fill=False)\n",
    "    ax.add_patch(circ)\n",
    "    ax.text(nx, ny, name, ha='center', va='center')\n",
    "\n",
    "# draw arrows between nodes\n",
    "def arrow(a, b):\n",
    "    ax.annotate('', xy=b, xytext=a, arrowprops=dict(arrowstyle='->'))\n",
    "\n",
    "arrow(nodes['read'], nodes['filter'])\n",
    "arrow(nodes['filter'], nodes['proj'] if 'proj' in nodes else nodes['project'])\n",
    "arrow(nodes['project'], nodes['agg'])\n",
    "\n",
    "ax.text(0.5, 0.15, 'Transformations are recorded into a plan (DAG).\\\n",
    "Optimizer rewrites the plan (pushdown, prune) before execution.', ha='center', va='center', fontsize=8)\n",
    "\n",
    "plt.tight_layout()\n",
    "plt.show()\n",
    "\n"
   ]
  },
  {
   "cell_type": "markdown",
   "metadata": {
    "application/vnd.databricks.v1+cell": {
     "cellMetadata": {
      "byteLimit": 2048000,
      "rowLimit": 10000
     },
     "inputWidgets": {},
     "nuid": "2975b4a8-3efa-4c32-930b-902dfe168316",
     "showTitle": false,
     "tableResultSettingsMap": {},
     "title": ""
    }
   },
   "source": [
    " 7. Performance Considerations\n",
    " - **Eager execution**: Simple, intuitive, good for small-to-medium data.\n",
    " - **Lazy execution**: Enables query optimization (predicate pushdown, projection pruning), better for large data.\n"
   ]
  },
  {
   "cell_type": "markdown",
   "metadata": {
    "application/vnd.databricks.v1+cell": {
     "cellMetadata": {
      "byteLimit": 2048000,
      "rowLimit": 10000
     },
     "inputWidgets": {},
     "nuid": "4384f8ae-37c8-4eb5-9afa-68d5fabbd6fb",
     "showTitle": false,
     "tableResultSettingsMap": {},
     "title": ""
    }
   },
   "source": [
    " ---\n",
    " ## 8. Summary\n",
    " - **Polars**: Supports both eager and lazy execution.\n",
    " - **Spark**: Lazy execution only.\n",
    " - **Lazy execution advantages**: Optimizations, scalability.\n",
    " - **Eager execution advantages**: Simplicity, debugging ease.\n",
    "\n",
    " ### Best Practices\n",
    " - Use eager for exploration and debugging.\n",
    " - Use lazy (Polars or Spark) for production-scale pipelines."
   ]
  },
  {
   "cell_type": "code",
   "execution_count": 0,
   "metadata": {
    "application/vnd.databricks.v1+cell": {
     "cellMetadata": {
      "byteLimit": 2048000,
      "rowLimit": 10000
     },
     "inputWidgets": {},
     "nuid": "e8bbb345-f829-41b3-8bbc-b07843e510fd",
     "showTitle": false,
     "tableResultSettingsMap": {},
     "title": ""
    }
   },
   "outputs": [],
   "source": []
  }
 ],
 "metadata": {
  "application/vnd.databricks.v1+notebook": {
   "computePreferences": null,
   "dashboards": [],
   "environmentMetadata": {
    "base_environment": "",
    "environment_version": "3"
   },
   "inputWidgetPreferences": null,
   "language": "python",
   "notebookMetadata": {
    "pythonIndentUnit": 4
   },
   "notebookName": "Lazy vs Eager",
   "widgets": {}
  },
  "language_info": {
   "name": "python"
  }
 },
 "nbformat": 4,
 "nbformat_minor": 0
}
