{
 "cells": [
  {
   "cell_type": "markdown",
   "metadata": {
    "application/vnd.databricks.v1+cell": {
     "cellMetadata": {
      "byteLimit": 2048000,
      "rowLimit": 10000
     },
     "inputWidgets": {},
     "nuid": "d9d27cc6-909d-4cb3-953e-02df3e9849b3",
     "showTitle": false,
     "tableResultSettingsMap": {},
     "title": ""
    }
   },
   "source": [
    "Goals:\n",
    "\n",
    "- Introduce Polars expressions\n",
    "- How to write SQL like queries\n",
    "- Advanced topics - window functions, join, pivot, exploding lists, conditional logic and custom UDFs\n"
   ]
  },
  {
   "cell_type": "code",
   "execution_count": 0,
   "metadata": {
    "application/vnd.databricks.v1+cell": {
     "cellMetadata": {
      "byteLimit": 2048000,
      "rowLimit": 10000
     },
     "inputWidgets": {},
     "nuid": "867d9e22-a903-4b1f-8620-627ed57fa23a",
     "showTitle": false,
     "tableResultSettingsMap": {},
     "title": ""
    }
   },
   "outputs": [
    {
     "output_type": "stream",
     "name": "stdout",
     "output_type": "stream",
     "text": [
      "Requirement already satisfied: polars in /local_disk0/.ephemeral_nfs/envs/pythonEnv-a20807f8-a61e-42c9-95c3-d7b89c35e598/lib/python3.12/site-packages (1.34.0)\nRequirement already satisfied: polars-runtime-32==1.34.0 in /local_disk0/.ephemeral_nfs/envs/pythonEnv-a20807f8-a61e-42c9-95c3-d7b89c35e598/lib/python3.12/site-packages (from polars) (1.34.0)\n\u001B[43mNote: you may need to restart the kernel using %restart_python or dbutils.library.restartPython() to use updated packages.\u001B[0m\n"
     ]
    }
   ],
   "source": [
    "!pip install polars"
   ]
  },
  {
   "cell_type": "code",
   "execution_count": 0,
   "metadata": {
    "application/vnd.databricks.v1+cell": {
     "cellMetadata": {
      "byteLimit": 2048000,
      "rowLimit": 10000
     },
     "inputWidgets": {},
     "nuid": "8980887c-fdd7-473c-a6e7-1d150bd82b70",
     "showTitle": false,
     "tableResultSettingsMap": {},
     "title": ""
    }
   },
   "outputs": [],
   "source": [
    "import polars as pl\n",
    "import numpy as np\n",
    "import datetime as dt"
   ]
  },
  {
   "cell_type": "code",
   "execution_count": 0,
   "metadata": {
    "application/vnd.databricks.v1+cell": {
     "cellMetadata": {
      "byteLimit": 2048000,
      "rowLimit": 10000
     },
     "inputWidgets": {},
     "nuid": "77a01b8b-6f61-4cf7-9a05-c570a801ec4e",
     "showTitle": false,
     "tableResultSettingsMap": {},
     "title": ""
    }
   },
   "outputs": [],
   "source": [
    "# Create a sample dataset to use \n",
    "\n",
    "np.random.seed(42)\n",
    "\n",
    "n = 20\n",
    "cats = [\"A\", \"B\", \"C\"]\n",
    "\n",
    "df = pl.DataFrame({\n",
    "    \"id\": np.arange(1,n+1),\n",
    "    \"category\": np.random.choice(cats, size=n),\n",
    "    \"value\": np.random.normal(loc=50, scale=15, size=n).round(2),\n",
    "    \"timestamp\": [dt.datetime(2025, 1, 1) + dt.timedelta(days=int(x)) for x in np.random.randint(0, 30, size=n)]\n",
    "})\n",
    "\n",
    "# add list column for explode demo\n",
    "\n",
    "df = df.with_columns([\n",
    "    pl.int_ranges(1, 1 + (pl.col(\"id\") % 4)).alias(\"small_list\")\n",
    "])"
   ]
  },
  {
   "cell_type": "code",
   "execution_count": 0,
   "metadata": {
    "application/vnd.databricks.v1+cell": {
     "cellMetadata": {
      "byteLimit": 2048000,
      "rowLimit": 10000
     },
     "inputWidgets": {},
     "nuid": "f359e85c-b7c0-4342-ab83-348e1cc40ffc",
     "showTitle": false,
     "tableResultSettingsMap": {},
     "title": ""
    }
   },
   "outputs": [
    {
     "output_type": "stream",
     "name": "stdout",
     "output_type": "stream",
     "text": [
      "shape: (20, 5)\n┌─────┬──────────┬───────┬─────────────────────┬────────────┐\n│ id  ┆ category ┆ value ┆ timestamp           ┆ small_list │\n│ --- ┆ ---      ┆ ---   ┆ ---                 ┆ ---        │\n│ i64 ┆ str      ┆ f64   ┆ datetime[μs]        ┆ list[i64]  │\n╞═════╪══════════╪═══════╪═════════════════════╪════════════╡\n│ 1   ┆ C        ┆ 43.05 ┆ 2025-01-20 00:00:00 ┆ [1]        │\n│ 2   ┆ A        ┆ 43.01 ┆ 2025-01-28 00:00:00 ┆ [1, 2]     │\n│ 3   ┆ C        ┆ 53.63 ┆ 2025-01-15 00:00:00 ┆ [1, 2, 3]  │\n│ 4   ┆ C        ┆ 21.3  ┆ 2025-01-28 00:00:00 ┆ []         │\n│ 5   ┆ A        ┆ 24.13 ┆ 2025-01-07 00:00:00 ┆ [1]        │\n│ …   ┆ …        ┆ …     ┆ …                   ┆ …          │\n│ 16  ┆ A        ┆ 51.66 ┆ 2025-01-04 00:00:00 ┆ []         │\n│ 17  ┆ B        ┆ 32.74 ┆ 2025-01-02 00:00:00 ┆ [1]        │\n│ 18  ┆ B        ┆ 55.64 ┆ 2025-01-30 00:00:00 ┆ [1, 2]     │\n│ 19  ┆ B        ┆ 40.99 ┆ 2025-01-06 00:00:00 ┆ [1, 2, 3]  │\n│ 20  ┆ B        ┆ 45.62 ┆ 2025-01-22 00:00:00 ┆ []         │\n└─────┴──────────┴───────┴─────────────────────┴────────────┘\n"
     ]
    }
   ],
   "source": [
    "print(df)"
   ]
  },
  {
   "cell_type": "markdown",
   "metadata": {
    "application/vnd.databricks.v1+cell": {
     "cellMetadata": {
      "byteLimit": 2048000,
      "rowLimit": 10000
     },
     "inputWidgets": {},
     "nuid": "fb1e721a-23a8-4904-8be4-083c65252a23",
     "showTitle": false,
     "tableResultSettingsMap": {},
     "title": ""
    }
   },
   "source": [
    "1. Basic expressions\n",
    "\n",
    "- pl.col(\"colname\") - references a column\n",
    "- pl.lit(value) - literal value\n",
    "- expr.alias(\"new_name\") - rename expression\n",
    "- expr1 + expr2, expr * 2 etc - arithmetic expressions\n"
   ]
  },
  {
   "cell_type": "code",
   "execution_count": 0,
   "metadata": {
    "application/vnd.databricks.v1+cell": {
     "cellMetadata": {
      "byteLimit": 2048000,
      "rowLimit": 10000
     },
     "inputWidgets": {},
     "nuid": "53213c78-aaa6-45c4-b4aa-7f5462744f6c",
     "showTitle": false,
     "tableResultSettingsMap": {},
     "title": ""
    }
   },
   "outputs": [
    {
     "output_type": "execute_result",
     "data": {
      "text/html": [
       "<div><style>\n",
       ".dataframe > thead > tr,\n",
       ".dataframe > tbody > tr {\n",
       "  text-align: right;\n",
       "  white-space: pre-wrap;\n",
       "}\n",
       "</style>\n",
       "<small>shape: (20, 4)</small><table border=\"1\" class=\"dataframe\"><thead><tr><th>id</th><th>value</th><th>value_plus_10pct</th><th>cat</th></tr><tr><td>i64</td><td>f64</td><td>f64</td><td>str</td></tr></thead><tbody><tr><td>1</td><td>43.05</td><td>47.355</td><td>&quot;C&quot;</td></tr><tr><td>2</td><td>43.01</td><td>47.311</td><td>&quot;A&quot;</td></tr><tr><td>3</td><td>53.63</td><td>58.993</td><td>&quot;C&quot;</td></tr><tr><td>4</td><td>21.3</td><td>23.43</td><td>&quot;C&quot;</td></tr><tr><td>5</td><td>24.13</td><td>26.543</td><td>&quot;A&quot;</td></tr><tr><td>&hellip;</td><td>&hellip;</td><td>&hellip;</td><td>&hellip;</td></tr><tr><td>16</td><td>51.66</td><td>56.826</td><td>&quot;A&quot;</td></tr><tr><td>17</td><td>32.74</td><td>36.014</td><td>&quot;B&quot;</td></tr><tr><td>18</td><td>55.64</td><td>61.204</td><td>&quot;B&quot;</td></tr><tr><td>19</td><td>40.99</td><td>45.089</td><td>&quot;B&quot;</td></tr><tr><td>20</td><td>45.62</td><td>50.182</td><td>&quot;B&quot;</td></tr></tbody></table></div>"
      ],
      "text/plain": [
       "shape: (20, 4)\n",
       "┌─────┬───────┬──────────────────┬─────┐\n",
       "│ id  ┆ value ┆ value_plus_10pct ┆ cat │\n",
       "│ --- ┆ ---   ┆ ---              ┆ --- │\n",
       "│ i64 ┆ f64   ┆ f64              ┆ str │\n",
       "╞═════╪═══════╪══════════════════╪═════╡\n",
       "│ 1   ┆ 43.05 ┆ 47.355           ┆ C   │\n",
       "│ 2   ┆ 43.01 ┆ 47.311           ┆ A   │\n",
       "│ 3   ┆ 53.63 ┆ 58.993           ┆ C   │\n",
       "│ 4   ┆ 21.3  ┆ 23.43            ┆ C   │\n",
       "│ 5   ┆ 24.13 ┆ 26.543           ┆ A   │\n",
       "│ …   ┆ …     ┆ …                ┆ …   │\n",
       "│ 16  ┆ 51.66 ┆ 56.826           ┆ A   │\n",
       "│ 17  ┆ 32.74 ┆ 36.014           ┆ B   │\n",
       "│ 18  ┆ 55.64 ┆ 61.204           ┆ B   │\n",
       "│ 19  ┆ 40.99 ┆ 45.089           ┆ B   │\n",
       "│ 20  ┆ 45.62 ┆ 50.182           ┆ B   │\n",
       "└─────┴───────┴──────────────────┴─────┘"
      ]
     },
     "execution_count": 5,
     "metadata": {},
     "output_type": "execute_result"
    }
   ],
   "source": [
    "(\n",
    "    df.select([\n",
    "        pl.col(\"id\"),\n",
    "        pl.col(\"value\"),\n",
    "        (pl.col(\"value\") * 1.1).alias(\"value_plus_10pct\"),\n",
    "        pl.col(\"category\").alias(\"cat\")\n",
    "    ])\n",
    ")"
   ]
  },
  {
   "cell_type": "code",
   "execution_count": 0,
   "metadata": {
    "application/vnd.databricks.v1+cell": {
     "cellMetadata": {
      "byteLimit": 2048000,
      "rowLimit": 10000
     },
     "inputWidgets": {},
     "nuid": "351e3103-f44d-4487-a3fe-3d26a0b1f5fe",
     "showTitle": false,
     "tableResultSettingsMap": {},
     "title": ""
    }
   },
   "outputs": [
    {
     "output_type": "execute_result",
     "data": {
      "text/html": [
       "<div><style>\n",
       ".dataframe > thead > tr,\n",
       ".dataframe > tbody > tr {\n",
       "  text-align: right;\n",
       "  white-space: pre-wrap;\n",
       "}\n",
       "</style>\n",
       "<small>shape: (1, 3)</small><table border=\"1\" class=\"dataframe\"><thead><tr><th>mean_value</th><th>median_value</th><th>std_value</th></tr><tr><td>f64</td><td>f64</td><td>f64</td></tr></thead><tbody><tr><td>42.406</td><td>42.42</td><td>12.268675</td></tr></tbody></table></div>"
      ],
      "text/plain": [
       "shape: (1, 3)\n",
       "┌────────────┬──────────────┬───────────┐\n",
       "│ mean_value ┆ median_value ┆ std_value │\n",
       "│ ---        ┆ ---          ┆ ---       │\n",
       "│ f64        ┆ f64          ┆ f64       │\n",
       "╞════════════╪══════════════╪═══════════╡\n",
       "│ 42.406     ┆ 42.42        ┆ 12.268675 │\n",
       "└────────────┴──────────────┴───────────┘"
      ]
     },
     "execution_count": 6,
     "metadata": {},
     "output_type": "execute_result"
    }
   ],
   "source": [
    "# Using .round() and .floor etc.\n",
    "\n",
    "(\n",
    "    df.select([\n",
    "        pl.col(\"value\").mean().alias(\"mean_value\"),\n",
    "        pl.col(\"value\").median().alias(\"median_value\"),\n",
    "        pl.col(\"value\").std().alias(\"std_value\")\n",
    "    ])\n",
    ")"
   ]
  },
  {
   "cell_type": "markdown",
   "metadata": {
    "application/vnd.databricks.v1+cell": {
     "cellMetadata": {
      "byteLimit": 2048000,
      "rowLimit": 10000
     },
     "inputWidgets": {},
     "nuid": "1f5415c0-3695-475a-8a1d-7ea802696fe5",
     "showTitle": false,
     "tableResultSettingsMap": {},
     "title": ""
    }
   },
   "source": [
    "2. select, with_columns, with_column\n",
    "\n",
    "- select - creates a new DataFrame with only the provided expressions\n",
    "- with_columns - adds or replaces multiple columns\n",
    "- with_column - adds a single column"
   ]
  },
  {
   "cell_type": "code",
   "execution_count": 0,
   "metadata": {
    "application/vnd.databricks.v1+cell": {
     "cellMetadata": {
      "byteLimit": 2048000,
      "rowLimit": 10000
     },
     "inputWidgets": {},
     "nuid": "10b4042d-2af2-4437-986f-996bf947887a",
     "showTitle": false,
     "tableResultSettingsMap": {},
     "title": ""
    }
   },
   "outputs": [
    {
     "output_type": "execute_result",
     "data": {
      "text/html": [
       "<div><style>\n",
       ".dataframe > thead > tr,\n",
       ".dataframe > tbody > tr {\n",
       "  text-align: right;\n",
       "  white-space: pre-wrap;\n",
       "}\n",
       "</style>\n",
       "<small>shape: (20, 5)</small><table border=\"1\" class=\"dataframe\"><thead><tr><th>id</th><th>category</th><th>value</th><th>value_share</th><th>dense_rank</th></tr><tr><td>i64</td><td>str</td><td>f64</td><td>f64</td><td>u32</td></tr></thead><tbody><tr><td>1</td><td>&quot;C&quot;</td><td>43.05</td><td>0.050759</td><td>12</td></tr><tr><td>2</td><td>&quot;A&quot;</td><td>43.01</td><td>0.050712</td><td>11</td></tr><tr><td>3</td><td>&quot;C&quot;</td><td>53.63</td><td>0.063234</td><td>17</td></tr><tr><td>4</td><td>&quot;C&quot;</td><td>21.3</td><td>0.025114</td><td>1</td></tr><tr><td>5</td><td>&quot;A&quot;</td><td>24.13</td><td>0.028451</td><td>2</td></tr><tr><td>&hellip;</td><td>&hellip;</td><td>&hellip;</td><td>&hellip;</td><td>&hellip;</td></tr><tr><td>16</td><td>&quot;A&quot;</td><td>51.66</td><td>0.060911</td><td>16</td></tr><tr><td>17</td><td>&quot;B&quot;</td><td>32.74</td><td>0.038603</td><td>5</td></tr><tr><td>18</td><td>&quot;B&quot;</td><td>55.64</td><td>0.065604</td><td>19</td></tr><tr><td>19</td><td>&quot;B&quot;</td><td>40.99</td><td>0.04833</td><td>8</td></tr><tr><td>20</td><td>&quot;B&quot;</td><td>45.62</td><td>0.05379</td><td>13</td></tr></tbody></table></div>"
      ],
      "text/plain": [
       "shape: (20, 5)\n",
       "┌─────┬──────────┬───────┬─────────────┬────────────┐\n",
       "│ id  ┆ category ┆ value ┆ value_share ┆ dense_rank │\n",
       "│ --- ┆ ---      ┆ ---   ┆ ---         ┆ ---        │\n",
       "│ i64 ┆ str      ┆ f64   ┆ f64         ┆ u32        │\n",
       "╞═════╪══════════╪═══════╪═════════════╪════════════╡\n",
       "│ 1   ┆ C        ┆ 43.05 ┆ 0.050759    ┆ 12         │\n",
       "│ 2   ┆ A        ┆ 43.01 ┆ 0.050712    ┆ 11         │\n",
       "│ 3   ┆ C        ┆ 53.63 ┆ 0.063234    ┆ 17         │\n",
       "│ 4   ┆ C        ┆ 21.3  ┆ 0.025114    ┆ 1          │\n",
       "│ 5   ┆ A        ┆ 24.13 ┆ 0.028451    ┆ 2          │\n",
       "│ …   ┆ …        ┆ …     ┆ …           ┆ …          │\n",
       "│ 16  ┆ A        ┆ 51.66 ┆ 0.060911    ┆ 16         │\n",
       "│ 17  ┆ B        ┆ 32.74 ┆ 0.038603    ┆ 5          │\n",
       "│ 18  ┆ B        ┆ 55.64 ┆ 0.065604    ┆ 19         │\n",
       "│ 19  ┆ B        ┆ 40.99 ┆ 0.04833     ┆ 8          │\n",
       "│ 20  ┆ B        ┆ 45.62 ┆ 0.05379     ┆ 13         │\n",
       "└─────┴──────────┴───────┴─────────────┴────────────┘"
      ]
     },
     "execution_count": 7,
     "metadata": {},
     "output_type": "execute_result"
    }
   ],
   "source": [
    "# Add computed columns using expressions\n",
    "\n",
    "(\n",
    "    df.with_columns([\n",
    "        (pl.col(\"value\") / pl.col(\"value\").sum()).alias(\"value_share\"),\n",
    "        (pl.col(\"value\").rank(\"dense\")).alias(\"dense_rank\")\n",
    "    ])\n",
    "    .select([\"id\", \"category\", \"value\", \"value_share\", \"dense_rank\"])\n",
    ")"
   ]
  },
  {
   "cell_type": "markdown",
   "metadata": {
    "application/vnd.databricks.v1+cell": {
     "cellMetadata": {
      "byteLimit": 2048000,
      "rowLimit": 10000
     },
     "inputWidgets": {},
     "nuid": "1087e6b1-b20a-4afd-8c84-f9eea920ed25",
     "showTitle": false,
     "tableResultSettingsMap": {},
     "title": ""
    }
   },
   "source": [
    "3. Filtering(filter) and boolean logic expressions can be used inside filter"
   ]
  },
  {
   "cell_type": "code",
   "execution_count": 0,
   "metadata": {
    "application/vnd.databricks.v1+cell": {
     "cellMetadata": {
      "byteLimit": 2048000,
      "rowLimit": 10000
     },
     "inputWidgets": {},
     "nuid": "3ca0bc0e-0e5f-4516-bc42-d7eb49c6eb3b",
     "showTitle": false,
     "tableResultSettingsMap": {},
     "title": ""
    }
   },
   "outputs": [
    {
     "output_type": "stream",
     "name": "stdout",
     "output_type": "stream",
     "text": [
      "mean value: 42.406\nshape: (10, 5)\n┌─────┬──────────┬───────┬─────────────────────┬────────────┐\n│ id  ┆ category ┆ value ┆ timestamp           ┆ small_list │\n│ --- ┆ ---      ┆ ---   ┆ ---                 ┆ ---        │\n│ i64 ┆ str      ┆ f64   ┆ datetime[μs]        ┆ list[i64]  │\n╞═════╪══════════╪═══════╪═════════════════════╪════════════╡\n│ 1   ┆ C        ┆ 43.05 ┆ 2025-01-20 00:00:00 ┆ [1]        │\n│ 2   ┆ A        ┆ 43.01 ┆ 2025-01-28 00:00:00 ┆ [1, 2]     │\n│ 3   ┆ C        ┆ 53.63 ┆ 2025-01-15 00:00:00 ┆ [1, 2, 3]  │\n│ 8   ┆ B        ┆ 54.71 ┆ 2025-01-08 00:00:00 ┆ []         │\n│ 11  ┆ C        ┆ 71.98 ┆ 2025-01-14 00:00:00 ┆ [1, 2, 3]  │\n│ 12  ┆ C        ┆ 46.61 ┆ 2025-01-17 00:00:00 ┆ []         │\n│ 13  ┆ A        ┆ 51.01 ┆ 2025-01-04 00:00:00 ┆ [1]        │\n│ 16  ┆ A        ┆ 51.66 ┆ 2025-01-04 00:00:00 ┆ []         │\n│ 18  ┆ B        ┆ 55.64 ┆ 2025-01-30 00:00:00 ┆ [1, 2]     │\n│ 20  ┆ B        ┆ 45.62 ┆ 2025-01-22 00:00:00 ┆ []         │\n└─────┴──────────┴───────┴─────────────────────┴────────────┘\n"
     ]
    }
   ],
   "source": [
    "# Filter rows where value > mean\n",
    "\n",
    "mean_val = df.select(pl.col(\"value\").mean()).item()\n",
    "\n",
    "high = df.filter(pl.col(\"value\") > mean_val)\n",
    "\n",
    "print(\"mean value:\", mean_val)\n",
    "print(high)"
   ]
  },
  {
   "cell_type": "code",
   "execution_count": 0,
   "metadata": {
    "application/vnd.databricks.v1+cell": {
     "cellMetadata": {
      "byteLimit": 2048000,
      "rowLimit": 10000
     },
     "inputWidgets": {},
     "nuid": "69f80fc5-61de-4241-af05-87985b886bab",
     "showTitle": false,
     "tableResultSettingsMap": {},
     "title": ""
    }
   },
   "outputs": [
    {
     "output_type": "execute_result",
     "data": {
      "text/html": [
       "<div><style>\n",
       ".dataframe > thead > tr,\n",
       ".dataframe > tbody > tr {\n",
       "  text-align: right;\n",
       "  white-space: pre-wrap;\n",
       "}\n",
       "</style>\n",
       "<small>shape: (1, 5)</small><table border=\"1\" class=\"dataframe\"><thead><tr><th>id</th><th>category</th><th>value</th><th>timestamp</th><th>small_list</th></tr><tr><td>i64</td><td>str</td><td>f64</td><td>datetime[μs]</td><td>list[i64]</td></tr></thead><tbody><tr><td>11</td><td>&quot;C&quot;</td><td>71.98</td><td>2025-01-14 00:00:00</td><td>[1, 2, 3]</td></tr></tbody></table></div>"
      ],
      "text/plain": [
       "shape: (1, 5)\n",
       "┌─────┬──────────┬───────┬─────────────────────┬────────────┐\n",
       "│ id  ┆ category ┆ value ┆ timestamp           ┆ small_list │\n",
       "│ --- ┆ ---      ┆ ---   ┆ ---                 ┆ ---        │\n",
       "│ i64 ┆ str      ┆ f64   ┆ datetime[μs]        ┆ list[i64]  │\n",
       "╞═════╪══════════╪═══════╪═════════════════════╪════════════╡\n",
       "│ 11  ┆ C        ┆ 71.98 ┆ 2025-01-14 00:00:00 ┆ [1, 2, 3]  │\n",
       "└─────┴──────────┴───────┴─────────────────────┴────────────┘"
      ]
     },
     "execution_count": 9,
     "metadata": {},
     "output_type": "execute_result"
    }
   ],
   "source": [
    "df.filter((pl.col(\"category\") == \"C\") & (pl.col(\"value\") > 60))"
   ]
  },
  {
   "cell_type": "markdown",
   "metadata": {
    "application/vnd.databricks.v1+cell": {
     "cellMetadata": {
      "byteLimit": 2048000,
      "rowLimit": 10000
     },
     "inputWidgets": {},
     "nuid": "73d278c9-e740-4b69-8573-eb8e0bc02a37",
     "showTitle": false,
     "tableResultSettingsMap": {},
     "title": ""
    }
   },
   "source": [
    "4. Groupby & Aggregations \n",
    "\n",
    "- groupby accepts columns and then use .agg() with expressions\n"
   ]
  },
  {
   "cell_type": "code",
   "execution_count": 0,
   "metadata": {
    "application/vnd.databricks.v1+cell": {
     "cellMetadata": {
      "byteLimit": 2048000,
      "rowLimit": 10000
     },
     "inputWidgets": {},
     "nuid": "7fe3195f-7313-4d52-817c-fc96dd653990",
     "showTitle": false,
     "tableResultSettingsMap": {},
     "title": ""
    }
   },
   "outputs": [
    {
     "output_type": "execute_result",
     "data": {
      "text/html": [
       "<div><style>\n",
       ".dataframe > thead > tr,\n",
       ".dataframe > tbody > tr {\n",
       "  text-align: right;\n",
       "  white-space: pre-wrap;\n",
       "}\n",
       "</style>\n",
       "<small>shape: (3, 6)</small><table border=\"1\" class=\"dataframe\"><thead><tr><th>category</th><th>n</th><th>avg_value</th><th>median_value</th><th>std_value</th><th>max_id</th></tr><tr><td>str</td><td>u32</td><td>f64</td><td>f64</td><td>f64</td><td>i64</td></tr></thead><tbody><tr><td>&quot;B&quot;</td><td>6</td><td>45.255</td><td>43.725</td><td>8.7627</td><td>20</td></tr><tr><td>&quot;C&quot;</td><td>9</td><td>40.578889</td><td>36.38</td><td>15.421072</td><td>14</td></tr><tr><td>&quot;A&quot;</td><td>5</td><td>42.276</td><td>43.01</td><td>11.12044</td><td>16</td></tr></tbody></table></div>"
      ],
      "text/plain": [
       "shape: (3, 6)\n",
       "┌──────────┬─────┬───────────┬──────────────┬───────────┬────────┐\n",
       "│ category ┆ n   ┆ avg_value ┆ median_value ┆ std_value ┆ max_id │\n",
       "│ ---      ┆ --- ┆ ---       ┆ ---          ┆ ---       ┆ ---    │\n",
       "│ str      ┆ u32 ┆ f64       ┆ f64          ┆ f64       ┆ i64    │\n",
       "╞══════════╪═════╪═══════════╪══════════════╪═══════════╪════════╡\n",
       "│ B        ┆ 6   ┆ 45.255    ┆ 43.725       ┆ 8.7627    ┆ 20     │\n",
       "│ C        ┆ 9   ┆ 40.578889 ┆ 36.38        ┆ 15.421072 ┆ 14     │\n",
       "│ A        ┆ 5   ┆ 42.276    ┆ 43.01        ┆ 11.12044  ┆ 16     │\n",
       "└──────────┴─────┴───────────┴──────────────┴───────────┴────────┘"
      ]
     },
     "execution_count": 10,
     "metadata": {},
     "output_type": "execute_result"
    }
   ],
   "source": [
    "(\n",
    "    df.group_by(\"category\")\n",
    "    .agg([\n",
    "        pl.len().alias(\"n\"),  # calculate number of rows in each category\n",
    "        pl.col(\"value\").mean().alias(\"avg_value\"), # average value for each category\n",
    "        pl.col(\"value\").median().alias(\"median_value\"), # median value for each category\n",
    "        pl.col(\"value\").std().alias(\"std_value\"), # std value for each category\n",
    "        pl.col(\"id\").max().alias(\"max_id\") # max id for each category\n",
    "    ])\n",
    ")"
   ]
  },
  {
   "cell_type": "code",
   "execution_count": 0,
   "metadata": {
    "application/vnd.databricks.v1+cell": {
     "cellMetadata": {
      "byteLimit": 2048000,
      "rowLimit": 10000
     },
     "inputWidgets": {},
     "nuid": "498ec58c-95b3-465a-9dfe-380fbb2633e4",
     "showTitle": false,
     "tableResultSettingsMap": {},
     "title": ""
    }
   },
   "outputs": [
    {
     "output_type": "execute_result",
     "data": {
      "text/html": [
       "<div><style>\n",
       ".dataframe > thead > tr,\n",
       ".dataframe > tbody > tr {\n",
       "  text-align: right;\n",
       "  white-space: pre-wrap;\n",
       "}\n",
       "</style>\n",
       "<small>shape: (11, 4)</small><table border=\"1\" class=\"dataframe\"><thead><tr><th>category</th><th>weekday</th><th>n</th><th>avg_value</th></tr><tr><td>str</td><td>i8</td><td>u32</td><td>f64</td></tr></thead><tbody><tr><td>&quot;A&quot;</td><td>2</td><td>2</td><td>33.57</td></tr><tr><td>&quot;A&quot;</td><td>6</td><td>2</td><td>51.335</td></tr><tr><td>&quot;A&quot;</td><td>7</td><td>1</td><td>41.57</td></tr><tr><td>&quot;B&quot;</td><td>1</td><td>1</td><td>40.99</td></tr><tr><td>&quot;B&quot;</td><td>3</td><td>3</td><td>47.386667</td></tr><tr><td>&hellip;</td><td>&hellip;</td><td>&hellip;</td><td>&hellip;</td></tr><tr><td>&quot;C&quot;</td><td>1</td><td>1</td><td>43.05</td></tr><tr><td>&quot;C&quot;</td><td>2</td><td>2</td><td>46.64</td></tr><tr><td>&quot;C&quot;</td><td>3</td><td>3</td><td>41.606667</td></tr><tr><td>&quot;C&quot;</td><td>5</td><td>2</td><td>37.715</td></tr><tr><td>&quot;C&quot;</td><td>6</td><td>1</td><td>28.63</td></tr></tbody></table></div>"
      ],
      "text/plain": [
       "shape: (11, 4)\n",
       "┌──────────┬─────────┬─────┬───────────┐\n",
       "│ category ┆ weekday ┆ n   ┆ avg_value │\n",
       "│ ---      ┆ ---     ┆ --- ┆ ---       │\n",
       "│ str      ┆ i8      ┆ u32 ┆ f64       │\n",
       "╞══════════╪═════════╪═════╪═══════════╡\n",
       "│ A        ┆ 2       ┆ 2   ┆ 33.57     │\n",
       "│ A        ┆ 6       ┆ 2   ┆ 51.335    │\n",
       "│ A        ┆ 7       ┆ 1   ┆ 41.57     │\n",
       "│ B        ┆ 1       ┆ 1   ┆ 40.99     │\n",
       "│ B        ┆ 3       ┆ 3   ┆ 47.386667 │\n",
       "│ …        ┆ …       ┆ …   ┆ …         │\n",
       "│ C        ┆ 1       ┆ 1   ┆ 43.05     │\n",
       "│ C        ┆ 2       ┆ 2   ┆ 46.64     │\n",
       "│ C        ┆ 3       ┆ 3   ┆ 41.606667 │\n",
       "│ C        ┆ 5       ┆ 2   ┆ 37.715    │\n",
       "│ C        ┆ 6       ┆ 1   ┆ 28.63     │\n",
       "└──────────┴─────────┴─────┴───────────┘"
      ]
     },
     "execution_count": 11,
     "metadata": {},
     "output_type": "execute_result"
    }
   ],
   "source": [
    "# more than one column in groupby\n",
    "\n",
    "# avg value and number of rows on each weekday for each category\n",
    "\n",
    "(\n",
    "    df.with_columns((pl.col(\"timestamp\").dt.weekday().alias(\"weekday\")))\n",
    "      .group_by([\"category\", \"weekday\"])\n",
    "      .agg([\n",
    "          pl.len().alias(\"n\"),\n",
    "          pl.col(\"value\").mean().alias(\"avg_value\")\n",
    "      ])\n",
    "      .sort([\"category\", \"weekday\"])\n",
    "\n",
    ")"
   ]
  },
  {
   "cell_type": "markdown",
   "metadata": {
    "application/vnd.databricks.v1+cell": {
     "cellMetadata": {
      "byteLimit": 2048000,
      "rowLimit": 10000
     },
     "inputWidgets": {},
     "nuid": "d9dd8450-ae90-47b1-b3cc-561c98392d6a",
     "showTitle": false,
     "tableResultSettingsMap": {},
     "title": ""
    }
   },
   "source": [
    "For next part:\n",
    "\n",
    "1. Window functions\n",
    "2. Joins\n",
    "3. Pivot\n",
    "4. List and explode\n",
    "5. Conditional logic - when/otherwise\n",
    "6. Lazy dataframe best practices"
   ]
  },
  {
   "cell_type": "markdown",
   "metadata": {
    "application/vnd.databricks.v1+cell": {
     "cellMetadata": {},
     "inputWidgets": {},
     "nuid": "1162fe69-8c37-47b9-a5b3-62c7eb34d4ad",
     "showTitle": false,
     "tableResultSettingsMap": {},
     "title": ""
    }
   },
   "source": [
    "5. Window functions and rolling aggregrations\n",
    "\n",
    "- use .over() to apply an expression as a window function\n",
    "- use groupby_rolling or groupby_dynamic for time based rolling in Polars"
   ]
  },
  {
   "cell_type": "code",
   "execution_count": 0,
   "metadata": {
    "application/vnd.databricks.v1+cell": {
     "cellMetadata": {
      "byteLimit": 2048000,
      "rowLimit": 10000
     },
     "inputWidgets": {},
     "nuid": "c9202657-6d14-45e4-839c-8b2dcd362c02",
     "showTitle": false,
     "tableResultSettingsMap": {},
     "title": ""
    }
   },
   "outputs": [
    {
     "output_type": "execute_result",
     "data": {
      "text/html": [
       "<div><style>\n",
       ".dataframe > thead > tr,\n",
       ".dataframe > tbody > tr {\n",
       "  text-align: right;\n",
       "  white-space: pre-wrap;\n",
       "}\n",
       "</style>\n",
       "<small>shape: (20, 7)</small><table border=\"1\" class=\"dataframe\"><thead><tr><th>id</th><th>category</th><th>value</th><th>timestamp</th><th>small_list</th><th>rank_within_cat</th><th>mean_within_cat</th></tr><tr><td>i64</td><td>str</td><td>f64</td><td>datetime[μs]</td><td>list[i64]</td><td>u32</td><td>f64</td></tr></thead><tbody><tr><td>1</td><td>&quot;C&quot;</td><td>43.05</td><td>2025-01-20 00:00:00</td><td>[1]</td><td>6</td><td>40.578889</td></tr><tr><td>2</td><td>&quot;A&quot;</td><td>43.01</td><td>2025-01-28 00:00:00</td><td>[1, 2]</td><td>3</td><td>42.276</td></tr><tr><td>3</td><td>&quot;C&quot;</td><td>53.63</td><td>2025-01-15 00:00:00</td><td>[1, 2, 3]</td><td>8</td><td>40.578889</td></tr><tr><td>4</td><td>&quot;C&quot;</td><td>21.3</td><td>2025-01-28 00:00:00</td><td>[]</td><td>1</td><td>40.578889</td></tr><tr><td>5</td><td>&quot;A&quot;</td><td>24.13</td><td>2025-01-07 00:00:00</td><td>[1]</td><td>1</td><td>42.276</td></tr><tr><td>&hellip;</td><td>&hellip;</td><td>&hellip;</td><td>&hellip;</td><td>&hellip;</td><td>&hellip;</td><td>&hellip;</td></tr><tr><td>16</td><td>&quot;A&quot;</td><td>51.66</td><td>2025-01-04 00:00:00</td><td>[]</td><td>5</td><td>42.276</td></tr><tr><td>17</td><td>&quot;B&quot;</td><td>32.74</td><td>2025-01-02 00:00:00</td><td>[1]</td><td>1</td><td>45.255</td></tr><tr><td>18</td><td>&quot;B&quot;</td><td>55.64</td><td>2025-01-30 00:00:00</td><td>[1, 2]</td><td>6</td><td>45.255</td></tr><tr><td>19</td><td>&quot;B&quot;</td><td>40.99</td><td>2025-01-06 00:00:00</td><td>[1, 2, 3]</td><td>2</td><td>45.255</td></tr><tr><td>20</td><td>&quot;B&quot;</td><td>45.62</td><td>2025-01-22 00:00:00</td><td>[]</td><td>4</td><td>45.255</td></tr></tbody></table></div>"
      ],
      "text/plain": [
       "shape: (20, 7)\n",
       "┌─────┬──────────┬───────┬─────────────────────┬────────────┬─────────────────┬─────────────────┐\n",
       "│ id  ┆ category ┆ value ┆ timestamp           ┆ small_list ┆ rank_within_cat ┆ mean_within_cat │\n",
       "│ --- ┆ ---      ┆ ---   ┆ ---                 ┆ ---        ┆ ---             ┆ ---             │\n",
       "│ i64 ┆ str      ┆ f64   ┆ datetime[μs]        ┆ list[i64]  ┆ u32             ┆ f64             │\n",
       "╞═════╪══════════╪═══════╪═════════════════════╪════════════╪═════════════════╪═════════════════╡\n",
       "│ 1   ┆ C        ┆ 43.05 ┆ 2025-01-20 00:00:00 ┆ [1]        ┆ 6               ┆ 40.578889       │\n",
       "│ 2   ┆ A        ┆ 43.01 ┆ 2025-01-28 00:00:00 ┆ [1, 2]     ┆ 3               ┆ 42.276          │\n",
       "│ 3   ┆ C        ┆ 53.63 ┆ 2025-01-15 00:00:00 ┆ [1, 2, 3]  ┆ 8               ┆ 40.578889       │\n",
       "│ 4   ┆ C        ┆ 21.3  ┆ 2025-01-28 00:00:00 ┆ []         ┆ 1               ┆ 40.578889       │\n",
       "│ 5   ┆ A        ┆ 24.13 ┆ 2025-01-07 00:00:00 ┆ [1]        ┆ 1               ┆ 42.276          │\n",
       "│ …   ┆ …        ┆ …     ┆ …                   ┆ …          ┆ …               ┆ …               │\n",
       "│ 16  ┆ A        ┆ 51.66 ┆ 2025-01-04 00:00:00 ┆ []         ┆ 5               ┆ 42.276          │\n",
       "│ 17  ┆ B        ┆ 32.74 ┆ 2025-01-02 00:00:00 ┆ [1]        ┆ 1               ┆ 45.255          │\n",
       "│ 18  ┆ B        ┆ 55.64 ┆ 2025-01-30 00:00:00 ┆ [1, 2]     ┆ 6               ┆ 45.255          │\n",
       "│ 19  ┆ B        ┆ 40.99 ┆ 2025-01-06 00:00:00 ┆ [1, 2, 3]  ┆ 2               ┆ 45.255          │\n",
       "│ 20  ┆ B        ┆ 45.62 ┆ 2025-01-22 00:00:00 ┆ []         ┆ 4               ┆ 45.255          │\n",
       "└─────┴──────────┴───────┴─────────────────────┴────────────┴─────────────────┴─────────────────┘"
      ]
     },
     "execution_count": 15,
     "metadata": {},
     "output_type": "execute_result"
    }
   ],
   "source": [
    "# create a simple window: partition by category and compute running mean of 'value'\n",
    "\n",
    "df_with_rank = (\n",
    "    df.with_columns([\n",
    "        pl.col(\"value\").rank(\"dense\").over(\"category\").alias(\"rank_within_cat\"),\n",
    "        pl.col(\"value\").mean().over(\"category\").alias(\"mean_within_cat\")\n",
    "    ])\n",
    ")\n",
    "\n",
    "df_with_rank"
   ]
  },
  {
   "cell_type": "code",
   "execution_count": 0,
   "metadata": {
    "application/vnd.databricks.v1+cell": {
     "cellMetadata": {
      "byteLimit": 2048000,
      "rowLimit": 10000
     },
     "inputWidgets": {},
     "nuid": "374d2c87-acae-4682-883c-ac3447b180f7",
     "showTitle": false,
     "tableResultSettingsMap": {},
     "title": ""
    }
   },
   "outputs": [
    {
     "output_type": "stream",
     "name": "stdout",
     "output_type": "stream",
     "text": [
      "shape: (5, 3)\n┌─────────────────────┬─────┬───────────┐\n│ timestamp           ┆ n   ┆ avg_value │\n│ ---                 ┆ --- ┆ ---       │\n│ datetime[μs]        ┆ u32 ┆ f64       │\n╞═════════════════════╪═════╪═══════════╡\n│ 2025-01-02 00:00:00 ┆ 8   ┆ 40.73625  │\n│ 2025-01-09 00:00:00 ┆ 4   ┆ 50.89     │\n│ 2025-01-16 00:00:00 ┆ 4   ┆ 40.9775   │\n│ 2025-01-23 00:00:00 ┆ 3   ┆ 33.04     │\n│ 2025-01-30 00:00:00 ┆ 1   ┆ 55.64     │\n└─────────────────────┴─────┴───────────┘\n"
     ]
    }
   ],
   "source": [
    "# Rolling / time-based: convert to LazyFrame and use groupby_dynamic for time windows\n",
    "\n",
    "# create a 7 day window based on timestamp. And then calculate number of rows in each window + avg_value of each window\n",
    "\n",
    "lf =  (\n",
    "    df.lazy()\n",
    "      .with_columns(pl.col(\"timestamp\").cast(pl.Datetime))\n",
    "      .sort(\"timestamp\")\n",
    ")\n",
    "\n",
    "result = (\n",
    "    lf.group_by_dynamic(\n",
    "        index_column=\"timestamp\",\n",
    "        every=\"7d\",\n",
    "        period=\"7d\",\n",
    "        offset=\"0d\"\n",
    "    )\n",
    "    .agg([\n",
    "        pl.len().alias(\"n\"),\n",
    "        pl.col(\"value\").mean().alias(\"avg_value\")\n",
    "    ])\n",
    "    .collect()\n",
    ")\n",
    "\n",
    "print(result)"
   ]
  },
  {
   "cell_type": "markdown",
   "metadata": {
    "application/vnd.databricks.v1+cell": {
     "cellMetadata": {},
     "inputWidgets": {},
     "nuid": "f98fa58a-ff26-49cd-a0a3-c10462cb1f27",
     "showTitle": false,
     "tableResultSettingsMap": {},
     "title": ""
    }
   },
   "source": [
    "6. Joins and concatenations\n",
    "\n",
    "- Joins in Polars behave SQL like. specify how and on/left_on/right_on\n",
    "- Use hstack/vstack for concatenation"
   ]
  },
  {
   "cell_type": "code",
   "execution_count": 0,
   "metadata": {
    "application/vnd.databricks.v1+cell": {
     "cellMetadata": {
      "byteLimit": 2048000,
      "rowLimit": 10000
     },
     "inputWidgets": {},
     "nuid": "30fd3a2d-eb28-471a-8a04-037eb4551e40",
     "showTitle": false,
     "tableResultSettingsMap": {},
     "title": ""
    }
   },
   "outputs": [
    {
     "output_type": "execute_result",
     "data": {
      "text/html": [
       "<div><style>\n",
       ".dataframe > thead > tr,\n",
       ".dataframe > tbody > tr {\n",
       "  text-align: right;\n",
       "  white-space: pre-wrap;\n",
       "}\n",
       "</style>\n",
       "<small>shape: (20, 4)</small><table border=\"1\" class=\"dataframe\"><thead><tr><th>id</th><th>category</th><th>description</th><th>value</th></tr><tr><td>i64</td><td>str</td><td>str</td><td>f64</td></tr></thead><tbody><tr><td>1</td><td>&quot;C&quot;</td><td>&quot;Group C&quot;</td><td>43.05</td></tr><tr><td>2</td><td>&quot;A&quot;</td><td>&quot;Group A&quot;</td><td>43.01</td></tr><tr><td>3</td><td>&quot;C&quot;</td><td>&quot;Group C&quot;</td><td>53.63</td></tr><tr><td>4</td><td>&quot;C&quot;</td><td>&quot;Group C&quot;</td><td>21.3</td></tr><tr><td>5</td><td>&quot;A&quot;</td><td>&quot;Group A&quot;</td><td>24.13</td></tr><tr><td>&hellip;</td><td>&hellip;</td><td>&hellip;</td><td>&hellip;</td></tr><tr><td>16</td><td>&quot;A&quot;</td><td>&quot;Group A&quot;</td><td>51.66</td></tr><tr><td>17</td><td>&quot;B&quot;</td><td>&quot;Group B&quot;</td><td>32.74</td></tr><tr><td>18</td><td>&quot;B&quot;</td><td>&quot;Group B&quot;</td><td>55.64</td></tr><tr><td>19</td><td>&quot;B&quot;</td><td>&quot;Group B&quot;</td><td>40.99</td></tr><tr><td>20</td><td>&quot;B&quot;</td><td>&quot;Group B&quot;</td><td>45.62</td></tr></tbody></table></div>"
      ],
      "text/plain": [
       "shape: (20, 4)\n",
       "┌─────┬──────────┬─────────────┬───────┐\n",
       "│ id  ┆ category ┆ description ┆ value │\n",
       "│ --- ┆ ---      ┆ ---         ┆ ---   │\n",
       "│ i64 ┆ str      ┆ str         ┆ f64   │\n",
       "╞═════╪══════════╪═════════════╪═══════╡\n",
       "│ 1   ┆ C        ┆ Group C     ┆ 43.05 │\n",
       "│ 2   ┆ A        ┆ Group A     ┆ 43.01 │\n",
       "│ 3   ┆ C        ┆ Group C     ┆ 53.63 │\n",
       "│ 4   ┆ C        ┆ Group C     ┆ 21.3  │\n",
       "│ 5   ┆ A        ┆ Group A     ┆ 24.13 │\n",
       "│ …   ┆ …        ┆ …           ┆ …     │\n",
       "│ 16  ┆ A        ┆ Group A     ┆ 51.66 │\n",
       "│ 17  ┆ B        ┆ Group B     ┆ 32.74 │\n",
       "│ 18  ┆ B        ┆ Group B     ┆ 55.64 │\n",
       "│ 19  ┆ B        ┆ Group B     ┆ 40.99 │\n",
       "│ 20  ┆ B        ┆ Group B     ┆ 45.62 │\n",
       "└─────┴──────────┴─────────────┴───────┘"
      ]
     },
     "execution_count": 33,
     "metadata": {},
     "output_type": "execute_result"
    }
   ],
   "source": [
    "# create a lookup table for category_metadata\n",
    "\n",
    "cat_meta = pl.DataFrame({\n",
    "  \"category\": [\"A\",\"B\",\"C\"],\n",
    "  \"description\": [\"Group A\",\"Group B\",\"Group C\"],\n",
    "  \"weight\": [1.0, 1.2, 0.9]\n",
    "})\n",
    "\n",
    "#join\n",
    "(df.join(cat_meta, on=\"category\", how=\"left\")).select([\"id\",\"category\",\"description\",\"value\"])"
   ]
  },
  {
   "cell_type": "code",
   "execution_count": 0,
   "metadata": {
    "application/vnd.databricks.v1+cell": {
     "cellMetadata": {
      "byteLimit": 2048000,
      "rowLimit": 10000
     },
     "inputWidgets": {},
     "nuid": "6e45003a-df76-4305-9b58-de5df56f62fb",
     "showTitle": false,
     "tableResultSettingsMap": {},
     "title": ""
    }
   },
   "outputs": [
    {
     "output_type": "stream",
     "name": "stdout",
     "output_type": "stream",
     "text": [
      "shape: (3, 3)\n┌─────┬──────────┬───────┐\n│ id  ┆ category ┆ value │\n│ --- ┆ ---      ┆ ---   │\n│ i64 ┆ str      ┆ i64   │\n╞═════╪══════════╪═══════╡\n│ 1   ┆ A        ┆ 10    │\n│ 2   ┆ B        ┆ 20    │\n│ 3   ┆ C        ┆ 30    │\n└─────┴──────────┴───────┘\n"
     ]
    }
   ],
   "source": [
    "#hstack and vstack for concatenation\n",
    "\n",
    "#hstack\n",
    "\n",
    "df1 = pl.DataFrame({\n",
    "    \"id\" : [1, 2, 3],\n",
    "    \"category\": [\"A\", \"B\", \"C\"]\n",
    "})\n",
    "\n",
    "df2 = pl.DataFrame({\n",
    "    \"value\":[10, 20, 30]\n",
    "})\n",
    "\n",
    "df_hstack = df1.hstack(df2)\n",
    "\n",
    "print(df_hstack)"
   ]
  },
  {
   "cell_type": "code",
   "execution_count": 0,
   "metadata": {
    "application/vnd.databricks.v1+cell": {
     "cellMetadata": {
      "byteLimit": 2048000,
      "rowLimit": 10000
     },
     "inputWidgets": {},
     "nuid": "0e6b26ff-9554-43a4-9a62-f5ed876cf5b8",
     "showTitle": false,
     "tableResultSettingsMap": {},
     "title": ""
    }
   },
   "outputs": [
    {
     "output_type": "stream",
     "name": "stdout",
     "output_type": "stream",
     "text": [
      "shape: (5, 2)\n┌─────┬──────────┐\n│ id  ┆ category │\n│ --- ┆ ---      │\n│ i64 ┆ str      │\n╞═════╪══════════╡\n│ 1   ┆ A        │\n│ 2   ┆ B        │\n│ 3   ┆ C        │\n│ 4   ┆ A        │\n│ 5   ┆ B        │\n└─────┴──────────┘\n"
     ]
    }
   ],
   "source": [
    "#vstack - vertical concatenation\n",
    "\n",
    "df2 = pl.DataFrame({\n",
    "    \"id\" : [4, 5],\n",
    "    \"category\": [\"A\", \"B\"]\n",
    "})\n",
    "\n",
    "df_vstack = df1.vstack(df2)\n",
    "\n",
    "print(df_vstack)"
   ]
  },
  {
   "cell_type": "markdown",
   "metadata": {
    "application/vnd.databricks.v1+cell": {
     "cellMetadata": {},
     "inputWidgets": {},
     "nuid": "cfdb1d88-7868-4d3e-987f-76423568afa6",
     "showTitle": false,
     "tableResultSettingsMap": {},
     "title": ""
    }
   },
   "source": [
    "7. Pivot and Unpivot(melt)\n",
    "\n",
    "- pivot - useful for turning groupby aggregations to wide form\n",
    "- melt - (unpivot) from wide to long"
   ]
  },
  {
   "cell_type": "code",
   "execution_count": 0,
   "metadata": {
    "application/vnd.databricks.v1+cell": {
     "cellMetadata": {
      "byteLimit": 2048000,
      "rowLimit": 10000
     },
     "inputWidgets": {},
     "nuid": "2289831e-71ac-404e-8e74-5bfd8feee62d",
     "showTitle": false,
     "tableResultSettingsMap": {},
     "title": ""
    }
   },
   "outputs": [
    {
     "output_type": "execute_result",
     "data": {
      "text/html": [
       "<div><style>\n",
       ".dataframe > thead > tr,\n",
       ".dataframe > tbody > tr {\n",
       "  text-align: right;\n",
       "  white-space: pre-wrap;\n",
       "}\n",
       "</style>\n",
       "<small>shape: (7, 4)</small><table border=\"1\" class=\"dataframe\"><thead><tr><th>weekday</th><th>C</th><th>A</th><th>B</th></tr><tr><td>i8</td><td>f64</td><td>f64</td><td>f64</td></tr></thead><tbody><tr><td>1</td><td>43.05</td><td>null</td><td>40.99</td></tr><tr><td>2</td><td>46.64</td><td>33.57</td><td>null</td></tr><tr><td>3</td><td>41.606667</td><td>null</td><td>47.386667</td></tr><tr><td>7</td><td>null</td><td>41.57</td><td>null</td></tr><tr><td>5</td><td>37.715</td><td>null</td><td>null</td></tr><tr><td>6</td><td>28.63</td><td>51.335</td><td>null</td></tr><tr><td>4</td><td>null</td><td>null</td><td>44.19</td></tr></tbody></table></div>"
      ],
      "text/plain": [
       "shape: (7, 4)\n",
       "┌─────────┬───────────┬────────┬───────────┐\n",
       "│ weekday ┆ C         ┆ A      ┆ B         │\n",
       "│ ---     ┆ ---       ┆ ---    ┆ ---       │\n",
       "│ i8      ┆ f64       ┆ f64    ┆ f64       │\n",
       "╞═════════╪═══════════╪════════╪═══════════╡\n",
       "│ 1       ┆ 43.05     ┆ null   ┆ 40.99     │\n",
       "│ 2       ┆ 46.64     ┆ 33.57  ┆ null      │\n",
       "│ 3       ┆ 41.606667 ┆ null   ┆ 47.386667 │\n",
       "│ 7       ┆ null      ┆ 41.57  ┆ null      │\n",
       "│ 5       ┆ 37.715    ┆ null   ┆ null      │\n",
       "│ 6       ┆ 28.63     ┆ 51.335 ┆ null      │\n",
       "│ 4       ┆ null      ┆ null   ┆ 44.19     │\n",
       "└─────────┴───────────┴────────┴───────────┘"
      ]
     },
     "execution_count": 53,
     "metadata": {},
     "output_type": "execute_result"
    }
   ],
   "source": [
    "# pivot: average value per category for each weekday\n",
    "\n",
    "(\n",
    "    df.with_columns(pl.col(\"timestamp\").dt.weekday().alias(\"weekday\"))\n",
    "      .pivot(\n",
    "          values= \"value\",\n",
    "          index= \"weekday\",\n",
    "          on=\"category\",\n",
    "          aggregate_function=\"mean\"\n",
    "      )\n",
    ")"
   ]
  },
  {
   "cell_type": "code",
   "execution_count": 0,
   "metadata": {
    "application/vnd.databricks.v1+cell": {
     "cellMetadata": {
      "byteLimit": 2048000,
      "rowLimit": 10000
     },
     "inputWidgets": {},
     "nuid": "9b08a523-1590-48c5-b8c1-668f52e4f90f",
     "showTitle": false,
     "tableResultSettingsMap": {},
     "title": ""
    }
   },
   "outputs": [
    {
     "output_type": "execute_result",
     "data": {
      "text/html": [
       "<div><style>\n",
       ".dataframe > thead > tr,\n",
       ".dataframe > tbody > tr {\n",
       "  text-align: right;\n",
       "  white-space: pre-wrap;\n",
       "}\n",
       "</style>\n",
       "<small>shape: (6, 3)</small><table border=\"1\" class=\"dataframe\"><thead><tr><th>id</th><th>category</th><th>value</th></tr><tr><td>i64</td><td>str</td><td>i64</td></tr></thead><tbody><tr><td>1</td><td>&quot;A&quot;</td><td>10</td></tr><tr><td>2</td><td>&quot;A&quot;</td><td>20</td></tr><tr><td>3</td><td>&quot;A&quot;</td><td>30</td></tr><tr><td>1</td><td>&quot;B&quot;</td><td>5</td></tr><tr><td>2</td><td>&quot;B&quot;</td><td>6</td></tr><tr><td>3</td><td>&quot;B&quot;</td><td>7</td></tr></tbody></table></div>"
      ],
      "text/plain": [
       "shape: (6, 3)\n",
       "┌─────┬──────────┬───────┐\n",
       "│ id  ┆ category ┆ value │\n",
       "│ --- ┆ ---      ┆ ---   │\n",
       "│ i64 ┆ str      ┆ i64   │\n",
       "╞═════╪══════════╪═══════╡\n",
       "│ 1   ┆ A        ┆ 10    │\n",
       "│ 2   ┆ A        ┆ 20    │\n",
       "│ 3   ┆ A        ┆ 30    │\n",
       "│ 1   ┆ B        ┆ 5     │\n",
       "│ 2   ┆ B        ┆ 6     │\n",
       "│ 3   ┆ B        ┆ 7     │\n",
       "└─────┴──────────┴───────┘"
      ]
     },
     "execution_count": 57,
     "metadata": {},
     "output_type": "execute_result"
    }
   ],
   "source": [
    "# melt (unpivot) \n",
    "\n",
    "wide = pl.DataFrame({\n",
    "    \"id\": [1, 2, 3],\n",
    "    \"A\": [10, 20, 30],\n",
    "    \"B\": [5, 6, 7]\n",
    "})\n",
    "\n",
    "wide.unpivot(index=[\"id\"], on=[\"A\",\"B\"], variable_name=\"category\", value_name=\"value\")"
   ]
  },
  {
   "cell_type": "markdown",
   "metadata": {
    "application/vnd.databricks.v1+cell": {
     "cellMetadata": {},
     "inputWidgets": {},
     "nuid": "956ffebe-6ed4-4c7a-b7b6-c5115df39f2a",
     "showTitle": false,
     "tableResultSettingsMap": {},
     "title": ""
    }
   },
   "source": [
    "8. Working with list and explode\n",
    "\n",
    "- Polars has native list-columns and many list functions."
   ]
  },
  {
   "cell_type": "code",
   "execution_count": 0,
   "metadata": {
    "application/vnd.databricks.v1+cell": {
     "cellMetadata": {
      "byteLimit": 2048000,
      "rowLimit": 10000
     },
     "inputWidgets": {},
     "nuid": "5e27a5dd-6254-4502-8d77-98d4040b367c",
     "showTitle": false,
     "tableResultSettingsMap": {},
     "title": ""
    }
   },
   "outputs": [
    {
     "output_type": "stream",
     "name": "stdout",
     "output_type": "stream",
     "text": [
      "shape: (35, 5)\n┌─────┬──────────┬───────┬─────────────────────┬────────────┐\n│ id  ┆ category ┆ value ┆ timestamp           ┆ small_list │\n│ --- ┆ ---      ┆ ---   ┆ ---                 ┆ ---        │\n│ i64 ┆ str      ┆ f64   ┆ datetime[μs]        ┆ i64        │\n╞═════╪══════════╪═══════╪═════════════════════╪════════════╡\n│ 1   ┆ C        ┆ 43.05 ┆ 2025-01-20 00:00:00 ┆ 1          │\n│ 2   ┆ A        ┆ 43.01 ┆ 2025-01-28 00:00:00 ┆ 1          │\n│ 2   ┆ A        ┆ 43.01 ┆ 2025-01-28 00:00:00 ┆ 2          │\n│ 3   ┆ C        ┆ 53.63 ┆ 2025-01-15 00:00:00 ┆ 1          │\n│ 3   ┆ C        ┆ 53.63 ┆ 2025-01-15 00:00:00 ┆ 2          │\n│ …   ┆ …        ┆ …     ┆ …                   ┆ …          │\n│ 18  ┆ B        ┆ 55.64 ┆ 2025-01-30 00:00:00 ┆ 2          │\n│ 19  ┆ B        ┆ 40.99 ┆ 2025-01-06 00:00:00 ┆ 1          │\n│ 19  ┆ B        ┆ 40.99 ┆ 2025-01-06 00:00:00 ┆ 2          │\n│ 19  ┆ B        ┆ 40.99 ┆ 2025-01-06 00:00:00 ┆ 3          │\n│ 20  ┆ B        ┆ 45.62 ┆ 2025-01-22 00:00:00 ┆ null       │\n└─────┴──────────┴───────┴─────────────────────┴────────────┘\n"
     ]
    }
   ],
   "source": [
    "# explode the list column values into separate rows\n",
    "\n",
    "exploded = df.explode(\"small_list\")\n",
    "print(exploded)"
   ]
  },
  {
   "cell_type": "markdown",
   "metadata": {
    "application/vnd.databricks.v1+cell": {
     "cellMetadata": {},
     "inputWidgets": {},
     "nuid": "c0e20857-5604-4923-8979-aac0b99b5ffa",
     "showTitle": false,
     "tableResultSettingsMap": {},
     "title": ""
    }
   },
   "source": [
    "9. Conditional logic : when/otherwise\n",
    "\n",
    "- similar to case when logic in SQL\n",
    "- pl.when(condition).then(expr).otherwise(expr)"
   ]
  },
  {
   "cell_type": "code",
   "execution_count": 0,
   "metadata": {
    "application/vnd.databricks.v1+cell": {
     "cellMetadata": {
      "byteLimit": 2048000,
      "rowLimit": 10000
     },
     "inputWidgets": {},
     "nuid": "9a880df8-3370-43a4-bd1b-6a607c893e24",
     "showTitle": false,
     "tableResultSettingsMap": {},
     "title": ""
    }
   },
   "outputs": [
    {
     "output_type": "execute_result",
     "data": {
      "text/html": [
       "<div><style>\n",
       ".dataframe > thead > tr,\n",
       ".dataframe > tbody > tr {\n",
       "  text-align: right;\n",
       "  white-space: pre-wrap;\n",
       "}\n",
       "</style>\n",
       "<small>shape: (20, 6)</small><table border=\"1\" class=\"dataframe\"><thead><tr><th>id</th><th>category</th><th>value</th><th>timestamp</th><th>small_list</th><th>value_bucket</th></tr><tr><td>i64</td><td>str</td><td>f64</td><td>datetime[μs]</td><td>list[i64]</td><td>str</td></tr></thead><tbody><tr><td>1</td><td>&quot;C&quot;</td><td>43.05</td><td>2025-01-20 00:00:00</td><td>[1]</td><td>&quot;medium&quot;</td></tr><tr><td>2</td><td>&quot;A&quot;</td><td>43.01</td><td>2025-01-28 00:00:00</td><td>[1, 2]</td><td>&quot;medium&quot;</td></tr><tr><td>3</td><td>&quot;C&quot;</td><td>53.63</td><td>2025-01-15 00:00:00</td><td>[1, 2, 3]</td><td>&quot;medium&quot;</td></tr><tr><td>4</td><td>&quot;C&quot;</td><td>21.3</td><td>2025-01-28 00:00:00</td><td>[]</td><td>&quot;low&quot;</td></tr><tr><td>5</td><td>&quot;A&quot;</td><td>24.13</td><td>2025-01-07 00:00:00</td><td>[1]</td><td>&quot;low&quot;</td></tr><tr><td>&hellip;</td><td>&hellip;</td><td>&hellip;</td><td>&hellip;</td><td>&hellip;</td><td>&hellip;</td></tr><tr><td>16</td><td>&quot;A&quot;</td><td>51.66</td><td>2025-01-04 00:00:00</td><td>[]</td><td>&quot;medium&quot;</td></tr><tr><td>17</td><td>&quot;B&quot;</td><td>32.74</td><td>2025-01-02 00:00:00</td><td>[1]</td><td>&quot;low&quot;</td></tr><tr><td>18</td><td>&quot;B&quot;</td><td>55.64</td><td>2025-01-30 00:00:00</td><td>[1, 2]</td><td>&quot;medium&quot;</td></tr><tr><td>19</td><td>&quot;B&quot;</td><td>40.99</td><td>2025-01-06 00:00:00</td><td>[1, 2, 3]</td><td>&quot;medium&quot;</td></tr><tr><td>20</td><td>&quot;B&quot;</td><td>45.62</td><td>2025-01-22 00:00:00</td><td>[]</td><td>&quot;medium&quot;</td></tr></tbody></table></div>"
      ],
      "text/plain": [
       "shape: (20, 6)\n",
       "┌─────┬──────────┬───────┬─────────────────────┬────────────┬──────────────┐\n",
       "│ id  ┆ category ┆ value ┆ timestamp           ┆ small_list ┆ value_bucket │\n",
       "│ --- ┆ ---      ┆ ---   ┆ ---                 ┆ ---        ┆ ---          │\n",
       "│ i64 ┆ str      ┆ f64   ┆ datetime[μs]        ┆ list[i64]  ┆ str          │\n",
       "╞═════╪══════════╪═══════╪═════════════════════╪════════════╪══════════════╡\n",
       "│ 1   ┆ C        ┆ 43.05 ┆ 2025-01-20 00:00:00 ┆ [1]        ┆ medium       │\n",
       "│ 2   ┆ A        ┆ 43.01 ┆ 2025-01-28 00:00:00 ┆ [1, 2]     ┆ medium       │\n",
       "│ 3   ┆ C        ┆ 53.63 ┆ 2025-01-15 00:00:00 ┆ [1, 2, 3]  ┆ medium       │\n",
       "│ 4   ┆ C        ┆ 21.3  ┆ 2025-01-28 00:00:00 ┆ []         ┆ low          │\n",
       "│ 5   ┆ A        ┆ 24.13 ┆ 2025-01-07 00:00:00 ┆ [1]        ┆ low          │\n",
       "│ …   ┆ …        ┆ …     ┆ …                   ┆ …          ┆ …            │\n",
       "│ 16  ┆ A        ┆ 51.66 ┆ 2025-01-04 00:00:00 ┆ []         ┆ medium       │\n",
       "│ 17  ┆ B        ┆ 32.74 ┆ 2025-01-02 00:00:00 ┆ [1]        ┆ low          │\n",
       "│ 18  ┆ B        ┆ 55.64 ┆ 2025-01-30 00:00:00 ┆ [1, 2]     ┆ medium       │\n",
       "│ 19  ┆ B        ┆ 40.99 ┆ 2025-01-06 00:00:00 ┆ [1, 2, 3]  ┆ medium       │\n",
       "│ 20  ┆ B        ┆ 45.62 ┆ 2025-01-22 00:00:00 ┆ []         ┆ medium       │\n",
       "└─────┴──────────┴───────┴─────────────────────┴────────────┴──────────────┘"
      ]
     },
     "execution_count": 66,
     "metadata": {},
     "output_type": "execute_result"
    }
   ],
   "source": [
    "# CASES : when value>60 then high, >40 ->medium, otherwise low\n",
    "\n",
    "(\n",
    "  df.with_columns([\n",
    "    pl.when(pl.col(\"value\") > 60).then(pl.lit(\"high\"))\n",
    "      .when(pl.col(\"value\") > 40).then(pl.lit(\"medium\"))\n",
    "      .otherwise(pl.lit(\"low\")).alias(\"value_bucket\")\n",
    "  ])\n",
    ")"
   ]
  },
  {
   "cell_type": "markdown",
   "metadata": {
    "application/vnd.databricks.v1+cell": {
     "cellMetadata": {},
     "inputWidgets": {},
     "nuid": "bf55224e-1ede-4b1b-8c59-19530dd6bd61",
     "showTitle": false,
     "tableResultSettingsMap": {},
     "title": ""
    }
   },
   "source": [
    "Advanced example\n",
    "\n",
    "Q. list top-2 values per category\n",
    "\n",
    "A. approach - rank + window function using over partition. Filter only top 2 in each category"
   ]
  },
  {
   "cell_type": "code",
   "execution_count": 0,
   "metadata": {
    "application/vnd.databricks.v1+cell": {
     "cellMetadata": {
      "byteLimit": 2048000,
      "rowLimit": 10000
     },
     "inputWidgets": {},
     "nuid": "e0b20827-611b-46a8-b2aa-290eae538bb9",
     "showTitle": false,
     "tableResultSettingsMap": {},
     "title": ""
    }
   },
   "outputs": [
    {
     "output_type": "stream",
     "name": "stdout",
     "output_type": "stream",
     "text": [
      "shape: (6, 6)\n┌─────┬──────────┬───────┬─────────────────────┬────────────┬─────────────────┐\n│ id  ┆ category ┆ value ┆ timestamp           ┆ small_list ┆ rank_within_cat │\n│ --- ┆ ---      ┆ ---   ┆ ---                 ┆ ---        ┆ ---             │\n│ i64 ┆ str      ┆ f64   ┆ datetime[μs]        ┆ list[i64]  ┆ u32             │\n╞═════╪══════════╪═══════╪═════════════════════╪════════════╪═════════════════╡\n│ 5   ┆ A        ┆ 24.13 ┆ 2025-01-07 00:00:00 ┆ [1]        ┆ 1               │\n│ 6   ┆ A        ┆ 41.57 ┆ 2025-01-12 00:00:00 ┆ [1, 2]     ┆ 2               │\n│ 17  ┆ B        ┆ 32.74 ┆ 2025-01-02 00:00:00 ┆ [1]        ┆ 1               │\n│ 19  ┆ B        ┆ 40.99 ┆ 2025-01-06 00:00:00 ┆ [1, 2, 3]  ┆ 2               │\n│ 4   ┆ C        ┆ 21.3  ┆ 2025-01-28 00:00:00 ┆ []         ┆ 1               │\n│ 14  ┆ C        ┆ 28.63 ┆ 2025-01-18 00:00:00 ┆ [1, 2]     ┆ 2               │\n└─────┴──────────┴───────┴─────────────────────┴────────────┴─────────────────┘\n"
     ]
    }
   ],
   "source": [
    "ranked = (\n",
    "    df.with_columns(\n",
    "        pl.col(\"value\").rank(\"dense\").over(\"category\").alias(\"rank_within_cat\")\n",
    "    )\n",
    "    .filter(pl.col(\"rank_within_cat\") <= 2)\n",
    "    .sort([\"category\", \"rank_within_cat\"], descending=[False,False])\n",
    ")\n",
    "\n",
    "print(ranked)"
   ]
  },
  {
   "cell_type": "code",
   "execution_count": 0,
   "metadata": {
    "application/vnd.databricks.v1+cell": {
     "cellMetadata": {
      "byteLimit": 2048000,
      "rowLimit": 10000
     },
     "inputWidgets": {},
     "nuid": "ba853a66-7f46-448e-9b7e-e5c9f9d54e19",
     "showTitle": false,
     "tableResultSettingsMap": {},
     "title": ""
    }
   },
   "outputs": [
    {
     "output_type": "execute_result",
     "data": {
      "text/html": [
       "<div><style>\n",
       ".dataframe > thead > tr,\n",
       ".dataframe > tbody > tr {\n",
       "  text-align: right;\n",
       "  white-space: pre-wrap;\n",
       "}\n",
       "</style>\n",
       "<small>shape: (3, 3)</small><table border=\"1\" class=\"dataframe\"><thead><tr><th>category</th><th>p75</th><th>median</th></tr><tr><td>str</td><td>f64</td><td>f64</td></tr></thead><tbody><tr><td>&quot;C&quot;</td><td>46.61</td><td>36.38</td></tr><tr><td>&quot;B&quot;</td><td>54.71</td><td>45.62</td></tr><tr><td>&quot;A&quot;</td><td>51.01</td><td>43.01</td></tr></tbody></table></div>"
      ],
      "text/plain": [
       "shape: (3, 3)\n",
       "┌──────────┬───────┬────────┐\n",
       "│ category ┆ p75   ┆ median │\n",
       "│ ---      ┆ ---   ┆ ---    │\n",
       "│ str      ┆ f64   ┆ f64    │\n",
       "╞══════════╪═══════╪════════╡\n",
       "│ C        ┆ 46.61 ┆ 36.38  │\n",
       "│ B        ┆ 54.71 ┆ 45.62  │\n",
       "│ A        ┆ 51.01 ┆ 43.01  │\n",
       "└──────────┴───────┴────────┘"
      ]
     },
     "execution_count": 81,
     "metadata": {},
     "output_type": "execute_result"
    }
   ],
   "source": [
    "# compute percentiles per group (75th percentile). Use quantile\n",
    "\n",
    "(\n",
    "    df.group_by(\"category\")\n",
    "      .agg([\n",
    "          pl.col(\"value\").quantile(0.75).alias(\"p75\"),\n",
    "          pl.col(\"value\").quantile(0.5).alias(\"median\")\n",
    "      ])\n",
    ")"
   ]
  },
  {
   "cell_type": "markdown",
   "metadata": {
    "application/vnd.databricks.v1+cell": {
     "cellMetadata": {},
     "inputWidgets": {},
     "nuid": "09226e10-4c54-4d96-b266-85847d3ddc18",
     "showTitle": false,
     "tableResultSettingsMap": {},
     "title": ""
    }
   },
   "source": [
    "10. Write SQL like expressions\n",
    "\n"
   ]
  },
  {
   "cell_type": "markdown",
   "metadata": {
    "application/vnd.databricks.v1+cell": {
     "cellMetadata": {},
     "inputWidgets": {},
     "nuid": "0f4a0243-3ee7-4b24-8cd6-75640e332f95",
     "showTitle": false,
     "tableResultSettingsMap": {},
     "title": ""
    }
   },
   "source": [
    "example: \n",
    "SQL:\n",
    "\n",
    "# when value is >20, calculate avg value per category. Then show only those entries where  avg_value > 45 in the order of avg_value descending and limit to 10 entries\n",
    "\n",
    "SELECT \n",
    "  category, \n",
    "  avg(value) as avg_value\n",
    "FROM df\n",
    "  WHERE value>20\n",
    "GROUP BY category\n",
    "HAVING AVG(value)>45\n",
    "ORDER BY avg_value DESC\n",
    "LIMIT 10"
   ]
  },
  {
   "cell_type": "code",
   "execution_count": 0,
   "metadata": {
    "application/vnd.databricks.v1+cell": {
     "cellMetadata": {
      "byteLimit": 2048000,
      "rowLimit": 10000
     },
     "inputWidgets": {},
     "nuid": "77a09ecd-3bb3-4698-a128-6e9e79de37f7",
     "showTitle": false,
     "tableResultSettingsMap": {},
     "title": ""
    }
   },
   "outputs": [
    {
     "output_type": "execute_result",
     "data": {
      "text/html": [
       "<div><style>\n",
       ".dataframe > thead > tr,\n",
       ".dataframe > tbody > tr {\n",
       "  text-align: right;\n",
       "  white-space: pre-wrap;\n",
       "}\n",
       "</style>\n",
       "<small>shape: (1, 2)</small><table border=\"1\" class=\"dataframe\"><thead><tr><th>category</th><th>avg_value</th></tr><tr><td>str</td><td>f64</td></tr></thead><tbody><tr><td>&quot;B&quot;</td><td>45.255</td></tr></tbody></table></div>"
      ],
      "text/plain": [
       "shape: (1, 2)\n",
       "┌──────────┬───────────┐\n",
       "│ category ┆ avg_value │\n",
       "│ ---      ┆ ---       │\n",
       "│ str      ┆ f64       │\n",
       "╞══════════╪═══════════╡\n",
       "│ B        ┆ 45.255    │\n",
       "└──────────┴───────────┘"
      ]
     },
     "execution_count": 87,
     "metadata": {},
     "output_type": "execute_result"
    }
   ],
   "source": [
    "(\n",
    "    df.lazy()\n",
    "      .filter(pl.col(\"value\") > 20)\n",
    "      .group_by(\"category\")\n",
    "      .agg(pl.col(\"value\").mean().alias(\"avg_value\"))\n",
    "      .filter(pl.col(\"avg_value\") > 45)\n",
    "      .sort(\"avg_value\", descending = True)\n",
    "      .limit(10)\n",
    "      .collect()\n",
    ")"
   ]
  },
  {
   "cell_type": "markdown",
   "metadata": {
    "application/vnd.databricks.v1+cell": {
     "cellMetadata": {},
     "inputWidgets": {},
     "nuid": "f32ab264-7e65-4878-8ba3-c03d6373312e",
     "showTitle": false,
     "tableResultSettingsMap": {},
     "title": ""
    }
   },
   "source": [
    "Best practices in Polars\n",
    "\n",
    "1. Prefer lazyframe for large pipelines. df.lazy() - > expressions - >collect()\n",
    "2. use with_columns instead of repeated .with_column (fewer passes)\n",
    "3. Avoid .apply() and Python level UDFs. Use verctorized expressions more\n",
    "4. Use select to prune unwanted columns\n"
   ]
  }
 ],
 "metadata": {
  "application/vnd.databricks.v1+notebook": {
   "computePreferences": null,
   "dashboards": [],
   "environmentMetadata": {
    "base_environment": "",
    "environment_version": "3"
   },
   "inputWidgetPreferences": null,
   "language": "python",
   "notebookMetadata": {
    "pythonIndentUnit": 4
   },
   "notebookName": "Polars_Analytics",
   "widgets": {}
  },
  "language_info": {
   "name": "python"
  }
 },
 "nbformat": 4,
 "nbformat_minor": 0
}