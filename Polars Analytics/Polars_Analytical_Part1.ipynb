{
 "cells": [
  {
   "cell_type": "markdown",
   "metadata": {
    "application/vnd.databricks.v1+cell": {
     "cellMetadata": {},
     "inputWidgets": {},
     "nuid": "d9d27cc6-909d-4cb3-953e-02df3e9849b3",
     "showTitle": false,
     "tableResultSettingsMap": {},
     "title": ""
    }
   },
   "source": [
    "Goals:\n",
    "\n",
    "- Introduce Polars expressions\n",
    "- How to write SQL like queries\n",
    "- Advanced topics - window functions, join, pivot, exploding lists, conditional logic and custom UDFs\n"
   ]
  },
  {
   "cell_type": "code",
   "execution_count": 0,
   "metadata": {
    "application/vnd.databricks.v1+cell": {
     "cellMetadata": {
      "byteLimit": 2048000,
      "rowLimit": 10000
     },
     "inputWidgets": {},
     "nuid": "867d9e22-a903-4b1f-8620-627ed57fa23a",
     "showTitle": false,
     "tableResultSettingsMap": {},
     "title": ""
    }
   },
   "outputs": [
    {
     "output_type": "stream",
     "name": "stdout",
     "output_type": "stream",
     "text": [
      "Collecting polars\n  Downloading polars-1.34.0-py3-none-any.whl.metadata (10 kB)\nCollecting polars-runtime-32==1.34.0 (from polars)\n  Downloading polars_runtime_32-1.34.0-cp39-abi3-manylinux_2_24_aarch64.whl.metadata (1.5 kB)\nDownloading polars-1.34.0-py3-none-any.whl (772 kB)\n\u001B[?25l   \u001B[90m━━━━━━━━━━━━━━━━━━━━━━━━━━━━━━━━━━━━━━━━\u001B[0m \u001B[32m0.0/772.7 kB\u001B[0m \u001B[31m?\u001B[0m eta \u001B[36m-:--:--\u001B[0m\r\u001B[2K   \u001B[90m━━━━━━━━━━━━━━━━━━━━━━━━━━━━━━━━━━━━━━━━\u001B[0m \u001B[32m772.7/772.7 kB\u001B[0m \u001B[31m22.2 MB/s\u001B[0m eta \u001B[36m0:00:00\u001B[0m\n\u001B[?25hDownloading polars_runtime_32-1.34.0-cp39-abi3-manylinux_2_24_aarch64.whl (37.0 MB)\n\u001B[?25l   \u001B[90m━━━━━━━━━━━━━━━━━━━━━━━━━━━━━━━━━━━━━━━━\u001B[0m \u001B[32m0.0/37.0 MB\u001B[0m \u001B[31m?\u001B[0m eta \u001B[36m-:--:--\u001B[0m\r\u001B[2K   \u001B[91m━━━━━━━━━━━━━━━━\u001B[0m\u001B[90m╺\u001B[0m\u001B[90m━━━━━━━━━━━━━━━━━━━━━━━\u001B[0m \u001B[32m14.9/37.0 MB\u001B[0m \u001B[31m79.2 MB/s\u001B[0m eta \u001B[36m0:00:01\u001B[0m\r\u001B[2K   \u001B[91m━━━━━━━━━━━━━━━━━━━━━━━━━━━━━━━━━━━━━━━\u001B[0m\u001B[91m╸\u001B[0m \u001B[32m37.0/37.0 MB\u001B[0m \u001B[31m95.5 MB/s\u001B[0m eta \u001B[36m0:00:01\u001B[0m\r\u001B[2K   \u001B[90m━━━━━━━━━━━━━━━━━━━━━━━━━━━━━━━━━━━━━━━━\u001B[0m \u001B[32m37.0/37.0 MB\u001B[0m \u001B[31m76.3 MB/s\u001B[0m eta \u001B[36m0:00:00\u001B[0m\n\u001B[?25hInstalling collected packages: polars-runtime-32, polars\nSuccessfully installed polars-1.34.0 polars-runtime-32-1.34.0\n\u001B[43mNote: you may need to restart the kernel using %restart_python or dbutils.library.restartPython() to use updated packages.\u001B[0m\n"
     ]
    }
   ],
   "source": [
    "!pip install polars"
   ]
  },
  {
   "cell_type": "code",
   "execution_count": 0,
   "metadata": {
    "application/vnd.databricks.v1+cell": {
     "cellMetadata": {
      "byteLimit": 2048000,
      "rowLimit": 10000
     },
     "inputWidgets": {},
     "nuid": "8980887c-fdd7-473c-a6e7-1d150bd82b70",
     "showTitle": false,
     "tableResultSettingsMap": {},
     "title": ""
    }
   },
   "outputs": [],
   "source": [
    "import polars as pl\n",
    "import numpy as np\n",
    "import datetime as dt"
   ]
  },
  {
   "cell_type": "code",
   "execution_count": 0,
   "metadata": {
    "application/vnd.databricks.v1+cell": {
     "cellMetadata": {
      "byteLimit": 2048000,
      "rowLimit": 10000
     },
     "inputWidgets": {},
     "nuid": "77a01b8b-6f61-4cf7-9a05-c570a801ec4e",
     "showTitle": false,
     "tableResultSettingsMap": {},
     "title": ""
    }
   },
   "outputs": [],
   "source": [
    "# Create a sample dataset to use \n",
    "\n",
    "np.random.seed(42)\n",
    "\n",
    "n = 20\n",
    "cats = [\"A\", \"B\", \"C\"]\n",
    "\n",
    "df = pl.DataFrame({\n",
    "    \"id\": np.arange(1,n+1),\n",
    "    \"category\": np.random.choice(cats, size=n),\n",
    "    \"value\": np.random.normal(loc=50, scale=15, size=n).round(2),\n",
    "    \"timestamp\": [dt.datetime(2025, 1, 1) + dt.timedelta(days=int(x)) for x in np.random.randint(0, 30, size=n)]\n",
    "})\n",
    "\n",
    "# add list column for explode demo\n",
    "\n",
    "df = df.with_columns([\n",
    "    pl.int_ranges(1, 1 + (pl.col(\"id\") % 4)).alias(\"small_list\")\n",
    "])"
   ]
  },
  {
   "cell_type": "code",
   "execution_count": 0,
   "metadata": {
    "application/vnd.databricks.v1+cell": {
     "cellMetadata": {
      "byteLimit": 2048000,
      "rowLimit": 10000
     },
     "inputWidgets": {},
     "nuid": "f359e85c-b7c0-4342-ab83-348e1cc40ffc",
     "showTitle": false,
     "tableResultSettingsMap": {},
     "title": ""
    }
   },
   "outputs": [
    {
     "output_type": "stream",
     "name": "stdout",
     "output_type": "stream",
     "text": [
      "shape: (20, 5)\n┌─────┬──────────┬───────┬─────────────────────┬────────────┐\n│ id  ┆ category ┆ value ┆ timestamp           ┆ small_list │\n│ --- ┆ ---      ┆ ---   ┆ ---                 ┆ ---        │\n│ i64 ┆ str      ┆ f64   ┆ datetime[μs]        ┆ list[i64]  │\n╞═════╪══════════╪═══════╪═════════════════════╪════════════╡\n│ 1   ┆ C        ┆ 43.05 ┆ 2025-01-20 00:00:00 ┆ [1]        │\n│ 2   ┆ A        ┆ 43.01 ┆ 2025-01-28 00:00:00 ┆ [1, 2]     │\n│ 3   ┆ C        ┆ 53.63 ┆ 2025-01-15 00:00:00 ┆ [1, 2, 3]  │\n│ 4   ┆ C        ┆ 21.3  ┆ 2025-01-28 00:00:00 ┆ []         │\n│ 5   ┆ A        ┆ 24.13 ┆ 2025-01-07 00:00:00 ┆ [1]        │\n│ …   ┆ …        ┆ …     ┆ …                   ┆ …          │\n│ 16  ┆ A        ┆ 51.66 ┆ 2025-01-04 00:00:00 ┆ []         │\n│ 17  ┆ B        ┆ 32.74 ┆ 2025-01-02 00:00:00 ┆ [1]        │\n│ 18  ┆ B        ┆ 55.64 ┆ 2025-01-30 00:00:00 ┆ [1, 2]     │\n│ 19  ┆ B        ┆ 40.99 ┆ 2025-01-06 00:00:00 ┆ [1, 2, 3]  │\n│ 20  ┆ B        ┆ 45.62 ┆ 2025-01-22 00:00:00 ┆ []         │\n└─────┴──────────┴───────┴─────────────────────┴────────────┘\n"
     ]
    }
   ],
   "source": [
    "print(df)"
   ]
  },
  {
   "cell_type": "markdown",
   "metadata": {
    "application/vnd.databricks.v1+cell": {
     "cellMetadata": {},
     "inputWidgets": {},
     "nuid": "fb1e721a-23a8-4904-8be4-083c65252a23",
     "showTitle": false,
     "tableResultSettingsMap": {},
     "title": ""
    }
   },
   "source": [
    "1. Basic expressions\n",
    "\n",
    "- pl.col(\"colname\") - references a column\n",
    "- pl.lit(value) - literal value\n",
    "- expr.alias(\"new_name\") - rename expression\n",
    "- expr1 + expr2, expr * 2 etc - arithmetic expressions\n"
   ]
  },
  {
   "cell_type": "code",
   "execution_count": 0,
   "metadata": {
    "application/vnd.databricks.v1+cell": {
     "cellMetadata": {
      "byteLimit": 2048000,
      "rowLimit": 10000
     },
     "inputWidgets": {},
     "nuid": "53213c78-aaa6-45c4-b4aa-7f5462744f6c",
     "showTitle": false,
     "tableResultSettingsMap": {},
     "title": ""
    }
   },
   "outputs": [
    {
     "output_type": "execute_result",
     "data": {
      "text/html": [
       "<div><style>\n",
       ".dataframe > thead > tr,\n",
       ".dataframe > tbody > tr {\n",
       "  text-align: right;\n",
       "  white-space: pre-wrap;\n",
       "}\n",
       "</style>\n",
       "<small>shape: (20, 4)</small><table border=\"1\" class=\"dataframe\"><thead><tr><th>id</th><th>value</th><th>value_plus_10pct</th><th>cat</th></tr><tr><td>i64</td><td>f64</td><td>f64</td><td>str</td></tr></thead><tbody><tr><td>1</td><td>43.05</td><td>47.355</td><td>&quot;C&quot;</td></tr><tr><td>2</td><td>43.01</td><td>47.311</td><td>&quot;A&quot;</td></tr><tr><td>3</td><td>53.63</td><td>58.993</td><td>&quot;C&quot;</td></tr><tr><td>4</td><td>21.3</td><td>23.43</td><td>&quot;C&quot;</td></tr><tr><td>5</td><td>24.13</td><td>26.543</td><td>&quot;A&quot;</td></tr><tr><td>&hellip;</td><td>&hellip;</td><td>&hellip;</td><td>&hellip;</td></tr><tr><td>16</td><td>51.66</td><td>56.826</td><td>&quot;A&quot;</td></tr><tr><td>17</td><td>32.74</td><td>36.014</td><td>&quot;B&quot;</td></tr><tr><td>18</td><td>55.64</td><td>61.204</td><td>&quot;B&quot;</td></tr><tr><td>19</td><td>40.99</td><td>45.089</td><td>&quot;B&quot;</td></tr><tr><td>20</td><td>45.62</td><td>50.182</td><td>&quot;B&quot;</td></tr></tbody></table></div>"
      ],
      "text/plain": [
       "shape: (20, 4)\n",
       "┌─────┬───────┬──────────────────┬─────┐\n",
       "│ id  ┆ value ┆ value_plus_10pct ┆ cat │\n",
       "│ --- ┆ ---   ┆ ---              ┆ --- │\n",
       "│ i64 ┆ f64   ┆ f64              ┆ str │\n",
       "╞═════╪═══════╪══════════════════╪═════╡\n",
       "│ 1   ┆ 43.05 ┆ 47.355           ┆ C   │\n",
       "│ 2   ┆ 43.01 ┆ 47.311           ┆ A   │\n",
       "│ 3   ┆ 53.63 ┆ 58.993           ┆ C   │\n",
       "│ 4   ┆ 21.3  ┆ 23.43            ┆ C   │\n",
       "│ 5   ┆ 24.13 ┆ 26.543           ┆ A   │\n",
       "│ …   ┆ …     ┆ …                ┆ …   │\n",
       "│ 16  ┆ 51.66 ┆ 56.826           ┆ A   │\n",
       "│ 17  ┆ 32.74 ┆ 36.014           ┆ B   │\n",
       "│ 18  ┆ 55.64 ┆ 61.204           ┆ B   │\n",
       "│ 19  ┆ 40.99 ┆ 45.089           ┆ B   │\n",
       "│ 20  ┆ 45.62 ┆ 50.182           ┆ B   │\n",
       "└─────┴───────┴──────────────────┴─────┘"
      ]
     },
     "execution_count": 16,
     "metadata": {},
     "output_type": "execute_result"
    }
   ],
   "source": [
    "(\n",
    "    df.select([\n",
    "        pl.col(\"id\"),\n",
    "        pl.col(\"value\"),\n",
    "        (pl.col(\"value\") * 1.1).alias(\"value_plus_10pct\"),\n",
    "        pl.col(\"category\").alias(\"cat\")\n",
    "    ])\n",
    ")"
   ]
  },
  {
   "cell_type": "code",
   "execution_count": 0,
   "metadata": {
    "application/vnd.databricks.v1+cell": {
     "cellMetadata": {
      "byteLimit": 2048000,
      "rowLimit": 10000
     },
     "inputWidgets": {},
     "nuid": "351e3103-f44d-4487-a3fe-3d26a0b1f5fe",
     "showTitle": false,
     "tableResultSettingsMap": {},
     "title": ""
    }
   },
   "outputs": [
    {
     "output_type": "execute_result",
     "data": {
      "text/html": [
       "<div><style>\n",
       ".dataframe > thead > tr,\n",
       ".dataframe > tbody > tr {\n",
       "  text-align: right;\n",
       "  white-space: pre-wrap;\n",
       "}\n",
       "</style>\n",
       "<small>shape: (1, 3)</small><table border=\"1\" class=\"dataframe\"><thead><tr><th>mean_value</th><th>median_value</th><th>std_value</th></tr><tr><td>f64</td><td>f64</td><td>f64</td></tr></thead><tbody><tr><td>42.406</td><td>42.42</td><td>12.268675</td></tr></tbody></table></div>"
      ],
      "text/plain": [
       "shape: (1, 3)\n",
       "┌────────────┬──────────────┬───────────┐\n",
       "│ mean_value ┆ median_value ┆ std_value │\n",
       "│ ---        ┆ ---          ┆ ---       │\n",
       "│ f64        ┆ f64          ┆ f64       │\n",
       "╞════════════╪══════════════╪═══════════╡\n",
       "│ 42.406     ┆ 42.42        ┆ 12.268675 │\n",
       "└────────────┴──────────────┴───────────┘"
      ]
     },
     "execution_count": 18,
     "metadata": {},
     "output_type": "execute_result"
    }
   ],
   "source": [
    "# Using .round() and .floor etc.\n",
    "\n",
    "(\n",
    "    df.select([\n",
    "        pl.col(\"value\").mean().alias(\"mean_value\"),\n",
    "        pl.col(\"value\").median().alias(\"median_value\"),\n",
    "        pl.col(\"value\").std().alias(\"std_value\")\n",
    "    ])\n",
    ")"
   ]
  },
  {
   "cell_type": "markdown",
   "metadata": {
    "application/vnd.databricks.v1+cell": {
     "cellMetadata": {},
     "inputWidgets": {},
     "nuid": "1f5415c0-3695-475a-8a1d-7ea802696fe5",
     "showTitle": false,
     "tableResultSettingsMap": {},
     "title": ""
    }
   },
   "source": [
    "2. select, with_columns, with_column\n",
    "\n",
    "- select - creates a new DataFrame with only the provided expressions\n",
    "- with_columns - adds or replaces multiple columns\n",
    "- with_column - adds a single column"
   ]
  },
  {
   "cell_type": "code",
   "execution_count": 0,
   "metadata": {
    "application/vnd.databricks.v1+cell": {
     "cellMetadata": {
      "byteLimit": 2048000,
      "rowLimit": 10000
     },
     "inputWidgets": {},
     "nuid": "10b4042d-2af2-4437-986f-996bf947887a",
     "showTitle": false,
     "tableResultSettingsMap": {},
     "title": ""
    }
   },
   "outputs": [
    {
     "output_type": "execute_result",
     "data": {
      "text/html": [
       "<div><style>\n",
       ".dataframe > thead > tr,\n",
       ".dataframe > tbody > tr {\n",
       "  text-align: right;\n",
       "  white-space: pre-wrap;\n",
       "}\n",
       "</style>\n",
       "<small>shape: (20, 5)</small><table border=\"1\" class=\"dataframe\"><thead><tr><th>id</th><th>category</th><th>value</th><th>value_share</th><th>dense_rank</th></tr><tr><td>i64</td><td>str</td><td>f64</td><td>f64</td><td>u32</td></tr></thead><tbody><tr><td>1</td><td>&quot;C&quot;</td><td>43.05</td><td>0.050759</td><td>12</td></tr><tr><td>2</td><td>&quot;A&quot;</td><td>43.01</td><td>0.050712</td><td>11</td></tr><tr><td>3</td><td>&quot;C&quot;</td><td>53.63</td><td>0.063234</td><td>17</td></tr><tr><td>4</td><td>&quot;C&quot;</td><td>21.3</td><td>0.025114</td><td>1</td></tr><tr><td>5</td><td>&quot;A&quot;</td><td>24.13</td><td>0.028451</td><td>2</td></tr><tr><td>&hellip;</td><td>&hellip;</td><td>&hellip;</td><td>&hellip;</td><td>&hellip;</td></tr><tr><td>16</td><td>&quot;A&quot;</td><td>51.66</td><td>0.060911</td><td>16</td></tr><tr><td>17</td><td>&quot;B&quot;</td><td>32.74</td><td>0.038603</td><td>5</td></tr><tr><td>18</td><td>&quot;B&quot;</td><td>55.64</td><td>0.065604</td><td>19</td></tr><tr><td>19</td><td>&quot;B&quot;</td><td>40.99</td><td>0.04833</td><td>8</td></tr><tr><td>20</td><td>&quot;B&quot;</td><td>45.62</td><td>0.05379</td><td>13</td></tr></tbody></table></div>"
      ],
      "text/plain": [
       "shape: (20, 5)\n",
       "┌─────┬──────────┬───────┬─────────────┬────────────┐\n",
       "│ id  ┆ category ┆ value ┆ value_share ┆ dense_rank │\n",
       "│ --- ┆ ---      ┆ ---   ┆ ---         ┆ ---        │\n",
       "│ i64 ┆ str      ┆ f64   ┆ f64         ┆ u32        │\n",
       "╞═════╪══════════╪═══════╪═════════════╪════════════╡\n",
       "│ 1   ┆ C        ┆ 43.05 ┆ 0.050759    ┆ 12         │\n",
       "│ 2   ┆ A        ┆ 43.01 ┆ 0.050712    ┆ 11         │\n",
       "│ 3   ┆ C        ┆ 53.63 ┆ 0.063234    ┆ 17         │\n",
       "│ 4   ┆ C        ┆ 21.3  ┆ 0.025114    ┆ 1          │\n",
       "│ 5   ┆ A        ┆ 24.13 ┆ 0.028451    ┆ 2          │\n",
       "│ …   ┆ …        ┆ …     ┆ …           ┆ …          │\n",
       "│ 16  ┆ A        ┆ 51.66 ┆ 0.060911    ┆ 16         │\n",
       "│ 17  ┆ B        ┆ 32.74 ┆ 0.038603    ┆ 5          │\n",
       "│ 18  ┆ B        ┆ 55.64 ┆ 0.065604    ┆ 19         │\n",
       "│ 19  ┆ B        ┆ 40.99 ┆ 0.04833     ┆ 8          │\n",
       "│ 20  ┆ B        ┆ 45.62 ┆ 0.05379     ┆ 13         │\n",
       "└─────┴──────────┴───────┴─────────────┴────────────┘"
      ]
     },
     "execution_count": 23,
     "metadata": {},
     "output_type": "execute_result"
    }
   ],
   "source": [
    "# Add computed columns using expressions\n",
    "\n",
    "(\n",
    "    df.with_columns([\n",
    "        (pl.col(\"value\") / pl.col(\"value\").sum()).alias(\"value_share\"),\n",
    "        (pl.col(\"value\").rank(\"dense\")).alias(\"dense_rank\")\n",
    "    ])\n",
    "    .select([\"id\", \"category\", \"value\", \"value_share\", \"dense_rank\"])\n",
    ")"
   ]
  },
  {
   "cell_type": "markdown",
   "metadata": {
    "application/vnd.databricks.v1+cell": {
     "cellMetadata": {},
     "inputWidgets": {},
     "nuid": "1087e6b1-b20a-4afd-8c84-f9eea920ed25",
     "showTitle": false,
     "tableResultSettingsMap": {},
     "title": ""
    }
   },
   "source": [
    "3. Filtering(filter) and boolean logic expressions can be used inside filter"
   ]
  },
  {
   "cell_type": "code",
   "execution_count": 0,
   "metadata": {
    "application/vnd.databricks.v1+cell": {
     "cellMetadata": {
      "byteLimit": 2048000,
      "rowLimit": 10000
     },
     "inputWidgets": {},
     "nuid": "3ca0bc0e-0e5f-4516-bc42-d7eb49c6eb3b",
     "showTitle": false,
     "tableResultSettingsMap": {},
     "title": ""
    }
   },
   "outputs": [
    {
     "output_type": "stream",
     "name": "stdout",
     "output_type": "stream",
     "text": [
      "mean value: 42.406\nshape: (10, 5)\n┌─────┬──────────┬───────┬─────────────────────┬────────────┐\n│ id  ┆ category ┆ value ┆ timestamp           ┆ small_list │\n│ --- ┆ ---      ┆ ---   ┆ ---                 ┆ ---        │\n│ i64 ┆ str      ┆ f64   ┆ datetime[μs]        ┆ list[i64]  │\n╞═════╪══════════╪═══════╪═════════════════════╪════════════╡\n│ 1   ┆ C        ┆ 43.05 ┆ 2025-01-20 00:00:00 ┆ [1]        │\n│ 2   ┆ A        ┆ 43.01 ┆ 2025-01-28 00:00:00 ┆ [1, 2]     │\n│ 3   ┆ C        ┆ 53.63 ┆ 2025-01-15 00:00:00 ┆ [1, 2, 3]  │\n│ 8   ┆ B        ┆ 54.71 ┆ 2025-01-08 00:00:00 ┆ []         │\n│ 11  ┆ C        ┆ 71.98 ┆ 2025-01-14 00:00:00 ┆ [1, 2, 3]  │\n│ 12  ┆ C        ┆ 46.61 ┆ 2025-01-17 00:00:00 ┆ []         │\n│ 13  ┆ A        ┆ 51.01 ┆ 2025-01-04 00:00:00 ┆ [1]        │\n│ 16  ┆ A        ┆ 51.66 ┆ 2025-01-04 00:00:00 ┆ []         │\n│ 18  ┆ B        ┆ 55.64 ┆ 2025-01-30 00:00:00 ┆ [1, 2]     │\n│ 20  ┆ B        ┆ 45.62 ┆ 2025-01-22 00:00:00 ┆ []         │\n└─────┴──────────┴───────┴─────────────────────┴────────────┘\n"
     ]
    }
   ],
   "source": [
    "# Filter rows where value > mean\n",
    "\n",
    "mean_val = df.select(pl.col(\"value\").mean()).item()\n",
    "\n",
    "high = df.filter(pl.col(\"value\") > mean_val)\n",
    "\n",
    "print(\"mean value:\", mean_val)\n",
    "print(high)"
   ]
  },
  {
   "cell_type": "code",
   "execution_count": 0,
   "metadata": {
    "application/vnd.databricks.v1+cell": {
     "cellMetadata": {
      "byteLimit": 2048000,
      "rowLimit": 10000
     },
     "inputWidgets": {},
     "nuid": "69f80fc5-61de-4241-af05-87985b886bab",
     "showTitle": false,
     "tableResultSettingsMap": {},
     "title": ""
    }
   },
   "outputs": [
    {
     "output_type": "execute_result",
     "data": {
      "text/html": [
       "<div><style>\n",
       ".dataframe > thead > tr,\n",
       ".dataframe > tbody > tr {\n",
       "  text-align: right;\n",
       "  white-space: pre-wrap;\n",
       "}\n",
       "</style>\n",
       "<small>shape: (1, 5)</small><table border=\"1\" class=\"dataframe\"><thead><tr><th>id</th><th>category</th><th>value</th><th>timestamp</th><th>small_list</th></tr><tr><td>i64</td><td>str</td><td>f64</td><td>datetime[μs]</td><td>list[i64]</td></tr></thead><tbody><tr><td>11</td><td>&quot;C&quot;</td><td>71.98</td><td>2025-01-14 00:00:00</td><td>[1, 2, 3]</td></tr></tbody></table></div>"
      ],
      "text/plain": [
       "shape: (1, 5)\n",
       "┌─────┬──────────┬───────┬─────────────────────┬────────────┐\n",
       "│ id  ┆ category ┆ value ┆ timestamp           ┆ small_list │\n",
       "│ --- ┆ ---      ┆ ---   ┆ ---                 ┆ ---        │\n",
       "│ i64 ┆ str      ┆ f64   ┆ datetime[μs]        ┆ list[i64]  │\n",
       "╞═════╪══════════╪═══════╪═════════════════════╪════════════╡\n",
       "│ 11  ┆ C        ┆ 71.98 ┆ 2025-01-14 00:00:00 ┆ [1, 2, 3]  │\n",
       "└─────┴──────────┴───────┴─────────────────────┴────────────┘"
      ]
     },
     "execution_count": 30,
     "metadata": {},
     "output_type": "execute_result"
    }
   ],
   "source": [
    "df.filter((pl.col(\"category\") == \"C\") & (pl.col(\"value\") > 60))"
   ]
  },
  {
   "cell_type": "markdown",
   "metadata": {
    "application/vnd.databricks.v1+cell": {
     "cellMetadata": {},
     "inputWidgets": {},
     "nuid": "73d278c9-e740-4b69-8573-eb8e0bc02a37",
     "showTitle": false,
     "tableResultSettingsMap": {},
     "title": ""
    }
   },
   "source": [
    "4. Groupby & Aggregations \n",
    "\n",
    "- groupby accepts columns and then use .agg() with expressions\n"
   ]
  },
  {
   "cell_type": "code",
   "execution_count": 0,
   "metadata": {
    "application/vnd.databricks.v1+cell": {
     "cellMetadata": {
      "byteLimit": 2048000,
      "rowLimit": 10000
     },
     "inputWidgets": {},
     "nuid": "7fe3195f-7313-4d52-817c-fc96dd653990",
     "showTitle": false,
     "tableResultSettingsMap": {},
     "title": ""
    }
   },
   "outputs": [
    {
     "output_type": "execute_result",
     "data": {
      "text/html": [
       "<div><style>\n",
       ".dataframe > thead > tr,\n",
       ".dataframe > tbody > tr {\n",
       "  text-align: right;\n",
       "  white-space: pre-wrap;\n",
       "}\n",
       "</style>\n",
       "<small>shape: (3, 6)</small><table border=\"1\" class=\"dataframe\"><thead><tr><th>category</th><th>n</th><th>avg_value</th><th>median_value</th><th>std_value</th><th>max_id</th></tr><tr><td>str</td><td>u32</td><td>f64</td><td>f64</td><td>f64</td><td>i64</td></tr></thead><tbody><tr><td>&quot;B&quot;</td><td>6</td><td>45.255</td><td>43.725</td><td>8.7627</td><td>20</td></tr><tr><td>&quot;A&quot;</td><td>5</td><td>42.276</td><td>43.01</td><td>11.12044</td><td>16</td></tr><tr><td>&quot;C&quot;</td><td>9</td><td>40.578889</td><td>36.38</td><td>15.421072</td><td>14</td></tr></tbody></table></div>"
      ],
      "text/plain": [
       "shape: (3, 6)\n",
       "┌──────────┬─────┬───────────┬──────────────┬───────────┬────────┐\n",
       "│ category ┆ n   ┆ avg_value ┆ median_value ┆ std_value ┆ max_id │\n",
       "│ ---      ┆ --- ┆ ---       ┆ ---          ┆ ---       ┆ ---    │\n",
       "│ str      ┆ u32 ┆ f64       ┆ f64          ┆ f64       ┆ i64    │\n",
       "╞══════════╪═════╪═══════════╪══════════════╪═══════════╪════════╡\n",
       "│ B        ┆ 6   ┆ 45.255    ┆ 43.725       ┆ 8.7627    ┆ 20     │\n",
       "│ A        ┆ 5   ┆ 42.276    ┆ 43.01        ┆ 11.12044  ┆ 16     │\n",
       "│ C        ┆ 9   ┆ 40.578889 ┆ 36.38        ┆ 15.421072 ┆ 14     │\n",
       "└──────────┴─────┴───────────┴──────────────┴───────────┴────────┘"
      ]
     },
     "execution_count": 37,
     "metadata": {},
     "output_type": "execute_result"
    }
   ],
   "source": [
    "(\n",
    "    df.group_by(\"category\")\n",
    "    .agg([\n",
    "        pl.len().alias(\"n\"),  # calculate number of rows in each category\n",
    "        pl.col(\"value\").mean().alias(\"avg_value\"), # average value for each category\n",
    "        pl.col(\"value\").median().alias(\"median_value\"), # median value for each category\n",
    "        pl.col(\"value\").std().alias(\"std_value\"), # std value for each category\n",
    "        pl.col(\"id\").max().alias(\"max_id\") # max id for each category\n",
    "    ])\n",
    ")"
   ]
  },
  {
   "cell_type": "code",
   "execution_count": 0,
   "metadata": {
    "application/vnd.databricks.v1+cell": {
     "cellMetadata": {
      "byteLimit": 2048000,
      "rowLimit": 10000
     },
     "inputWidgets": {},
     "nuid": "498ec58c-95b3-465a-9dfe-380fbb2633e4",
     "showTitle": false,
     "tableResultSettingsMap": {},
     "title": ""
    }
   },
   "outputs": [
    {
     "output_type": "execute_result",
     "data": {
      "text/html": [
       "<div><style>\n",
       ".dataframe > thead > tr,\n",
       ".dataframe > tbody > tr {\n",
       "  text-align: right;\n",
       "  white-space: pre-wrap;\n",
       "}\n",
       "</style>\n",
       "<small>shape: (11, 4)</small><table border=\"1\" class=\"dataframe\"><thead><tr><th>category</th><th>weekday</th><th>n</th><th>avg_value</th></tr><tr><td>str</td><td>i8</td><td>u32</td><td>f64</td></tr></thead><tbody><tr><td>&quot;A&quot;</td><td>2</td><td>2</td><td>33.57</td></tr><tr><td>&quot;A&quot;</td><td>6</td><td>2</td><td>51.335</td></tr><tr><td>&quot;A&quot;</td><td>7</td><td>1</td><td>41.57</td></tr><tr><td>&quot;B&quot;</td><td>1</td><td>1</td><td>40.99</td></tr><tr><td>&quot;B&quot;</td><td>3</td><td>3</td><td>47.386667</td></tr><tr><td>&hellip;</td><td>&hellip;</td><td>&hellip;</td><td>&hellip;</td></tr><tr><td>&quot;C&quot;</td><td>1</td><td>1</td><td>43.05</td></tr><tr><td>&quot;C&quot;</td><td>2</td><td>2</td><td>46.64</td></tr><tr><td>&quot;C&quot;</td><td>3</td><td>3</td><td>41.606667</td></tr><tr><td>&quot;C&quot;</td><td>5</td><td>2</td><td>37.715</td></tr><tr><td>&quot;C&quot;</td><td>6</td><td>1</td><td>28.63</td></tr></tbody></table></div>"
      ],
      "text/plain": [
       "shape: (11, 4)\n",
       "┌──────────┬─────────┬─────┬───────────┐\n",
       "│ category ┆ weekday ┆ n   ┆ avg_value │\n",
       "│ ---      ┆ ---     ┆ --- ┆ ---       │\n",
       "│ str      ┆ i8      ┆ u32 ┆ f64       │\n",
       "╞══════════╪═════════╪═════╪═══════════╡\n",
       "│ A        ┆ 2       ┆ 2   ┆ 33.57     │\n",
       "│ A        ┆ 6       ┆ 2   ┆ 51.335    │\n",
       "│ A        ┆ 7       ┆ 1   ┆ 41.57     │\n",
       "│ B        ┆ 1       ┆ 1   ┆ 40.99     │\n",
       "│ B        ┆ 3       ┆ 3   ┆ 47.386667 │\n",
       "│ …        ┆ …       ┆ …   ┆ …         │\n",
       "│ C        ┆ 1       ┆ 1   ┆ 43.05     │\n",
       "│ C        ┆ 2       ┆ 2   ┆ 46.64     │\n",
       "│ C        ┆ 3       ┆ 3   ┆ 41.606667 │\n",
       "│ C        ┆ 5       ┆ 2   ┆ 37.715    │\n",
       "│ C        ┆ 6       ┆ 1   ┆ 28.63     │\n",
       "└──────────┴─────────┴─────┴───────────┘"
      ]
     },
     "execution_count": 55,
     "metadata": {},
     "output_type": "execute_result"
    }
   ],
   "source": [
    "# more than one column in groupby\n",
    "\n",
    "# avg value and number of rows on each weekday for each category\n",
    "\n",
    "(\n",
    "    df.with_columns((pl.col(\"timestamp\").dt.weekday().alias(\"weekday\")))\n",
    "      .group_by([\"category\", \"weekday\"])\n",
    "      .agg([\n",
    "          pl.len().alias(\"n\"),\n",
    "          pl.col(\"value\").mean().alias(\"avg_value\")\n",
    "      ])\n",
    "      .sort([\"category\", \"weekday\"])\n",
    "\n",
    ")"
   ]
  },
  {
   "cell_type": "markdown",
   "metadata": {
    "application/vnd.databricks.v1+cell": {
     "cellMetadata": {},
     "inputWidgets": {},
     "nuid": "d9dd8450-ae90-47b1-b3cc-561c98392d6a",
     "showTitle": false,
     "tableResultSettingsMap": {},
     "title": ""
    }
   },
   "source": [
    "For next part:\n",
    "\n",
    "1. Window functions\n",
    "2. Joins\n",
    "3. Pivot\n",
    "4. List and explode\n",
    "5. Conditional logic - when/otherwise\n",
    "6. Lazy dataframe best practices"
   ]
  }
 ],
 "metadata": {
  "application/vnd.databricks.v1+notebook": {
   "computePreferences": null,
   "dashboards": [],
   "environmentMetadata": {
    "base_environment": "",
    "environment_version": "3"
   },
   "inputWidgetPreferences": null,
   "language": "python",
   "notebookMetadata": {
    "pythonIndentUnit": 4
   },
   "notebookName": "Polars_Analytics",
   "widgets": {}
  },
  "language_info": {
   "name": "python"
  }
 },
 "nbformat": 4,
 "nbformat_minor": 0
}