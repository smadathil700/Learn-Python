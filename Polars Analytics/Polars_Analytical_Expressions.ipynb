{
 "cells": [
  {
   "cell_type": "markdown",
   "metadata": {},
   "source": [
    "In this video, we’ll explore how Polars lets you write SQL-style analytics directly in Python — with expressions like \n",
    "pl.col(), pl.when(), and groupby().agg() that look clean, scale to millions of rows, and run faster than pandas or Spark in many cases!\n",
    "\n",
    "\n",
    "Goals\n",
    "\n",
    "Introduce Polars Expressions\n",
    "How to write SQL like Queries\n",
    "Demonstrate lazyframe worksflows\n",
    "Advanced topics - window functions, join, pivots, exploding lists, conditional logic and custom UDFs\n",
    "We will focus on practical examples and execises that can be adapted to real datasets\n"
   ]
  },
  {
   "cell_type": "code",
   "execution_count": 0,
   "metadata": {
    "application/vnd.databricks.v1+cell": {
     "cellMetadata": {
      "byteLimit": 2048000,
      "rowLimit": 10000
     },
     "inputWidgets": {},
     "nuid": "39eaaa58-d353-41ff-8cd6-f5e420c2905c",
     "showTitle": false,
     "tableResultSettingsMap": {},
     "title": ""
    }
   },
   "outputs": [],
   "source": [
    "# %% [markdown]\n",
    "# Polars Expressions for Analytics (SQL-like style in Python)\n",
    "\n",
    "# Notebook overview\n",
    "# This notebook is an extensive hands-on guide to using **Polars expressions** — the powerful, lazy, SQL-like expression system in Polars — for analytics in Python.\n",
    "\n",
    "# Goals:\n",
    "# - Introduce Polars expressions and the core building blocks (`pl.col`, `pl.lit`, `pl.when`, arithmetic, functions)\n",
    "# - Show how to write SQL-like queries using expressions (`select`, `with_columns`, `filter`, `groupby`, `agg`)\n",
    "# - Demonstrate LazyFrame workflows for performant pipelines\n",
    "# - Cover advanced topics: window functions, joins, pivots, exploding lists, conditional logic, and custom UDFs\n",
    "# - Provide practical examples and exercises you can adapt to real datasets\n",
    "\n",
    "# Requirements:\n",
    "# - polars >= 0.18 (API is stable, but if you have an older version some names may differ)\n",
    "# - pandas (for comparison examples, optional)"
   ]
  },
  {
   "cell_type": "code",
   "execution_count": 0,
   "metadata": {
    "application/vnd.databricks.v1+cell": {
     "cellMetadata": {
      "byteLimit": 2048000,
      "rowLimit": 10000
     },
     "inputWidgets": {},
     "nuid": "34dd005d-1c86-4812-bb9a-05eddaeec092",
     "showTitle": false,
     "tableResultSettingsMap": {},
     "title": ""
    }
   },
   "outputs": [
    {
     "name": "stdout",
     "output_type": "stream",
     "text": [
      "Requirement already satisfied: polars in /local_disk0/.ephemeral_nfs/envs/pythonEnv-f891e3b5-21df-48d2-846c-28137884b782/lib/python3.12/site-packages (1.34.0)\n",
      "Requirement already satisfied: polars-runtime-32==1.34.0 in /local_disk0/.ephemeral_nfs/envs/pythonEnv-f891e3b5-21df-48d2-846c-28137884b782/lib/python3.12/site-packages (from polars) (1.34.0)\n",
      "\u001b[43mNote: you may need to restart the kernel using %restart_python or dbutils.library.restartPython() to use updated packages.\u001b[0m\n"
     ]
    }
   ],
   "source": [
    "pip install polars"
   ]
  },
  {
   "cell_type": "code",
   "execution_count": 0,
   "metadata": {
    "application/vnd.databricks.v1+cell": {
     "cellMetadata": {
      "byteLimit": 2048000,
      "rowLimit": 10000
     },
     "inputWidgets": {},
     "nuid": "92f3fdd6-812c-47ec-a5a5-5fdf2adbcbdd",
     "showTitle": false,
     "tableResultSettingsMap": {},
     "title": ""
    }
   },
   "outputs": [],
   "source": [
    "import polars as pl\n",
    "import numpy as np\n",
    "import datetime as dt"
   ]
  },
  {
   "cell_type": "code",
   "execution_count": 0,
   "metadata": {
    "application/vnd.databricks.v1+cell": {
     "cellMetadata": {
      "byteLimit": 2048000,
      "rowLimit": 10000
     },
     "inputWidgets": {},
     "nuid": "d2b7d8f8-d725-443e-9865-a435412c3b4f",
     "showTitle": false,
     "tableResultSettingsMap": {},
     "title": ""
    }
   },
   "outputs": [],
   "source": [
    "# %% [markdown]\n",
    "# 1) Quick primer: DataFrame vs LazyFrame\n",
    "#\n",
    "# `pl.DataFrame` evaluates eagerly (similar to pandas). `pl.LazyFrame` builds a query plan and evaluates on `collect()`.\n",
    "# Expressions are the building blocks used by both, but they shine with LazyFrame because of query optimization.\n",
    "\n",
    "# Create a small sample dataset to use throughout the notebook"
   ]
  },
  {
   "cell_type": "code",
   "execution_count": 0,
   "metadata": {
    "application/vnd.databricks.v1+cell": {
     "cellMetadata": {
      "byteLimit": 2048000,
      "rowLimit": 10000
     },
     "inputWidgets": {},
     "nuid": "1c3399d2-09d8-485d-a4ed-f9539c7d1ecc",
     "showTitle": false,
     "tableResultSettingsMap": {},
     "title": ""
    }
   },
   "outputs": [],
   "source": [
    "np.random.seed(42)\n",
    "\n",
    "n = 20\n",
    "cats = [\"A\", \"B\", \"C\"]\n",
    "\n",
    "df = pl.DataFrame({\n",
    "    \"id\": np.arange(1, n + 1),\n",
    "    \"category\": np.random.choice(cats, size=n),\n",
    "    \"value\": np.random.normal(loc=50, scale=15, size=n).round(2),\n",
    "    \"timestamp\": [dt.datetime(2025, 1, 1) + dt.timedelta(days=int(x)) for x in np.random.randint(0, 30, size=n)]\n",
    "})\n",
    "\n",
    "# add a list column to demo explode\n",
    "\n",
    "df = df.with_columns([\n",
    "    pl.int_ranges(1, 1 + (pl.col(\"id\") % 4)).alias(\"small_list\")\n",
    "])\n"
   ]
  },
  {
   "cell_type": "markdown",
   "metadata": {
    "application/vnd.databricks.v1+cell": {
     "cellMetadata": {},
     "inputWidgets": {},
     "nuid": "0e5afc1b-b2e8-49fc-9dd0-a2048e897661",
     "showTitle": false,
     "tableResultSettingsMap": {},
     "title": ""
    }
   },
   "source": [
    "2) Expression basics\n",
    "- `pl.col(\"colname\")` — references a column\n",
    "- `pl.lit(value)` — literal value\n",
    "- `expr.alias(\"new_name\")` — rename expression\n",
    "- `expr1 + expr2`, `expr * 2`, etc. — arithmetic supported\n",
    "- Vectorized functions exist in `pl.col(...).sum()`, `pl.col(...).mean()`, string functions with `.str.*`, datetime with `.dt.*`, etc."
   ]
  },
  {
   "cell_type": "code",
   "execution_count": 0,
   "metadata": {
    "application/vnd.databricks.v1+cell": {
     "cellMetadata": {
      "byteLimit": 2048000,
      "rowLimit": 10000
     },
     "inputWidgets": {},
     "nuid": "287506c0-538f-49e7-81d9-219c2bfd5f7d",
     "showTitle": false,
     "tableResultSettingsMap": {},
     "title": ""
    }
   },
   "outputs": [
    {
     "data": {
      "text/html": [
       "<div><style>\n",
       ".dataframe > thead > tr,\n",
       ".dataframe > tbody > tr {\n",
       "  text-align: right;\n",
       "  white-space: pre-wrap;\n",
       "}\n",
       "</style>\n",
       "<small>shape: (20, 4)</small><table border=\"1\" class=\"dataframe\"><thead><tr><th>id</th><th>value</th><th>value_plus_10pct</th><th>cat</th></tr><tr><td>i64</td><td>f64</td><td>f64</td><td>str</td></tr></thead><tbody><tr><td>1</td><td>43.05</td><td>47.355</td><td>&quot;C&quot;</td></tr><tr><td>2</td><td>43.01</td><td>47.311</td><td>&quot;A&quot;</td></tr><tr><td>3</td><td>53.63</td><td>58.993</td><td>&quot;C&quot;</td></tr><tr><td>4</td><td>21.3</td><td>23.43</td><td>&quot;C&quot;</td></tr><tr><td>5</td><td>24.13</td><td>26.543</td><td>&quot;A&quot;</td></tr><tr><td>&hellip;</td><td>&hellip;</td><td>&hellip;</td><td>&hellip;</td></tr><tr><td>16</td><td>51.66</td><td>56.826</td><td>&quot;A&quot;</td></tr><tr><td>17</td><td>32.74</td><td>36.014</td><td>&quot;B&quot;</td></tr><tr><td>18</td><td>55.64</td><td>61.204</td><td>&quot;B&quot;</td></tr><tr><td>19</td><td>40.99</td><td>45.089</td><td>&quot;B&quot;</td></tr><tr><td>20</td><td>45.62</td><td>50.182</td><td>&quot;B&quot;</td></tr></tbody></table></div>"
      ],
      "text/plain": [
       "shape: (20, 4)\n",
       "┌─────┬───────┬──────────────────┬─────┐\n",
       "│ id  ┆ value ┆ value_plus_10pct ┆ cat │\n",
       "│ --- ┆ ---   ┆ ---              ┆ --- │\n",
       "│ i64 ┆ f64   ┆ f64              ┆ str │\n",
       "╞═════╪═══════╪══════════════════╪═════╡\n",
       "│ 1   ┆ 43.05 ┆ 47.355           ┆ C   │\n",
       "│ 2   ┆ 43.01 ┆ 47.311           ┆ A   │\n",
       "│ 3   ┆ 53.63 ┆ 58.993           ┆ C   │\n",
       "│ 4   ┆ 21.3  ┆ 23.43            ┆ C   │\n",
       "│ 5   ┆ 24.13 ┆ 26.543           ┆ A   │\n",
       "│ …   ┆ …     ┆ …                ┆ …   │\n",
       "│ 16  ┆ 51.66 ┆ 56.826           ┆ A   │\n",
       "│ 17  ┆ 32.74 ┆ 36.014           ┆ B   │\n",
       "│ 18  ┆ 55.64 ┆ 61.204           ┆ B   │\n",
       "│ 19  ┆ 40.99 ┆ 45.089           ┆ B   │\n",
       "│ 20  ┆ 45.62 ┆ 50.182           ┆ B   │\n",
       "└─────┴───────┴──────────────────┴─────┘"
      ]
     },
     "execution_count": 11,
     "metadata": {},
     "output_type": "execute_result"
    }
   ],
   "source": [
    "(df\n",
    " .select([\n",
    "     pl.col(\"id\"),\n",
    "     pl.col(\"value\"),\n",
    "     (pl.col(\"value\") * 1.1).alias(\"value_plus_10pct\"),\n",
    "     pl.col(\"category\").alias(\"cat\")\n",
    " ])\n",
    ")"
   ]
  },
  {
   "cell_type": "markdown",
   "metadata": {
    "application/vnd.databricks.v1+cell": {
     "cellMetadata": {},
     "inputWidgets": {},
     "nuid": "e6394114-01a0-4339-97df-da791f345da6",
     "showTitle": false,
     "tableResultSettingsMap": {},
     "title": ""
    }
   },
   "source": [
    "Expressions can be composed. Using `.round(0)` or `.floor()` etc. Many methods return expressions when called on `pl.col()`."
   ]
  },
  {
   "cell_type": "code",
   "execution_count": 0,
   "metadata": {
    "application/vnd.databricks.v1+cell": {
     "cellMetadata": {
      "byteLimit": 2048000,
      "rowLimit": 10000
     },
     "inputWidgets": {},
     "nuid": "cc932773-b23b-491c-89d8-f9ccbeb6e180",
     "showTitle": false,
     "tableResultSettingsMap": {},
     "title": ""
    }
   },
   "outputs": [
    {
     "data": {
      "text/html": [
       "<div><style>\n",
       ".dataframe > thead > tr,\n",
       ".dataframe > tbody > tr {\n",
       "  text-align: right;\n",
       "  white-space: pre-wrap;\n",
       "}\n",
       "</style>\n",
       "<small>shape: (1, 3)</small><table border=\"1\" class=\"dataframe\"><thead><tr><th>mean_value</th><th>median_value</th><th>std_value</th></tr><tr><td>f64</td><td>f64</td><td>f64</td></tr></thead><tbody><tr><td>42.406</td><td>42.42</td><td>12.268675</td></tr></tbody></table></div>"
      ],
      "text/plain": [
       "shape: (1, 3)\n",
       "┌────────────┬──────────────┬───────────┐\n",
       "│ mean_value ┆ median_value ┆ std_value │\n",
       "│ ---        ┆ ---          ┆ ---       │\n",
       "│ f64        ┆ f64          ┆ f64       │\n",
       "╞════════════╪══════════════╪═══════════╡\n",
       "│ 42.406     ┆ 42.42        ┆ 12.268675 │\n",
       "└────────────┴──────────────┴───────────┘"
      ]
     },
     "execution_count": 12,
     "metadata": {},
     "output_type": "execute_result"
    }
   ],
   "source": [
    "# Chain expression methods\n",
    "(df\n",
    " .select([\n",
    "     pl.col(\"value\").mean().alias(\"mean_value\"),\n",
    "     pl.col(\"value\").median().alias(\"median_value\"),\n",
    "     pl.col(\"value\").std().alias(\"std_value\")\n",
    " ])\n",
    ")"
   ]
  },
  {
   "cell_type": "markdown",
   "metadata": {
    "application/vnd.databricks.v1+cell": {
     "cellMetadata": {},
     "inputWidgets": {},
     "nuid": "92018488-5e7c-4c31-9bfd-8880472c6bc0",
     "showTitle": false,
     "tableResultSettingsMap": {},
     "title": ""
    }
   },
   "source": [
    "3) `select`, `with_columns`, `with_column`\n",
    " - `select` produces a new DataFrame with only the provided expressions (can be used with both eager & lazy)\n",
    " - `with_columns` adds or replaces multiple columns (vectorized)\n",
    " - `with_column` adds a single column"
   ]
  },
  {
   "cell_type": "code",
   "execution_count": 0,
   "metadata": {
    "application/vnd.databricks.v1+cell": {
     "cellMetadata": {
      "byteLimit": 2048000,
      "rowLimit": 10000
     },
     "inputWidgets": {},
     "nuid": "0d0a723c-8301-412b-93b9-209dec016f8a",
     "showTitle": false,
     "tableResultSettingsMap": {},
     "title": ""
    }
   },
   "outputs": [
    {
     "data": {
      "text/html": [
       "<div><style>\n",
       ".dataframe > thead > tr,\n",
       ".dataframe > tbody > tr {\n",
       "  text-align: right;\n",
       "  white-space: pre-wrap;\n",
       "}\n",
       "</style>\n",
       "<small>shape: (20, 5)</small><table border=\"1\" class=\"dataframe\"><thead><tr><th>id</th><th>category</th><th>value</th><th>value_share</th><th>dense_rank</th></tr><tr><td>i64</td><td>str</td><td>f64</td><td>f64</td><td>u32</td></tr></thead><tbody><tr><td>1</td><td>&quot;C&quot;</td><td>43.05</td><td>0.050759</td><td>12</td></tr><tr><td>2</td><td>&quot;A&quot;</td><td>43.01</td><td>0.050712</td><td>11</td></tr><tr><td>3</td><td>&quot;C&quot;</td><td>53.63</td><td>0.063234</td><td>17</td></tr><tr><td>4</td><td>&quot;C&quot;</td><td>21.3</td><td>0.025114</td><td>1</td></tr><tr><td>5</td><td>&quot;A&quot;</td><td>24.13</td><td>0.028451</td><td>2</td></tr><tr><td>&hellip;</td><td>&hellip;</td><td>&hellip;</td><td>&hellip;</td><td>&hellip;</td></tr><tr><td>16</td><td>&quot;A&quot;</td><td>51.66</td><td>0.060911</td><td>16</td></tr><tr><td>17</td><td>&quot;B&quot;</td><td>32.74</td><td>0.038603</td><td>5</td></tr><tr><td>18</td><td>&quot;B&quot;</td><td>55.64</td><td>0.065604</td><td>19</td></tr><tr><td>19</td><td>&quot;B&quot;</td><td>40.99</td><td>0.04833</td><td>8</td></tr><tr><td>20</td><td>&quot;B&quot;</td><td>45.62</td><td>0.05379</td><td>13</td></tr></tbody></table></div>"
      ],
      "text/plain": [
       "shape: (20, 5)\n",
       "┌─────┬──────────┬───────┬─────────────┬────────────┐\n",
       "│ id  ┆ category ┆ value ┆ value_share ┆ dense_rank │\n",
       "│ --- ┆ ---      ┆ ---   ┆ ---         ┆ ---        │\n",
       "│ i64 ┆ str      ┆ f64   ┆ f64         ┆ u32        │\n",
       "╞═════╪══════════╪═══════╪═════════════╪════════════╡\n",
       "│ 1   ┆ C        ┆ 43.05 ┆ 0.050759    ┆ 12         │\n",
       "│ 2   ┆ A        ┆ 43.01 ┆ 0.050712    ┆ 11         │\n",
       "│ 3   ┆ C        ┆ 53.63 ┆ 0.063234    ┆ 17         │\n",
       "│ 4   ┆ C        ┆ 21.3  ┆ 0.025114    ┆ 1          │\n",
       "│ 5   ┆ A        ┆ 24.13 ┆ 0.028451    ┆ 2          │\n",
       "│ …   ┆ …        ┆ …     ┆ …           ┆ …          │\n",
       "│ 16  ┆ A        ┆ 51.66 ┆ 0.060911    ┆ 16         │\n",
       "│ 17  ┆ B        ┆ 32.74 ┆ 0.038603    ┆ 5          │\n",
       "│ 18  ┆ B        ┆ 55.64 ┆ 0.065604    ┆ 19         │\n",
       "│ 19  ┆ B        ┆ 40.99 ┆ 0.04833     ┆ 8          │\n",
       "│ 20  ┆ B        ┆ 45.62 ┆ 0.05379     ┆ 13         │\n",
       "└─────┴──────────┴───────┴─────────────┴────────────┘"
      ]
     },
     "execution_count": 13,
     "metadata": {},
     "output_type": "execute_result"
    }
   ],
   "source": [
    "# Add computed columns using expressions\n",
    "(df\n",
    " .with_columns([\n",
    "     (pl.col(\"value\") / pl.col(\"value\").sum()).alias(\"value_share\"),\n",
    "     (pl.col(\"value\").rank(\"dense\")).alias(\"dense_rank\")\n",
    " ])\n",
    " .select([\"id\", \"category\", \"value\", \"value_share\", \"dense_rank\"])\n",
    ")"
   ]
  },
  {
   "cell_type": "markdown",
   "metadata": {
    "application/vnd.databricks.v1+cell": {
     "cellMetadata": {},
     "inputWidgets": {},
     "nuid": "9fc7803c-3d8e-401b-8c11-77e223296808",
     "showTitle": false,
     "tableResultSettingsMap": {},
     "title": ""
    }
   },
   "source": [
    "4) Filtering (`filter`) and boolean logic\n",
    "Expressions can be used inside `filter`."
   ]
  },
  {
   "cell_type": "code",
   "execution_count": 0,
   "metadata": {
    "application/vnd.databricks.v1+cell": {
     "cellMetadata": {
      "byteLimit": 2048000,
      "rowLimit": 10000
     },
     "inputWidgets": {},
     "nuid": "e6825475-6c71-4911-968a-e82ba44179d1",
     "showTitle": false,
     "tableResultSettingsMap": {},
     "title": ""
    }
   },
   "outputs": [
    {
     "name": "stdout",
     "output_type": "stream",
     "text": [
      "Mean value: 42.406\n",
      "shape: (10, 5)\n",
      "┌─────┬──────────┬───────┬─────────────────────┬────────────┐\n",
      "│ id  ┆ category ┆ value ┆ timestamp           ┆ small_list │\n",
      "│ --- ┆ ---      ┆ ---   ┆ ---                 ┆ ---        │\n",
      "│ i64 ┆ str      ┆ f64   ┆ datetime[μs]        ┆ list[i64]  │\n",
      "╞═════╪══════════╪═══════╪═════════════════════╪════════════╡\n",
      "│ 1   ┆ C        ┆ 43.05 ┆ 2025-01-20 00:00:00 ┆ [1]        │\n",
      "│ 2   ┆ A        ┆ 43.01 ┆ 2025-01-28 00:00:00 ┆ [1, 2]     │\n",
      "│ 3   ┆ C        ┆ 53.63 ┆ 2025-01-15 00:00:00 ┆ [1, 2, 3]  │\n",
      "│ 8   ┆ B        ┆ 54.71 ┆ 2025-01-08 00:00:00 ┆ []         │\n",
      "│ 11  ┆ C        ┆ 71.98 ┆ 2025-01-14 00:00:00 ┆ [1, 2, 3]  │\n",
      "│ 12  ┆ C        ┆ 46.61 ┆ 2025-01-17 00:00:00 ┆ []         │\n",
      "│ 13  ┆ A        ┆ 51.01 ┆ 2025-01-04 00:00:00 ┆ [1]        │\n",
      "│ 16  ┆ A        ┆ 51.66 ┆ 2025-01-04 00:00:00 ┆ []         │\n",
      "│ 18  ┆ B        ┆ 55.64 ┆ 2025-01-30 00:00:00 ┆ [1, 2]     │\n",
      "│ 20  ┆ B        ┆ 45.62 ┆ 2025-01-22 00:00:00 ┆ []         │\n",
      "└─────┴──────────┴───────┴─────────────────────┴────────────┘\n"
     ]
    }
   ],
   "source": [
    "# Filter rows where value > mean\n",
    "mean_val = df.select(pl.col(\"value\").mean()).item()\n",
    "\n",
    "high = df.filter(pl.col(\"value\") > mean_val)\n",
    "print(\"Mean value:\", mean_val)\n",
    "print(high)"
   ]
  },
  {
   "cell_type": "code",
   "execution_count": 0,
   "metadata": {
    "application/vnd.databricks.v1+cell": {
     "cellMetadata": {
      "byteLimit": 2048000,
      "rowLimit": 10000
     },
     "inputWidgets": {},
     "nuid": "a448e8be-d34d-4aae-9389-996ec72ce841",
     "showTitle": false,
     "tableResultSettingsMap": {},
     "title": ""
    }
   },
   "outputs": [
    {
     "data": {
      "text/html": [
       "<div><style>\n",
       ".dataframe > thead > tr,\n",
       ".dataframe > tbody > tr {\n",
       "  text-align: right;\n",
       "  white-space: pre-wrap;\n",
       "}\n",
       "</style>\n",
       "<small>shape: (0, 5)</small><table border=\"1\" class=\"dataframe\"><thead><tr><th>id</th><th>category</th><th>value</th><th>timestamp</th><th>small_list</th></tr><tr><td>i64</td><td>str</td><td>f64</td><td>datetime[μs]</td><td>list[i64]</td></tr></thead><tbody></tbody></table></div>"
      ],
      "text/plain": [
       "shape: (0, 5)\n",
       "┌─────┬──────────┬───────┬──────────────┬────────────┐\n",
       "│ id  ┆ category ┆ value ┆ timestamp    ┆ small_list │\n",
       "│ --- ┆ ---      ┆ ---   ┆ ---          ┆ ---        │\n",
       "│ i64 ┆ str      ┆ f64   ┆ datetime[μs] ┆ list[i64]  │\n",
       "╞═════╪══════════╪═══════╪══════════════╪════════════╡\n",
       "└─────┴──────────┴───────┴──────────────┴────────────┘"
      ]
     },
     "execution_count": 15,
     "metadata": {},
     "output_type": "execute_result"
    }
   ],
   "source": [
    "df.filter((pl.col(\"category\") == \"A\") & (pl.col(\"value\") > 60))"
   ]
  },
  {
   "cell_type": "markdown",
   "metadata": {
    "application/vnd.databricks.v1+cell": {
     "cellMetadata": {
      "byteLimit": 2048000,
      "rowLimit": 10000
     },
     "inputWidgets": {},
     "nuid": "0ba6051b-d43c-4061-b831-b9427121e6a4",
     "showTitle": false,
     "tableResultSettingsMap": {},
     "title": ""
    }
   },
   "source": [
    "5) GroupBy & Aggregations (SQL `GROUP BY`)\n",
    " - `groupby` accepts column(s) and then `.agg()` with expressions\n",
    " - Use `pl.col().agg_list()` or `.mean()` etc for convenience"
   ]
  },
  {
   "cell_type": "code",
   "execution_count": 0,
   "metadata": {
    "application/vnd.databricks.v1+cell": {
     "cellMetadata": {
      "byteLimit": 2048000,
      "rowLimit": 10000
     },
     "inputWidgets": {},
     "nuid": "9d333652-a8a5-462c-bb10-6a1b27fe4fbf",
     "showTitle": false,
     "tableResultSettingsMap": {},
     "title": ""
    }
   },
   "outputs": [
    {
     "data": {
      "text/html": [
       "<div><style>\n",
       ".dataframe > thead > tr,\n",
       ".dataframe > tbody > tr {\n",
       "  text-align: right;\n",
       "  white-space: pre-wrap;\n",
       "}\n",
       "</style>\n",
       "<small>shape: (3, 6)</small><table border=\"1\" class=\"dataframe\"><thead><tr><th>category</th><th>n</th><th>avg_value</th><th>median_value</th><th>std_value</th><th>max_id</th></tr><tr><td>str</td><td>u32</td><td>f64</td><td>f64</td><td>f64</td><td>i64</td></tr></thead><tbody><tr><td>&quot;A&quot;</td><td>5</td><td>42.276</td><td>43.01</td><td>11.12044</td><td>16</td></tr><tr><td>&quot;C&quot;</td><td>9</td><td>40.578889</td><td>36.38</td><td>15.421072</td><td>14</td></tr><tr><td>&quot;B&quot;</td><td>6</td><td>45.255</td><td>43.725</td><td>8.7627</td><td>20</td></tr></tbody></table></div>"
      ],
      "text/plain": [
       "shape: (3, 6)\n",
       "┌──────────┬─────┬───────────┬──────────────┬───────────┬────────┐\n",
       "│ category ┆ n   ┆ avg_value ┆ median_value ┆ std_value ┆ max_id │\n",
       "│ ---      ┆ --- ┆ ---       ┆ ---          ┆ ---       ┆ ---    │\n",
       "│ str      ┆ u32 ┆ f64       ┆ f64          ┆ f64       ┆ i64    │\n",
       "╞══════════╪═════╪═══════════╪══════════════╪═══════════╪════════╡\n",
       "│ A        ┆ 5   ┆ 42.276    ┆ 43.01        ┆ 11.12044  ┆ 16     │\n",
       "│ C        ┆ 9   ┆ 40.578889 ┆ 36.38        ┆ 15.421072 ┆ 14     │\n",
       "│ B        ┆ 6   ┆ 45.255    ┆ 43.725       ┆ 8.7627    ┆ 20     │\n",
       "└──────────┴─────┴───────────┴──────────────┴───────────┴────────┘"
      ]
     },
     "execution_count": 20,
     "metadata": {},
     "output_type": "execute_result"
    }
   ],
   "source": [
    "(df\n",
    " .group_by(\"category\")\n",
    " .agg([\n",
    "     pl.len().alias(\"n\"),\n",
    "     pl.col(\"value\").mean().alias(\"avg_value\"),\n",
    "     pl.col(\"value\").median().alias(\"median_value\"),\n",
    "     pl.col(\"value\").std().alias(\"std_value\"),\n",
    "     pl.col(\"id\").max().alias(\"max_id\")\n",
    " ])\n",
    ")"
   ]
  },
  {
   "cell_type": "markdown",
   "metadata": {
    "application/vnd.databricks.v1+cell": {
     "cellMetadata": {},
     "inputWidgets": {},
     "nuid": "68f73944-9f61-40a4-b28c-a5130357a198",
     "showTitle": false,
     "tableResultSettingsMap": {},
     "title": ""
    }
   },
   "source": [
    "Multiple groupby columns, and using named expressions is straightforward:"
   ]
  },
  {
   "cell_type": "code",
   "execution_count": 0,
   "metadata": {
    "application/vnd.databricks.v1+cell": {
     "cellMetadata": {
      "byteLimit": 2048000,
      "rowLimit": 10000
     },
     "inputWidgets": {},
     "nuid": "bdce2f05-d06e-4056-a156-56a5f2b38889",
     "showTitle": false,
     "tableResultSettingsMap": {},
     "title": ""
    }
   },
   "outputs": [
    {
     "data": {
      "text/html": [
       "<div><style>\n",
       ".dataframe > thead > tr,\n",
       ".dataframe > tbody > tr {\n",
       "  text-align: right;\n",
       "  white-space: pre-wrap;\n",
       "}\n",
       "</style>\n",
       "<small>shape: (11, 4)</small><table border=\"1\" class=\"dataframe\"><thead><tr><th>category</th><th>weekday</th><th>n</th><th>avg_value</th></tr><tr><td>str</td><td>i8</td><td>u32</td><td>f64</td></tr></thead><tbody><tr><td>&quot;A&quot;</td><td>2</td><td>2</td><td>33.57</td></tr><tr><td>&quot;A&quot;</td><td>6</td><td>2</td><td>51.335</td></tr><tr><td>&quot;A&quot;</td><td>7</td><td>1</td><td>41.57</td></tr><tr><td>&quot;B&quot;</td><td>1</td><td>1</td><td>40.99</td></tr><tr><td>&quot;B&quot;</td><td>3</td><td>3</td><td>47.386667</td></tr><tr><td>&hellip;</td><td>&hellip;</td><td>&hellip;</td><td>&hellip;</td></tr><tr><td>&quot;C&quot;</td><td>1</td><td>1</td><td>43.05</td></tr><tr><td>&quot;C&quot;</td><td>2</td><td>2</td><td>46.64</td></tr><tr><td>&quot;C&quot;</td><td>3</td><td>3</td><td>41.606667</td></tr><tr><td>&quot;C&quot;</td><td>5</td><td>2</td><td>37.715</td></tr><tr><td>&quot;C&quot;</td><td>6</td><td>1</td><td>28.63</td></tr></tbody></table></div>"
      ],
      "text/plain": [
       "shape: (11, 4)\n",
       "┌──────────┬─────────┬─────┬───────────┐\n",
       "│ category ┆ weekday ┆ n   ┆ avg_value │\n",
       "│ ---      ┆ ---     ┆ --- ┆ ---       │\n",
       "│ str      ┆ i8      ┆ u32 ┆ f64       │\n",
       "╞══════════╪═════════╪═════╪═══════════╡\n",
       "│ A        ┆ 2       ┆ 2   ┆ 33.57     │\n",
       "│ A        ┆ 6       ┆ 2   ┆ 51.335    │\n",
       "│ A        ┆ 7       ┆ 1   ┆ 41.57     │\n",
       "│ B        ┆ 1       ┆ 1   ┆ 40.99     │\n",
       "│ B        ┆ 3       ┆ 3   ┆ 47.386667 │\n",
       "│ …        ┆ …       ┆ …   ┆ …         │\n",
       "│ C        ┆ 1       ┆ 1   ┆ 43.05     │\n",
       "│ C        ┆ 2       ┆ 2   ┆ 46.64     │\n",
       "│ C        ┆ 3       ┆ 3   ┆ 41.606667 │\n",
       "│ C        ┆ 5       ┆ 2   ┆ 37.715    │\n",
       "│ C        ┆ 6       ┆ 1   ┆ 28.63     │\n",
       "└──────────┴─────────┴─────┴───────────┘"
      ]
     },
     "execution_count": 22,
     "metadata": {},
     "output_type": "execute_result"
    }
   ],
   "source": [
    "# add another grouping column for demonstration\n",
    "\n",
    "(df\n",
    " .with_columns((pl.col(\"timestamp\").dt.weekday().alias(\"weekday\")))\n",
    " .group_by([\"category\", \"weekday\"])\n",
    " .agg([\n",
    "     pl.len().alias(\"n\"),\n",
    "     pl.col(\"value\").mean().alias(\"avg_value\")\n",
    " ])\n",
    " .sort([\"category\", \"weekday\"])\n",
    ")"
   ]
  },
  {
   "cell_type": "markdown",
   "metadata": {
    "application/vnd.databricks.v1+cell": {
     "cellMetadata": {},
     "inputWidgets": {},
     "nuid": "fc094b09-4d1c-466f-8f25-df76a83731f0",
     "showTitle": false,
     "tableResultSettingsMap": {},
     "title": ""
    }
   },
   "source": [
    "6) Window functions and rolling aggregations\n",
    " - Use `.over()` to apply an expression as a window function\n",
    " - Use `groupby_rolling` or `groupby_dynamic` for time-based rolling"
   ]
  },
  {
   "cell_type": "code",
   "execution_count": 0,
   "metadata": {
    "application/vnd.databricks.v1+cell": {
     "cellMetadata": {
      "byteLimit": 2048000,
      "rowLimit": 10000
     },
     "inputWidgets": {},
     "nuid": "9db8783f-7e16-4dcd-ab89-35eb98149483",
     "showTitle": false,
     "tableResultSettingsMap": {},
     "title": ""
    }
   },
   "outputs": [
    {
     "data": {
      "text/html": [
       "<div><style>\n",
       ".dataframe > thead > tr,\n",
       ".dataframe > tbody > tr {\n",
       "  text-align: right;\n",
       "  white-space: pre-wrap;\n",
       "}\n",
       "</style>\n",
       "<small>shape: (20, 7)</small><table border=\"1\" class=\"dataframe\"><thead><tr><th>id</th><th>category</th><th>value</th><th>timestamp</th><th>small_list</th><th>rank_within_cat</th><th>mean_within_cat</th></tr><tr><td>i64</td><td>str</td><td>f64</td><td>datetime[μs]</td><td>list[i64]</td><td>u32</td><td>f64</td></tr></thead><tbody><tr><td>1</td><td>&quot;C&quot;</td><td>43.05</td><td>2025-01-20 00:00:00</td><td>[1]</td><td>6</td><td>40.578889</td></tr><tr><td>2</td><td>&quot;A&quot;</td><td>43.01</td><td>2025-01-28 00:00:00</td><td>[1, 2]</td><td>3</td><td>42.276</td></tr><tr><td>3</td><td>&quot;C&quot;</td><td>53.63</td><td>2025-01-15 00:00:00</td><td>[1, 2, 3]</td><td>8</td><td>40.578889</td></tr><tr><td>4</td><td>&quot;C&quot;</td><td>21.3</td><td>2025-01-28 00:00:00</td><td>[]</td><td>1</td><td>40.578889</td></tr><tr><td>5</td><td>&quot;A&quot;</td><td>24.13</td><td>2025-01-07 00:00:00</td><td>[1]</td><td>1</td><td>42.276</td></tr><tr><td>&hellip;</td><td>&hellip;</td><td>&hellip;</td><td>&hellip;</td><td>&hellip;</td><td>&hellip;</td><td>&hellip;</td></tr><tr><td>16</td><td>&quot;A&quot;</td><td>51.66</td><td>2025-01-04 00:00:00</td><td>[]</td><td>5</td><td>42.276</td></tr><tr><td>17</td><td>&quot;B&quot;</td><td>32.74</td><td>2025-01-02 00:00:00</td><td>[1]</td><td>1</td><td>45.255</td></tr><tr><td>18</td><td>&quot;B&quot;</td><td>55.64</td><td>2025-01-30 00:00:00</td><td>[1, 2]</td><td>6</td><td>45.255</td></tr><tr><td>19</td><td>&quot;B&quot;</td><td>40.99</td><td>2025-01-06 00:00:00</td><td>[1, 2, 3]</td><td>2</td><td>45.255</td></tr><tr><td>20</td><td>&quot;B&quot;</td><td>45.62</td><td>2025-01-22 00:00:00</td><td>[]</td><td>4</td><td>45.255</td></tr></tbody></table></div>"
      ],
      "text/plain": [
       "shape: (20, 7)\n",
       "┌─────┬──────────┬───────┬─────────────────────┬────────────┬─────────────────┬─────────────────┐\n",
       "│ id  ┆ category ┆ value ┆ timestamp           ┆ small_list ┆ rank_within_cat ┆ mean_within_cat │\n",
       "│ --- ┆ ---      ┆ ---   ┆ ---                 ┆ ---        ┆ ---             ┆ ---             │\n",
       "│ i64 ┆ str      ┆ f64   ┆ datetime[μs]        ┆ list[i64]  ┆ u32             ┆ f64             │\n",
       "╞═════╪══════════╪═══════╪═════════════════════╪════════════╪═════════════════╪═════════════════╡\n",
       "│ 1   ┆ C        ┆ 43.05 ┆ 2025-01-20 00:00:00 ┆ [1]        ┆ 6               ┆ 40.578889       │\n",
       "│ 2   ┆ A        ┆ 43.01 ┆ 2025-01-28 00:00:00 ┆ [1, 2]     ┆ 3               ┆ 42.276          │\n",
       "│ 3   ┆ C        ┆ 53.63 ┆ 2025-01-15 00:00:00 ┆ [1, 2, 3]  ┆ 8               ┆ 40.578889       │\n",
       "│ 4   ┆ C        ┆ 21.3  ┆ 2025-01-28 00:00:00 ┆ []         ┆ 1               ┆ 40.578889       │\n",
       "│ 5   ┆ A        ┆ 24.13 ┆ 2025-01-07 00:00:00 ┆ [1]        ┆ 1               ┆ 42.276          │\n",
       "│ …   ┆ …        ┆ …     ┆ …                   ┆ …          ┆ …               ┆ …               │\n",
       "│ 16  ┆ A        ┆ 51.66 ┆ 2025-01-04 00:00:00 ┆ []         ┆ 5               ┆ 42.276          │\n",
       "│ 17  ┆ B        ┆ 32.74 ┆ 2025-01-02 00:00:00 ┆ [1]        ┆ 1               ┆ 45.255          │\n",
       "│ 18  ┆ B        ┆ 55.64 ┆ 2025-01-30 00:00:00 ┆ [1, 2]     ┆ 6               ┆ 45.255          │\n",
       "│ 19  ┆ B        ┆ 40.99 ┆ 2025-01-06 00:00:00 ┆ [1, 2, 3]  ┆ 2               ┆ 45.255          │\n",
       "│ 20  ┆ B        ┆ 45.62 ┆ 2025-01-22 00:00:00 ┆ []         ┆ 4               ┆ 45.255          │\n",
       "└─────┴──────────┴───────┴─────────────────────┴────────────┴─────────────────┴─────────────────┘"
      ]
     },
     "execution_count": 23,
     "metadata": {},
     "output_type": "execute_result"
    }
   ],
   "source": [
    "# Create a simple window: partition by category and compute running mean of 'value'\n",
    "\n",
    "df_with_rank = (\n",
    "    df\n",
    "    .with_columns([\n",
    "        pl.col(\"value\").rank(\"dense\").over(\"category\").alias(\"rank_within_cat\"),\n",
    "        pl.col(\"value\").mean().over(\"category\").alias(\"mean_within_cat\")\n",
    "    ])\n",
    ")\n",
    "\n",
    "df_with_rank"
   ]
  },
  {
   "cell_type": "markdown",
   "metadata": {
    "application/vnd.databricks.v1+cell": {
     "cellMetadata": {},
     "inputWidgets": {},
     "nuid": "7d1a6bd0-5d72-4080-86b0-300f00c31019",
     "showTitle": false,
     "tableResultSettingsMap": {},
     "title": ""
    }
   },
   "source": [
    "Rolling / time-based: convert to LazyFrame and use `groupby_dynamic` for time windows."
   ]
  },
  {
   "cell_type": "code",
   "execution_count": 0,
   "metadata": {
    "application/vnd.databricks.v1+cell": {
     "cellMetadata": {
      "byteLimit": 2048000,
      "rowLimit": 10000
     },
     "inputWidgets": {},
     "nuid": "dfe26425-98e3-4ffe-b234-14b4805c37ca",
     "showTitle": false,
     "tableResultSettingsMap": {},
     "title": ""
    }
   },
   "outputs": [
    {
     "name": "stdout",
     "output_type": "stream",
     "text": [
      "shape: (5, 3)\n",
      "┌─────────────────────┬─────┬───────────┐\n",
      "│ timestamp           ┆ n   ┆ avg_value │\n",
      "│ ---                 ┆ --- ┆ ---       │\n",
      "│ datetime[μs]        ┆ u32 ┆ f64       │\n",
      "╞═════════════════════╪═════╪═══════════╡\n",
      "│ 2025-01-02 00:00:00 ┆ 8   ┆ 40.73625  │\n",
      "│ 2025-01-09 00:00:00 ┆ 4   ┆ 50.89     │\n",
      "│ 2025-01-16 00:00:00 ┆ 4   ┆ 40.9775   │\n",
      "│ 2025-01-23 00:00:00 ┆ 3   ┆ 33.04     │\n",
      "│ 2025-01-30 00:00:00 ┆ 1   ┆ 55.64     │\n",
      "└─────────────────────┴─────┴───────────┘\n"
     ]
    }
   ],
   "source": [
    "lf = (\n",
    "    df.lazy()\n",
    "    .with_columns(pl.col(\"timestamp\").cast(pl.Datetime))\n",
    "    .sort(\"timestamp\")\n",
    ")\n",
    "\n",
    "result = (\n",
    "    lf\n",
    "    .group_by_dynamic(\n",
    "        index_column=\"timestamp\",\n",
    "        every=\"7d\",\n",
    "        period=\"7d\",\n",
    "        offset=\"0d\",\n",
    "    )\n",
    "    .agg([\n",
    "        pl.len().alias(\"n\"),\n",
    "        pl.col(\"value\").mean().alias(\"avg_value\")\n",
    "    ])\n",
    "    .collect()\n",
    ")\n",
    "\n",
    "print(result)"
   ]
  },
  {
   "cell_type": "markdown",
   "metadata": {
    "application/vnd.databricks.v1+cell": {
     "cellMetadata": {},
     "inputWidgets": {},
     "nuid": "9f4d3d22-c031-4b54-9f0b-7a5f333678d7",
     "showTitle": false,
     "tableResultSettingsMap": {},
     "title": ""
    }
   },
   "source": [
    "7) Joins and concatenation\n",
    " - `join` behaves SQL-like; specify `how` and `on`/`left_on`/`right_on`\n",
    " - Use `hstack` / `vstack` for concatenation"
   ]
  },
  {
   "cell_type": "code",
   "execution_count": 0,
   "metadata": {
    "application/vnd.databricks.v1+cell": {
     "cellMetadata": {
      "byteLimit": 2048000,
      "rowLimit": 10000
     },
     "inputWidgets": {},
     "nuid": "07521f38-401d-4eac-9009-e534b71d1dd0",
     "showTitle": false,
     "tableResultSettingsMap": {},
     "title": ""
    }
   },
   "outputs": [
    {
     "data": {
      "text/html": [
       "<div><style>\n",
       ".dataframe > thead > tr,\n",
       ".dataframe > tbody > tr {\n",
       "  text-align: right;\n",
       "  white-space: pre-wrap;\n",
       "}\n",
       "</style>\n",
       "<small>shape: (20, 4)</small><table border=\"1\" class=\"dataframe\"><thead><tr><th>id</th><th>category</th><th>description</th><th>value</th></tr><tr><td>i64</td><td>str</td><td>str</td><td>f64</td></tr></thead><tbody><tr><td>1</td><td>&quot;C&quot;</td><td>&quot;Group C&quot;</td><td>43.05</td></tr><tr><td>2</td><td>&quot;A&quot;</td><td>&quot;Group A&quot;</td><td>43.01</td></tr><tr><td>3</td><td>&quot;C&quot;</td><td>&quot;Group C&quot;</td><td>53.63</td></tr><tr><td>4</td><td>&quot;C&quot;</td><td>&quot;Group C&quot;</td><td>21.3</td></tr><tr><td>5</td><td>&quot;A&quot;</td><td>&quot;Group A&quot;</td><td>24.13</td></tr><tr><td>&hellip;</td><td>&hellip;</td><td>&hellip;</td><td>&hellip;</td></tr><tr><td>16</td><td>&quot;A&quot;</td><td>&quot;Group A&quot;</td><td>51.66</td></tr><tr><td>17</td><td>&quot;B&quot;</td><td>&quot;Group B&quot;</td><td>32.74</td></tr><tr><td>18</td><td>&quot;B&quot;</td><td>&quot;Group B&quot;</td><td>55.64</td></tr><tr><td>19</td><td>&quot;B&quot;</td><td>&quot;Group B&quot;</td><td>40.99</td></tr><tr><td>20</td><td>&quot;B&quot;</td><td>&quot;Group B&quot;</td><td>45.62</td></tr></tbody></table></div>"
      ],
      "text/plain": [
       "shape: (20, 4)\n",
       "┌─────┬──────────┬─────────────┬───────┐\n",
       "│ id  ┆ category ┆ description ┆ value │\n",
       "│ --- ┆ ---      ┆ ---         ┆ ---   │\n",
       "│ i64 ┆ str      ┆ str         ┆ f64   │\n",
       "╞═════╪══════════╪═════════════╪═══════╡\n",
       "│ 1   ┆ C        ┆ Group C     ┆ 43.05 │\n",
       "│ 2   ┆ A        ┆ Group A     ┆ 43.01 │\n",
       "│ 3   ┆ C        ┆ Group C     ┆ 53.63 │\n",
       "│ 4   ┆ C        ┆ Group C     ┆ 21.3  │\n",
       "│ 5   ┆ A        ┆ Group A     ┆ 24.13 │\n",
       "│ …   ┆ …        ┆ …           ┆ …     │\n",
       "│ 16  ┆ A        ┆ Group A     ┆ 51.66 │\n",
       "│ 17  ┆ B        ┆ Group B     ┆ 32.74 │\n",
       "│ 18  ┆ B        ┆ Group B     ┆ 55.64 │\n",
       "│ 19  ┆ B        ┆ Group B     ┆ 40.99 │\n",
       "│ 20  ┆ B        ┆ Group B     ┆ 45.62 │\n",
       "└─────┴──────────┴─────────────┴───────┘"
      ]
     },
     "execution_count": 28,
     "metadata": {},
     "output_type": "execute_result"
    }
   ],
   "source": [
    "# Create a lookup table for category metadata\n",
    "\n",
    "cat_meta = pl.DataFrame({\n",
    "    \"category\": [\"A\", \"B\", \"C\"],\n",
    "    \"description\": [\"Group A\", \"Group B\", \"Group C\"],\n",
    "    \"weight\": [1.0, 1.2, 0.9]\n",
    "})\n",
    "\n",
    "# join\n",
    "(df.join(cat_meta, on=\"category\", how=\"left\")).select([\"id\", \"category\", \"description\", \"value\"])\n"
   ]
  },
  {
   "cell_type": "markdown",
   "metadata": {
    "application/vnd.databricks.v1+cell": {
     "cellMetadata": {},
     "inputWidgets": {},
     "nuid": "8475eb44-1d41-48c1-a9f5-4a235a18ff4d",
     "showTitle": false,
     "tableResultSettingsMap": {},
     "title": ""
    }
   },
   "source": [
    "8) Pivot & unpivot (melt)\n",
    " - `pivot` is useful for turning groupby-aggregations into wide form\n",
    " - `melt` (unpivot) goes from wide to long\n"
   ]
  },
  {
   "cell_type": "code",
   "execution_count": 0,
   "metadata": {
    "application/vnd.databricks.v1+cell": {
     "cellMetadata": {
      "byteLimit": 2048000,
      "rowLimit": 10000
     },
     "inputWidgets": {},
     "nuid": "3632cac0-7cc7-4788-81c3-b89c77e1f393",
     "showTitle": false,
     "tableResultSettingsMap": {},
     "title": ""
    }
   },
   "outputs": [
    {
     "data": {
      "text/html": [
       "<div><style>\n",
       ".dataframe > thead > tr,\n",
       ".dataframe > tbody > tr {\n",
       "  text-align: right;\n",
       "  white-space: pre-wrap;\n",
       "}\n",
       "</style>\n",
       "<small>shape: (7, 4)</small><table border=\"1\" class=\"dataframe\"><thead><tr><th>weekday</th><th>C</th><th>A</th><th>B</th></tr><tr><td>i8</td><td>f64</td><td>f64</td><td>f64</td></tr></thead><tbody><tr><td>1</td><td>43.05</td><td>null</td><td>40.99</td></tr><tr><td>2</td><td>46.64</td><td>33.57</td><td>null</td></tr><tr><td>3</td><td>41.606667</td><td>null</td><td>47.386667</td></tr><tr><td>7</td><td>null</td><td>41.57</td><td>null</td></tr><tr><td>5</td><td>37.715</td><td>null</td><td>null</td></tr><tr><td>6</td><td>28.63</td><td>51.335</td><td>null</td></tr><tr><td>4</td><td>null</td><td>null</td><td>44.19</td></tr></tbody></table></div>"
      ],
      "text/plain": [
       "shape: (7, 4)\n",
       "┌─────────┬───────────┬────────┬───────────┐\n",
       "│ weekday ┆ C         ┆ A      ┆ B         │\n",
       "│ ---     ┆ ---       ┆ ---    ┆ ---       │\n",
       "│ i8      ┆ f64       ┆ f64    ┆ f64       │\n",
       "╞═════════╪═══════════╪════════╪═══════════╡\n",
       "│ 1       ┆ 43.05     ┆ null   ┆ 40.99     │\n",
       "│ 2       ┆ 46.64     ┆ 33.57  ┆ null      │\n",
       "│ 3       ┆ 41.606667 ┆ null   ┆ 47.386667 │\n",
       "│ 7       ┆ null      ┆ 41.57  ┆ null      │\n",
       "│ 5       ┆ 37.715    ┆ null   ┆ null      │\n",
       "│ 6       ┆ 28.63     ┆ 51.335 ┆ null      │\n",
       "│ 4       ┆ null      ┆ null   ┆ 44.19     │\n",
       "└─────────┴───────────┴────────┴───────────┘"
      ]
     },
     "execution_count": 32,
     "metadata": {},
     "output_type": "execute_result"
    }
   ],
   "source": [
    "# pivot: average value per category for each weekday (wide table)\n",
    "(\n",
    "    df\n",
    "    .with_columns(pl.col(\"timestamp\").dt.weekday().alias(\"weekday\"))\n",
    "    .pivot(\n",
    "        values=\"value\",\n",
    "        index=\"weekday\",\n",
    "        on=\"category\",\n",
    "        aggregate_function=\"mean\"   # or \"sum\", \"count\", etc.\n",
    "    )\n",
    ")"
   ]
  },
  {
   "cell_type": "code",
   "execution_count": 0,
   "metadata": {
    "application/vnd.databricks.v1+cell": {
     "cellMetadata": {
      "byteLimit": 2048000,
      "rowLimit": 10000
     },
     "inputWidgets": {},
     "nuid": "6d25d076-097a-4b61-9b16-ee175c2dbe5e",
     "showTitle": false,
     "tableResultSettingsMap": {},
     "title": ""
    }
   },
   "outputs": [
    {
     "data": {
      "text/html": [
       "<div><style>\n",
       ".dataframe > thead > tr,\n",
       ".dataframe > tbody > tr {\n",
       "  text-align: right;\n",
       "  white-space: pre-wrap;\n",
       "}\n",
       "</style>\n",
       "<small>shape: (6, 3)</small><table border=\"1\" class=\"dataframe\"><thead><tr><th>id</th><th>category</th><th>value</th></tr><tr><td>i64</td><td>str</td><td>i64</td></tr></thead><tbody><tr><td>1</td><td>&quot;A&quot;</td><td>10</td></tr><tr><td>2</td><td>&quot;A&quot;</td><td>20</td></tr><tr><td>3</td><td>&quot;A&quot;</td><td>30</td></tr><tr><td>1</td><td>&quot;B&quot;</td><td>5</td></tr><tr><td>2</td><td>&quot;B&quot;</td><td>6</td></tr><tr><td>3</td><td>&quot;B&quot;</td><td>7</td></tr></tbody></table></div>"
      ],
      "text/plain": [
       "shape: (6, 3)\n",
       "┌─────┬──────────┬───────┐\n",
       "│ id  ┆ category ┆ value │\n",
       "│ --- ┆ ---      ┆ ---   │\n",
       "│ i64 ┆ str      ┆ i64   │\n",
       "╞═════╪══════════╪═══════╡\n",
       "│ 1   ┆ A        ┆ 10    │\n",
       "│ 2   ┆ A        ┆ 20    │\n",
       "│ 3   ┆ A        ┆ 30    │\n",
       "│ 1   ┆ B        ┆ 5     │\n",
       "│ 2   ┆ B        ┆ 6     │\n",
       "│ 3   ┆ B        ┆ 7     │\n",
       "└─────┴──────────┴───────┘"
      ]
     },
     "execution_count": 34,
     "metadata": {},
     "output_type": "execute_result"
    }
   ],
   "source": [
    "# Unpivot (melt) example: make the wide table long\n",
    "\n",
    "wide = pl.DataFrame({\"id\": [1,2,3], \"A\": [10,20,30], \"B\": [5,6,7]})\n",
    "wide.unpivot(index=[\"id\"], on=[\"A\",\"B\"], variable_name=\"category\", value_name=\"value\")\n"
   ]
  },
  {
   "cell_type": "markdown",
   "metadata": {
    "application/vnd.databricks.v1+cell": {
     "cellMetadata": {},
     "inputWidgets": {},
     "nuid": "529a74e5-8d63-4a03-b3a4-07fd21d367d0",
     "showTitle": false,
     "tableResultSettingsMap": {},
     "title": ""
    }
   },
   "source": [
    "9) Working with lists and `explode`\n",
    "- Polars has native list-columns and many list functions. Avoid Python loops; use expressions."
   ]
  },
  {
   "cell_type": "code",
   "execution_count": 0,
   "metadata": {
    "application/vnd.databricks.v1+cell": {
     "cellMetadata": {
      "byteLimit": 2048000,
      "rowLimit": 10000
     },
     "inputWidgets": {},
     "nuid": "62d00b30-3938-4b0a-9e3a-57132286c965",
     "showTitle": false,
     "tableResultSettingsMap": {},
     "title": ""
    }
   },
   "outputs": [
    {
     "name": "stdout",
     "output_type": "stream",
     "text": [
      "shape: (35, 5)\n",
      "┌─────┬──────────┬───────┬─────────────────────┬────────────┐\n",
      "│ id  ┆ category ┆ value ┆ timestamp           ┆ small_list │\n",
      "│ --- ┆ ---      ┆ ---   ┆ ---                 ┆ ---        │\n",
      "│ i64 ┆ str      ┆ f64   ┆ datetime[μs]        ┆ i64        │\n",
      "╞═════╪══════════╪═══════╪═════════════════════╪════════════╡\n",
      "│ 1   ┆ C        ┆ 43.05 ┆ 2025-01-20 00:00:00 ┆ 1          │\n",
      "│ 2   ┆ A        ┆ 43.01 ┆ 2025-01-28 00:00:00 ┆ 1          │\n",
      "│ 2   ┆ A        ┆ 43.01 ┆ 2025-01-28 00:00:00 ┆ 2          │\n",
      "│ 3   ┆ C        ┆ 53.63 ┆ 2025-01-15 00:00:00 ┆ 1          │\n",
      "│ 3   ┆ C        ┆ 53.63 ┆ 2025-01-15 00:00:00 ┆ 2          │\n",
      "│ …   ┆ …        ┆ …     ┆ …                   ┆ …          │\n",
      "│ 18  ┆ B        ┆ 55.64 ┆ 2025-01-30 00:00:00 ┆ 2          │\n",
      "│ 19  ┆ B        ┆ 40.99 ┆ 2025-01-06 00:00:00 ┆ 1          │\n",
      "│ 19  ┆ B        ┆ 40.99 ┆ 2025-01-06 00:00:00 ┆ 2          │\n",
      "│ 19  ┆ B        ┆ 40.99 ┆ 2025-01-06 00:00:00 ┆ 3          │\n",
      "│ 20  ┆ B        ┆ 45.62 ┆ 2025-01-22 00:00:00 ┆ null       │\n",
      "└─────┴──────────┴───────┴─────────────────────┴────────────┘\n"
     ]
    }
   ],
   "source": [
    "# Explode the list into separate rows\n",
    "exploded = df.explode(\"small_list\")\n",
    "print(exploded)"
   ]
  },
  {
   "cell_type": "markdown",
   "metadata": {
    "application/vnd.databricks.v1+cell": {
     "cellMetadata": {},
     "inputWidgets": {},
     "nuid": "23245516-94e9-470c-bf80-b4d6f7de9fd8",
     "showTitle": false,
     "tableResultSettingsMap": {},
     "title": ""
    }
   },
   "source": [
    "10) Conditional logic: `when` / `otherwise`\n",
    "- Use `pl.when(condition).then(expr).otherwise(expr)` to vectorize `CASE WHEN` logic."
   ]
  },
  {
   "cell_type": "code",
   "execution_count": 0,
   "metadata": {
    "application/vnd.databricks.v1+cell": {
     "cellMetadata": {
      "byteLimit": 2048000,
      "rowLimit": 10000
     },
     "inputWidgets": {},
     "nuid": "e55d5a46-baba-4286-b6e4-1e2fc80c59cb",
     "showTitle": false,
     "tableResultSettingsMap": {},
     "title": ""
    }
   },
   "outputs": [
    {
     "data": {
      "text/html": [
       "<div><style>\n",
       ".dataframe > thead > tr,\n",
       ".dataframe > tbody > tr {\n",
       "  text-align: right;\n",
       "  white-space: pre-wrap;\n",
       "}\n",
       "</style>\n",
       "<small>shape: (20, 6)</small><table border=\"1\" class=\"dataframe\"><thead><tr><th>id</th><th>category</th><th>value</th><th>timestamp</th><th>small_list</th><th>value_bucket</th></tr><tr><td>i64</td><td>str</td><td>f64</td><td>datetime[μs]</td><td>list[i64]</td><td>str</td></tr></thead><tbody><tr><td>1</td><td>&quot;C&quot;</td><td>43.05</td><td>2025-01-20 00:00:00</td><td>[1]</td><td>&quot;medium&quot;</td></tr><tr><td>2</td><td>&quot;A&quot;</td><td>43.01</td><td>2025-01-28 00:00:00</td><td>[1, 2]</td><td>&quot;medium&quot;</td></tr><tr><td>3</td><td>&quot;C&quot;</td><td>53.63</td><td>2025-01-15 00:00:00</td><td>[1, 2, 3]</td><td>&quot;medium&quot;</td></tr><tr><td>4</td><td>&quot;C&quot;</td><td>21.3</td><td>2025-01-28 00:00:00</td><td>[]</td><td>&quot;low&quot;</td></tr><tr><td>5</td><td>&quot;A&quot;</td><td>24.13</td><td>2025-01-07 00:00:00</td><td>[1]</td><td>&quot;low&quot;</td></tr><tr><td>&hellip;</td><td>&hellip;</td><td>&hellip;</td><td>&hellip;</td><td>&hellip;</td><td>&hellip;</td></tr><tr><td>16</td><td>&quot;A&quot;</td><td>51.66</td><td>2025-01-04 00:00:00</td><td>[]</td><td>&quot;medium&quot;</td></tr><tr><td>17</td><td>&quot;B&quot;</td><td>32.74</td><td>2025-01-02 00:00:00</td><td>[1]</td><td>&quot;low&quot;</td></tr><tr><td>18</td><td>&quot;B&quot;</td><td>55.64</td><td>2025-01-30 00:00:00</td><td>[1, 2]</td><td>&quot;medium&quot;</td></tr><tr><td>19</td><td>&quot;B&quot;</td><td>40.99</td><td>2025-01-06 00:00:00</td><td>[1, 2, 3]</td><td>&quot;medium&quot;</td></tr><tr><td>20</td><td>&quot;B&quot;</td><td>45.62</td><td>2025-01-22 00:00:00</td><td>[]</td><td>&quot;medium&quot;</td></tr></tbody></table></div>"
      ],
      "text/plain": [
       "shape: (20, 6)\n",
       "┌─────┬──────────┬───────┬─────────────────────┬────────────┬──────────────┐\n",
       "│ id  ┆ category ┆ value ┆ timestamp           ┆ small_list ┆ value_bucket │\n",
       "│ --- ┆ ---      ┆ ---   ┆ ---                 ┆ ---        ┆ ---          │\n",
       "│ i64 ┆ str      ┆ f64   ┆ datetime[μs]        ┆ list[i64]  ┆ str          │\n",
       "╞═════╪══════════╪═══════╪═════════════════════╪════════════╪══════════════╡\n",
       "│ 1   ┆ C        ┆ 43.05 ┆ 2025-01-20 00:00:00 ┆ [1]        ┆ medium       │\n",
       "│ 2   ┆ A        ┆ 43.01 ┆ 2025-01-28 00:00:00 ┆ [1, 2]     ┆ medium       │\n",
       "│ 3   ┆ C        ┆ 53.63 ┆ 2025-01-15 00:00:00 ┆ [1, 2, 3]  ┆ medium       │\n",
       "│ 4   ┆ C        ┆ 21.3  ┆ 2025-01-28 00:00:00 ┆ []         ┆ low          │\n",
       "│ 5   ┆ A        ┆ 24.13 ┆ 2025-01-07 00:00:00 ┆ [1]        ┆ low          │\n",
       "│ …   ┆ …        ┆ …     ┆ …                   ┆ …          ┆ …            │\n",
       "│ 16  ┆ A        ┆ 51.66 ┆ 2025-01-04 00:00:00 ┆ []         ┆ medium       │\n",
       "│ 17  ┆ B        ┆ 32.74 ┆ 2025-01-02 00:00:00 ┆ [1]        ┆ low          │\n",
       "│ 18  ┆ B        ┆ 55.64 ┆ 2025-01-30 00:00:00 ┆ [1, 2]     ┆ medium       │\n",
       "│ 19  ┆ B        ┆ 40.99 ┆ 2025-01-06 00:00:00 ┆ [1, 2, 3]  ┆ medium       │\n",
       "│ 20  ┆ B        ┆ 45.62 ┆ 2025-01-22 00:00:00 ┆ []         ┆ medium       │\n",
       "└─────┴──────────┴───────┴─────────────────────┴────────────┴──────────────┘"
      ]
     },
     "execution_count": 40,
     "metadata": {},
     "output_type": "execute_result"
    }
   ],
   "source": [
    "(df\n",
    " .with_columns([\n",
    "     pl.when(pl.col(\"value\") > 60).then(pl.lit(\"high\"))\n",
    "       .when(pl.col(\"value\") > 40).then(pl.lit(\"medium\"))\n",
    "       .otherwise(pl.lit(\"low\")).alias(\"value_bucket\")\n",
    " ])\n",
    ")"
   ]
  },
  {
   "cell_type": "markdown",
   "metadata": {
    "application/vnd.databricks.v1+cell": {
     "cellMetadata": {},
     "inputWidgets": {},
     "nuid": "db8136b2-b45b-4511-a462-141781de43df",
     "showTitle": false,
     "tableResultSettingsMap": {},
     "title": ""
    }
   },
   "source": [
    "11) LazyFrame best practices and query optimization\n",
    " - Prefer LazyFrame for larger pipelines: `df.lazy()` -> expressions -> `collect()`\n",
    " - Use `with_columns` instead of repeated `.with_column` calls (fewer passes)\n",
    " - Avoid `.apply` and Python-level UDFs when possible — use vectorized expressions\n",
    " - Use `select` early to prune unneeded columns\n",
    " - `explain()` on a LazyFrame shows the query plan"
   ]
  },
  {
   "cell_type": "code",
   "execution_count": 0,
   "metadata": {
    "application/vnd.databricks.v1+cell": {
     "cellMetadata": {
      "byteLimit": 2048000,
      "rowLimit": 10000
     },
     "inputWidgets": {},
     "nuid": "92823596-485d-4c2d-b74a-b6029fa1adbc",
     "showTitle": false,
     "tableResultSettingsMap": {},
     "title": ""
    }
   },
   "outputs": [
    {
     "name": "stdout",
     "output_type": "stream",
     "text": [
      "shape: (3, 3)\n",
      "┌──────────┬─────┬───────────┐\n",
      "│ category ┆ n   ┆ sum_share │\n",
      "│ ---      ┆ --- ┆ ---       │\n",
      "│ str      ┆ u32 ┆ f64       │\n",
      "╞══════════╪═════╪═══════════╡\n",
      "│ C        ┆ 9   ┆ 0.430611  │\n",
      "│ B        ┆ 6   ┆ 0.320155  │\n",
      "│ A        ┆ 5   ┆ 0.249234  │\n",
      "└──────────┴─────┴───────────┘\n"
     ]
    }
   ],
   "source": [
    "total_value = df[\"value\"].sum()\n",
    "mean_value = df[\"value\"].mean()\n",
    "\n",
    "lazy = (\n",
    "    df.lazy()\n",
    "    .filter(pl.col(\"value\") > 20)\n",
    "    .with_columns([\n",
    "        (pl.col(\"value\") - mean_value).alias(\"diff_from_mean\"),\n",
    "        (pl.col(\"value\") / total_value).alias(\"share\"),\n",
    "    ])\n",
    "    .group_by(\"category\")\n",
    "    .agg([\n",
    "        pl.len().alias(\"n\"),\n",
    "        pl.col(\"share\").sum().alias(\"sum_share\"),\n",
    "    ])\n",
    ")\n",
    "\n",
    "print(lazy.collect())\n"
   ]
  },
  {
   "cell_type": "markdown",
   "metadata": {
    "application/vnd.databricks.v1+cell": {
     "cellMetadata": {},
     "inputWidgets": {},
     "nuid": "32d0e9cd-6114-4d71-8f74-718898da8b80",
     "showTitle": false,
     "tableResultSettingsMap": {},
     "title": ""
    }
   },
   "source": [
    " 12) Tips: avoiding `apply`, vectorized alternatives, performance tricks\n",
    " - Use built-in expressions: `.str.*` for strings, `.dt.*` for datetimes, `.arr.*` for lists\n",
    " - Use `.map_dict` for mapping/lookup replacement, or `.replace` where supported\n",
    " - Convert expensive Python-level loops to expressions or use `.map` with `literal` where necessary"
   ]
  },
  {
   "cell_type": "code",
   "execution_count": 0,
   "metadata": {
    "application/vnd.databricks.v1+cell": {
     "cellMetadata": {
      "byteLimit": 2048000,
      "rowLimit": 10000
     },
     "inputWidgets": {},
     "nuid": "c445efe3-d33c-40de-98fb-ab881b77cd3f",
     "showTitle": false,
     "tableResultSettingsMap": {},
     "title": ""
    }
   },
   "outputs": [
    {
     "name": "stdout",
     "output_type": "stream",
     "text": [
      "apply example (okay but may disable optimizations): 'Expr' object has no attribute 'apply'\n"
     ]
    },
    {
     "data": {
      "text/html": [
       "<div><style>\n",
       ".dataframe > thead > tr,\n",
       ".dataframe > tbody > tr {\n",
       "  text-align: right;\n",
       "  white-space: pre-wrap;\n",
       "}\n",
       "</style>\n",
       "<small>shape: (20, 6)</small><table border=\"1\" class=\"dataframe\"><thead><tr><th>id</th><th>category</th><th>value</th><th>timestamp</th><th>small_list</th><th>better_double</th></tr><tr><td>i64</td><td>str</td><td>f64</td><td>datetime[μs]</td><td>list[i64]</td><td>f64</td></tr></thead><tbody><tr><td>1</td><td>&quot;C&quot;</td><td>43.05</td><td>2025-01-20 00:00:00</td><td>[1]</td><td>86.1</td></tr><tr><td>2</td><td>&quot;A&quot;</td><td>43.01</td><td>2025-01-28 00:00:00</td><td>[1, 2]</td><td>86.02</td></tr><tr><td>3</td><td>&quot;C&quot;</td><td>53.63</td><td>2025-01-15 00:00:00</td><td>[1, 2, 3]</td><td>107.26</td></tr><tr><td>4</td><td>&quot;C&quot;</td><td>21.3</td><td>2025-01-28 00:00:00</td><td>[]</td><td>42.6</td></tr><tr><td>5</td><td>&quot;A&quot;</td><td>24.13</td><td>2025-01-07 00:00:00</td><td>[1]</td><td>48.26</td></tr><tr><td>&hellip;</td><td>&hellip;</td><td>&hellip;</td><td>&hellip;</td><td>&hellip;</td><td>&hellip;</td></tr><tr><td>16</td><td>&quot;A&quot;</td><td>51.66</td><td>2025-01-04 00:00:00</td><td>[]</td><td>103.32</td></tr><tr><td>17</td><td>&quot;B&quot;</td><td>32.74</td><td>2025-01-02 00:00:00</td><td>[1]</td><td>65.48</td></tr><tr><td>18</td><td>&quot;B&quot;</td><td>55.64</td><td>2025-01-30 00:00:00</td><td>[1, 2]</td><td>111.28</td></tr><tr><td>19</td><td>&quot;B&quot;</td><td>40.99</td><td>2025-01-06 00:00:00</td><td>[1, 2, 3]</td><td>81.98</td></tr><tr><td>20</td><td>&quot;B&quot;</td><td>45.62</td><td>2025-01-22 00:00:00</td><td>[]</td><td>91.24</td></tr></tbody></table></div>"
      ],
      "text/plain": [
       "shape: (20, 6)\n",
       "┌─────┬──────────┬───────┬─────────────────────┬────────────┬───────────────┐\n",
       "│ id  ┆ category ┆ value ┆ timestamp           ┆ small_list ┆ better_double │\n",
       "│ --- ┆ ---      ┆ ---   ┆ ---                 ┆ ---        ┆ ---           │\n",
       "│ i64 ┆ str      ┆ f64   ┆ datetime[μs]        ┆ list[i64]  ┆ f64           │\n",
       "╞═════╪══════════╪═══════╪═════════════════════╪════════════╪═══════════════╡\n",
       "│ 1   ┆ C        ┆ 43.05 ┆ 2025-01-20 00:00:00 ┆ [1]        ┆ 86.1          │\n",
       "│ 2   ┆ A        ┆ 43.01 ┆ 2025-01-28 00:00:00 ┆ [1, 2]     ┆ 86.02         │\n",
       "│ 3   ┆ C        ┆ 53.63 ┆ 2025-01-15 00:00:00 ┆ [1, 2, 3]  ┆ 107.26        │\n",
       "│ 4   ┆ C        ┆ 21.3  ┆ 2025-01-28 00:00:00 ┆ []         ┆ 42.6          │\n",
       "│ 5   ┆ A        ┆ 24.13 ┆ 2025-01-07 00:00:00 ┆ [1]        ┆ 48.26         │\n",
       "│ …   ┆ …        ┆ …     ┆ …                   ┆ …          ┆ …             │\n",
       "│ 16  ┆ A        ┆ 51.66 ┆ 2025-01-04 00:00:00 ┆ []         ┆ 103.32        │\n",
       "│ 17  ┆ B        ┆ 32.74 ┆ 2025-01-02 00:00:00 ┆ [1]        ┆ 65.48         │\n",
       "│ 18  ┆ B        ┆ 55.64 ┆ 2025-01-30 00:00:00 ┆ [1, 2]     ┆ 111.28        │\n",
       "│ 19  ┆ B        ┆ 40.99 ┆ 2025-01-06 00:00:00 ┆ [1, 2, 3]  ┆ 81.98         │\n",
       "│ 20  ┆ B        ┆ 45.62 ┆ 2025-01-22 00:00:00 ┆ []         ┆ 91.24         │\n",
       "└─────┴──────────┴───────┴─────────────────────┴────────────┴───────────────┘"
      ]
     },
     "execution_count": 48,
     "metadata": {},
     "output_type": "execute_result"
    }
   ],
   "source": [
    "# Example showing that apply is allowed but discouraged\n",
    "\n",
    "def python_transform(x):\n",
    "    return x * 2\n",
    "\n",
    "try:\n",
    "    df.with_columns([pl.col(\"value\").apply(python_transform).alias(\"bad_double\")])\n",
    "except Exception as e:\n",
    "    print(\"apply example (okay but may disable optimizations):\", e)\n",
    "\n",
    "# Better: use expression\n",
    "(df.with_columns([(pl.col(\"value\") * 2).alias(\"better_double\")]))"
   ]
  },
  {
   "cell_type": "markdown",
   "metadata": {
    "application/vnd.databricks.v1+cell": {
     "cellMetadata": {},
     "inputWidgets": {},
     "nuid": "578e8eac-5eff-4cb3-934b-d5860d17924d",
     "showTitle": false,
     "tableResultSettingsMap": {},
     "title": ""
    }
   },
   "source": [
    "13) More advanced examples\n",
    " - compute top-N per group\n",
    " - compute percentiles using expressions\n",
    " - using `.join` with expression-built keys\n",
    "\n",
    " Top-N per group: 'top 2 values per category'\n",
    " Approach: compute row_number over partition and then filter"
   ]
  },
  {
   "cell_type": "code",
   "execution_count": 0,
   "metadata": {
    "application/vnd.databricks.v1+cell": {
     "cellMetadata": {
      "byteLimit": 2048000,
      "rowLimit": 10000
     },
     "inputWidgets": {},
     "nuid": "e1d58334-3024-429d-888e-4460ac7f4482",
     "showTitle": false,
     "tableResultSettingsMap": {},
     "title": ""
    }
   },
   "outputs": [
    {
     "name": "stdout",
     "output_type": "stream",
     "text": [
      "shape: (6, 6)\n",
      "┌─────┬──────────┬───────┬─────────────────────┬────────────┬─────────────┐\n",
      "│ id  ┆ category ┆ value ┆ timestamp           ┆ small_list ┆ rank_in_cat │\n",
      "│ --- ┆ ---      ┆ ---   ┆ ---                 ┆ ---        ┆ ---         │\n",
      "│ i64 ┆ str      ┆ f64   ┆ datetime[μs]        ┆ list[i64]  ┆ u32         │\n",
      "╞═════╪══════════╪═══════╪═════════════════════╪════════════╪═════════════╡\n",
      "│ 5   ┆ A        ┆ 24.13 ┆ 2025-01-07 00:00:00 ┆ [1]        ┆ 1           │\n",
      "│ 6   ┆ A        ┆ 41.57 ┆ 2025-01-12 00:00:00 ┆ [1, 2]     ┆ 2           │\n",
      "│ 17  ┆ B        ┆ 32.74 ┆ 2025-01-02 00:00:00 ┆ [1]        ┆ 1           │\n",
      "│ 19  ┆ B        ┆ 40.99 ┆ 2025-01-06 00:00:00 ┆ [1, 2, 3]  ┆ 2           │\n",
      "│ 4   ┆ C        ┆ 21.3  ┆ 2025-01-28 00:00:00 ┆ []         ┆ 1           │\n",
      "│ 14  ┆ C        ┆ 28.63 ┆ 2025-01-18 00:00:00 ┆ [1, 2]     ┆ 2           │\n",
      "└─────┴──────────┴───────┴─────────────────────┴────────────┴─────────────┘\n"
     ]
    }
   ],
   "source": [
    "ranked = (\n",
    "    df\n",
    "    .with_columns(\n",
    "        pl.col(\"value\").rank(\"dense\").over(\"category\").alias(\"rank_in_cat\")\n",
    "    )\n",
    "    .filter(pl.col(\"rank_in_cat\") <= 2)\n",
    "    .sort([\"category\", \"rank_in_cat\"], descending=[False, False])\n",
    ")\n",
    "\n",
    "print(ranked)\n"
   ]
  },
  {
   "cell_type": "markdown",
   "metadata": {
    "application/vnd.databricks.v1+cell": {
     "cellMetadata": {},
     "inputWidgets": {},
     "nuid": "570393b8-a07c-408f-a303-e8d55c61a4cf",
     "showTitle": false,
     "tableResultSettingsMap": {},
     "title": ""
    }
   },
   "source": [
    " Compute percentiles per group (e.g. 75th percentile) using `quantile`"
   ]
  },
  {
   "cell_type": "code",
   "execution_count": 0,
   "metadata": {
    "application/vnd.databricks.v1+cell": {
     "cellMetadata": {
      "byteLimit": 2048000,
      "rowLimit": 10000
     },
     "inputWidgets": {},
     "nuid": "f184346a-4dce-40a1-96f2-2b424b60ac21",
     "showTitle": false,
     "tableResultSettingsMap": {},
     "title": ""
    }
   },
   "outputs": [
    {
     "data": {
      "text/html": [
       "<div><style>\n",
       ".dataframe > thead > tr,\n",
       ".dataframe > tbody > tr {\n",
       "  text-align: right;\n",
       "  white-space: pre-wrap;\n",
       "}\n",
       "</style>\n",
       "<small>shape: (3, 3)</small><table border=\"1\" class=\"dataframe\"><thead><tr><th>category</th><th>p75</th><th>median</th></tr><tr><td>str</td><td>f64</td><td>f64</td></tr></thead><tbody><tr><td>&quot;A&quot;</td><td>51.01</td><td>43.01</td></tr><tr><td>&quot;B&quot;</td><td>54.71</td><td>45.62</td></tr><tr><td>&quot;C&quot;</td><td>46.61</td><td>36.38</td></tr></tbody></table></div>"
      ],
      "text/plain": [
       "shape: (3, 3)\n",
       "┌──────────┬───────┬────────┐\n",
       "│ category ┆ p75   ┆ median │\n",
       "│ ---      ┆ ---   ┆ ---    │\n",
       "│ str      ┆ f64   ┆ f64    │\n",
       "╞══════════╪═══════╪════════╡\n",
       "│ A        ┆ 51.01 ┆ 43.01  │\n",
       "│ B        ┆ 54.71 ┆ 45.62  │\n",
       "│ C        ┆ 46.61 ┆ 36.38  │\n",
       "└──────────┴───────┴────────┘"
      ]
     },
     "execution_count": 53,
     "metadata": {},
     "output_type": "execute_result"
    }
   ],
   "source": [
    "(df\n",
    " .group_by(\"category\")\n",
    " .agg([\n",
    "     pl.col(\"value\").quantile(0.75).alias(\"p75\"),\n",
    "     pl.col(\"value\").quantile(0.5).alias(\"median\"),\n",
    " ])\n",
    ")\n"
   ]
  },
  {
   "cell_type": "markdown",
   "metadata": {
    "application/vnd.databricks.v1+cell": {
     "cellMetadata": {},
     "inputWidgets": {},
     "nuid": "35e61c53-770f-43cb-b0fe-80c8fe691e6e",
     "showTitle": false,
     "tableResultSettingsMap": {},
     "title": ""
    }
   },
   "source": [
    "Writing SQL-like code with expressions\n",
    " - Many users think in SQL. Polars expressions let you write the same ideas but in Python.\n",
    " - Examples: SQL `SELECT category, AVG(value) as avg_value FROM df WHERE value>20 GROUP BY category HAVING AVG(value) > 45 ORDER BY avg_value DESC LIMIT 10`\n"
   ]
  },
  {
   "cell_type": "code",
   "execution_count": 0,
   "metadata": {
    "application/vnd.databricks.v1+cell": {
     "cellMetadata": {
      "byteLimit": 2048000,
      "rowLimit": 10000
     },
     "inputWidgets": {},
     "nuid": "c1a0acfd-1cc5-4263-bc33-90d8b50b2d62",
     "showTitle": false,
     "tableResultSettingsMap": {},
     "title": ""
    }
   },
   "outputs": [
    {
     "data": {
      "text/html": [
       "<div><style>\n",
       ".dataframe > thead > tr,\n",
       ".dataframe > tbody > tr {\n",
       "  text-align: right;\n",
       "  white-space: pre-wrap;\n",
       "}\n",
       "</style>\n",
       "<small>shape: (1, 2)</small><table border=\"1\" class=\"dataframe\"><thead><tr><th>category</th><th>avg_value</th></tr><tr><td>str</td><td>f64</td></tr></thead><tbody><tr><td>&quot;B&quot;</td><td>45.255</td></tr></tbody></table></div>"
      ],
      "text/plain": [
       "shape: (1, 2)\n",
       "┌──────────┬───────────┐\n",
       "│ category ┆ avg_value │\n",
       "│ ---      ┆ ---       │\n",
       "│ str      ┆ f64       │\n",
       "╞══════════╪═══════════╡\n",
       "│ B        ┆ 45.255    │\n",
       "└──────────┴───────────┘"
      ]
     },
     "execution_count": 59,
     "metadata": {},
     "output_type": "execute_result"
    }
   ],
   "source": [
    "(\n",
    "    df.lazy()\n",
    "    .filter(pl.col(\"value\") > 20)\n",
    "    .group_by(\"category\")\n",
    "    .agg(pl.col(\"value\").mean().alias(\"avg_value\"))\n",
    "    .filter(pl.col(\"avg_value\") > 45)\n",
    "    .sort(\"avg_value\", descending=True)\n",
    "    .limit(10)\n",
    "    .collect()\n",
    ")\n"
   ]
  },
  {
   "cell_type": "code",
   "execution_count": 0,
   "metadata": {
    "application/vnd.databricks.v1+cell": {
     "cellMetadata": {},
     "inputWidgets": {},
     "nuid": "4540e12c-87b6-4d82-bd3c-722ec3188aa7",
     "showTitle": false,
     "tableResultSettingsMap": {},
     "title": ""
    }
   },
   "outputs": [],
   "source": []
  }
 ],
 "metadata": {
  "application/vnd.databricks.v1+notebook": {
   "computePreferences": null,
   "dashboards": [],
   "environmentMetadata": {
    "base_environment": "",
    "environment_version": "3"
   },
   "inputWidgetPreferences": null,
   "language": "python",
   "notebookMetadata": {
    "pythonIndentUnit": 4
   },
   "notebookName": "Polars_Analytical_Expressions",
   "widgets": {}
  },
  "language_info": {
   "name": "python"
  }
 },
 "nbformat": 4,
 "nbformat_minor": 0
}
